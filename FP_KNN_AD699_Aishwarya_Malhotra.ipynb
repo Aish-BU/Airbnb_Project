{
  "cells": [
    {
      "cell_type": "markdown",
      "id": "e2bd6d7c-7788-4688-8b57-81bf53992656",
      "metadata": {
        "id": "e2bd6d7c-7788-4688-8b57-81bf53992656"
      },
      "source": [
        "![boston-university-logo-9C93B75A4A-seeklogo.com.png](data:image/png;base64,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)"
      ]
    },
    {
      "cell_type": "markdown",
      "source": [
        "#**Final Project: Step III: Classification**\n",
        "\n",
        "---"
      ],
      "metadata": {
        "id": "yeurAkljpLnM"
      },
      "id": "yeurAkljpLnM"
    },
    {
      "cell_type": "markdown",
      "source": [
        "<h2>AD699 A3 Data Mining (Spring 2024)</div>"
      ],
      "metadata": {
        "id": "o2FU2yNIpoxK"
      },
      "id": "o2FU2yNIpoxK"
    },
    {
      "cell_type": "markdown",
      "id": "397014ec-8a7d-4567-86de-c5dab2853bbf",
      "metadata": {
        "id": "397014ec-8a7d-4567-86de-c5dab2853bbf"
      },
      "source": [
        "<div style=\"text-align: center\"> <h4>Submitted by: Aishwarya Malhotra (U17161095)</div>\n"
      ]
    },
    {
      "cell_type": "markdown",
      "id": "cdc70144-886e-49fb-b773-1e47af159d2a",
      "metadata": {
        "id": "cdc70144-886e-49fb-b773-1e47af159d2a"
      },
      "source": [
        "### Data Cleaning & Import"
      ]
    },
    {
      "cell_type": "code",
      "execution_count": 2,
      "id": "b6f2a1b5-f2c8-489c-ba06-57c1466fabe3",
      "metadata": {
        "id": "b6f2a1b5-f2c8-489c-ba06-57c1466fabe3",
        "colab": {
          "base_uri": "https://localhost:8080/"
        },
        "outputId": "2384fa26-4457-4614-e9d1-7cd9ed9f89b0"
      },
      "outputs": [
        {
          "output_type": "stream",
          "name": "stderr",
          "text": [
            "── \u001b[1mAttaching core tidyverse packages\u001b[22m ──────────────────────── tidyverse 2.0.0 ──\n",
            "\u001b[32m✔\u001b[39m \u001b[34mdplyr    \u001b[39m 1.1.4     \u001b[32m✔\u001b[39m \u001b[34mreadr    \u001b[39m 2.1.5\n",
            "\u001b[32m✔\u001b[39m \u001b[34mforcats  \u001b[39m 1.0.0     \u001b[32m✔\u001b[39m \u001b[34mstringr  \u001b[39m 1.5.1\n",
            "\u001b[32m✔\u001b[39m \u001b[34mggplot2  \u001b[39m 3.4.4     \u001b[32m✔\u001b[39m \u001b[34mtibble   \u001b[39m 3.2.1\n",
            "\u001b[32m✔\u001b[39m \u001b[34mlubridate\u001b[39m 1.9.3     \u001b[32m✔\u001b[39m \u001b[34mtidyr    \u001b[39m 1.3.1\n",
            "\u001b[32m✔\u001b[39m \u001b[34mpurrr    \u001b[39m 1.0.2     \n",
            "── \u001b[1mConflicts\u001b[22m ────────────────────────────────────────── tidyverse_conflicts() ──\n",
            "\u001b[31m✖\u001b[39m \u001b[34mpurrr\u001b[39m::\u001b[32m%||%()\u001b[39m   masks \u001b[34mbase\u001b[39m::%||%()\n",
            "\u001b[31m✖\u001b[39m \u001b[34mdplyr\u001b[39m::\u001b[32mfilter()\u001b[39m masks \u001b[34mstats\u001b[39m::filter()\n",
            "\u001b[31m✖\u001b[39m \u001b[34mdplyr\u001b[39m::\u001b[32mlag()\u001b[39m    masks \u001b[34mstats\u001b[39m::lag()\n",
            "\u001b[36mℹ\u001b[39m Use the conflicted package (\u001b[3m\u001b[34m<http://conflicted.r-lib.org/>\u001b[39m\u001b[23m) to force all conflicts to become errors\n"
          ]
        }
      ],
      "source": [
        "library(tidyverse)\n",
        "# don't show scientific notation\n",
        "options(scipen = 999)"
      ]
    },
    {
      "cell_type": "code",
      "execution_count": 5,
      "id": "d7f0cd90-b25f-4db9-8f75-cced06db406f",
      "metadata": {
        "scrolled": true,
        "id": "d7f0cd90-b25f-4db9-8f75-cced06db406f",
        "colab": {
          "base_uri": "https://localhost:8080/"
        },
        "outputId": "c5772af8-4108-4a06-be4d-7a14f13dd674"
      },
      "outputs": [
        {
          "output_type": "stream",
          "name": "stderr",
          "text": [
            "\u001b[1mRows: \u001b[22m\u001b[34m2534\u001b[39m \u001b[1mColumns: \u001b[22m\u001b[34m75\u001b[39m\n",
            "\u001b[36m──\u001b[39m \u001b[1mColumn specification\u001b[22m \u001b[36m────────────────────────────────────────────────────────\u001b[39m\n",
            "\u001b[1mDelimiter:\u001b[22m \",\"\n",
            "\u001b[31mchr\u001b[39m (30): listing_url, last_scraped, source, name, description, neighborhood...\n",
            "\u001b[32mdbl\u001b[39m (37): id, scrape_id, host_id, host_listings_count, host_total_listings_c...\n",
            "\u001b[33mlgl\u001b[39m  (8): host_is_superhost, host_has_profile_pic, host_identity_verified, b...\n",
            "\n",
            "\u001b[36mℹ\u001b[39m Use `spec()` to retrieve the full column specification for this data.\n",
            "\u001b[36mℹ\u001b[39m Specify the column types or set `show_col_types = FALSE` to quiet this message.\n"
          ]
        }
      ],
      "source": [
        "#read data\n",
        "zurich <- read_csv(\"zurich_listings_699.csv\")"
      ]
    },
    {
      "cell_type": "code",
      "source": [
        "install.packages(\"naniar\")\n",
        "library(naniar)\n"
      ],
      "metadata": {
        "colab": {
          "base_uri": "https://localhost:8080/"
        },
        "id": "v6KC9-cNyUpq",
        "outputId": "b87b1ddc-0e57-4a30-c002-88852512c55b"
      },
      "id": "v6KC9-cNyUpq",
      "execution_count": 74,
      "outputs": [
        {
          "output_type": "stream",
          "name": "stderr",
          "text": [
            "Installing package into ‘/usr/local/lib/R/site-library’\n",
            "(as ‘lib’ is unspecified)\n",
            "\n"
          ]
        }
      ]
    },
    {
      "cell_type": "code",
      "source": [
        "# remove cols with no value at all\n",
        "zurich1 <- zurich[,-c(7,36,38,50,69)]\n",
        "colSums(is.na(zurich1))\n",
        "\n",
        "\n",
        "test_cases <- complete.cases(zurich1)\n",
        "l <- sum(test_cases)\n",
        "percentage <- (l/nrow(zurich1))*100\n",
        "cat(\"percentage  and l\", percentage, l)\n",
        "library(naniar)\n",
        "missing_var <- miss_var_summary(zurich1)\n",
        "print(missing_var)\n",
        "\n",
        "\n",
        "# Review_score_value converted to factor and new variable is Review_value\n",
        "zurich1$review_scores_value[is.na(zurich1$review_scores_value)] <- 0\n",
        "summary(zurich1$review_scores_value)\n",
        "bins= c(-Inf,0,4,5)\n",
        "zurich1$review_value <- cut(zurich1$review_scores_value, breaks= bins, labels= c(\"No Reviews\", \"Poor Reviews\",\"Good Reviews\" ))\n",
        "table(zurich1$review_value)\n",
        "\n",
        "# Review_score_rating converted to factor and new variable is Review_rating\n",
        "zurich1$review_scores_rating[is.na(zurich1$review_scores_rating)] <- 0\n",
        "summary(zurich1$review_scores_rating)\n",
        "bins= c(-Inf,0,4,5)\n",
        "zurich1$review_rating <- cut(zurich1$review_scores_rating, breaks= bins, labels= c(\"No Reviews\", \"Poor Reviews\",\"Good Reviews\" ))\n",
        "table(zurich1$review_rating)\n",
        "\n",
        "# Review_score_rating converted to factor and new variable is Review_rating\n",
        "zurich1$review_scores_accuracy[is.na(zurich1$review_scores_accuracy)] <- 0\n",
        "summary(zurich1$review_scores_accuracy)\n",
        "bins= c(-Inf,0,4,5)\n",
        "zurich1$review_accuracy <- cut(zurich1$review_scores_accuracy, breaks= bins, labels= c(\"No Reviews\", \"Poor Reviews\",\"Good Reviews\" ))\n",
        "table(zurich1$review_accuracy)\n",
        "\n",
        "# Review_score_cleanliness  converted to factor and new variable is Review_cleanliness\n",
        "zurich1$review_scores_cleanliness [is.na(zurich1$review_scores_cleanliness )] <- 0\n",
        "summary(zurich1$review_scores_cleanliness )\n",
        "bins= c(-Inf,0,4,5)\n",
        "zurich1$review_cleanliness  <- cut(zurich1$review_scores_cleanliness , breaks= bins, labels= c(\"No Reviews\", \"Poor Reviews\",\"Good Reviews\" ))\n",
        "table(zurich1$review_cleanliness )\n",
        "\n",
        "# Review_score_checkin  converted to factor and new variable is Review_checkin\n",
        "zurich1$review_scores_checkin [is.na(zurich1$review_scores_checkin )] <- 0\n",
        "summary(zurich1$review_scores_checkin )\n",
        "bins= c(-Inf,0,4,5)\n",
        "zurich1$review_checkin  <- cut(zurich1$review_scores_checkin , breaks= bins, labels= c(\"No Reviews\", \"Poor Reviews\",\"Good Reviews\" ))\n",
        "table(zurich1$review_checkin )\n",
        "\n",
        "# Review_score_communication  converted to factor and new variable is Review_communication\n",
        "zurich1$review_scores_communication [is.na(zurich1$review_scores_communication )] <- 0\n",
        "summary(zurich1$review_scores_communication )\n",
        "bins= c(-Inf,0,4,5)\n",
        "zurich1$review_communication  <- cut(zurich1$review_scores_communication , breaks= bins, labels= c(\"No Reviews\", \"Poor Reviews\",\"Good Reviews\" ))\n",
        "table(zurich1$review_communication )\n",
        "\n",
        "# Review_score_location   converted to factor and new variable is Review_location\n",
        "zurich1$review_scores_location  [is.na(zurich1$review_scores_location  )] <- 0\n",
        "summary(zurich1$review_scores_location  )\n",
        "bins= c(-Inf,0,4,5)\n",
        "zurich1$review_location   <- cut(zurich1$review_scores_location  , breaks= bins, labels= c(\"No Reviews\", \"Poor Reviews\",\"Good Reviews\" ))\n",
        "table(zurich1$review_location  )\n",
        "\n",
        "# Removing redundant review scores\n",
        "\n",
        "zurich1 <- zurich1[,-c(58,59,60,61,62,63,64)]\n",
        "dim(zurich1)\n",
        "\n",
        "# EXTRACTING PRICE & BATHS\n",
        "zurich2 <- zurich1 %>%\n",
        "  mutate(NumPrice=as.numeric(gsub(\"[$,]\",\"\",zurich1$price))) %>%\n",
        "  mutate(baths=case_when(\n",
        "    grepl(\"(half).*\",  zurich1$bathrooms_text, ignore.case = TRUE) ~0.5,\n",
        "    TRUE ~ as.numeric(gsub(\"[^0-9.]+\",\"\",zurich1$bathrooms_text))\n",
        "  ))\n",
        "head(zurich2$NumPrice)\n",
        "colSums(is.na(zurich2))\n",
        "zurich2$baths <- ifelse(is.na(zurich2$baths), 1,zurich2$baths) # imputing the last na value\n",
        "\n",
        "\n",
        "#***To me removed later***\n",
        "# Imputing missing price values\n",
        "u_room_type<- unique(zurich2$room_type)\n",
        "u_property_type <- unique(zurich2$property_type)\n",
        "print(u_room_type)\n",
        "print(u_property_type)\n",
        "\n",
        "#***To me removed later***\n",
        "test_u_property_type <- zurich2 %>% filter(property_type==\"Casa particular\")\n",
        "test_u_room_type <- zurich2 %>% filter(room_type==\"Hotel room\")\n",
        "test_u_beds <- unique(zurich2$beds)\n",
        "table(test_u_beds)\n",
        "summary(test_u_beds)\n",
        "c<- mode(test_u_beds)\n",
        "print(c)\n",
        "\n",
        "#Imputing missing values in 'beds'\n",
        "zurich2$beds <- ifelse(is.na(zurich2$beds) & zurich2$room_type == \"Shared room\", zurich2$accommodates,\n",
        "                       ifelse(is.na(zurich2$beds) & zurich2$room_type %in% c(\"Private room\", \"Entire home/apt\") & zurich2$accommodates %in% 1:2, 1,\n",
        "                              ifelse(is.na(zurich2$beds) & zurich2$room_type %in% c(\"Private room\", \"Entire home/apt\") & zurich2$accommodates %in% 3:8, ceiling(zurich2$accommodates/2),\n",
        "                                     zurich2$beds)))\n",
        "\n",
        "colSums(is.na(zurich2))\n",
        "\n",
        "# Creating new variabales guests per bath and bed\n",
        "zurich_FE <- zurich2 %>% mutate(guestsPerBath= zurich2$accommodates/zurich2$baths) %>% mutate(guestsPerBed = zurich2$accommodates/zurich2$beds)\n",
        "head(zurich_FE,2)\n",
        "\n",
        "#***REDUNDANT STEP, REMOVE LATER****\n",
        "zurich2_price_nonas<- zurich2 %>% filter(!is.na(NumPrice))\n",
        "zurich2_price_nas<- zurich2 %>% filter(is.na(NumPrice))\n",
        "zurich2_beds_nonas <- zurich2 %>% filter(is.na(beds))\n",
        "price_imputing_mlr_model <- lm(NumPrice~neighbourhood_cleansed + neighbourhood_group_cleansed  + room_type +accommodates+beds, zurich2_price_nonas)\n",
        "step_mlr <- step(price_imputing_mlr_model,  method= \"backward\")\n",
        "summary(price_imputing_mlr_model)\n",
        "impute_price_preds <- predict(price_imputing_mlr_model,zurich2_price_nas)\n",
        "View(impute_price_preds)\n",
        "\n",
        "# Impute Price\n",
        "zurich_test <- zurich_FE %>% group_by(neighbourhood_group_cleansed,neighbourhood_cleansed, property_type,room_type, beds) %>% arrange(neighbourhood_group_cleansed,neighbourhood_cleansed, property_type,room_type, beds)\n",
        "\n",
        "zurich_imputed <- zurich_test %>% mutate(NumPrice= ifelse(is.na(NumPrice), mean(NumPrice, na.rm= TRUE), NumPrice))\n",
        "colSums(is.na(zurich_imputed))\n",
        "# Removing redundant price and bathrooms_text as new variales NumPrice and baths are created\n",
        "zurich_imputed <- zurich_imputed[,-c(35,38)]\n",
        "\n"
      ],
      "metadata": {
        "colab": {
          "base_uri": "https://localhost:8080/",
          "height": 1000
        },
        "id": "QRBFoj2hyIKH",
        "outputId": "66a4ccfb-30bd-4269-879d-e6f9f7e41028"
      },
      "id": "QRBFoj2hyIKH",
      "execution_count": 98,
      "outputs": [
        {
          "output_type": "display_data",
          "data": {
            "text/html": [
              "<style>\n",
              ".dl-inline {width: auto; margin:0; padding: 0}\n",
              ".dl-inline>dt, .dl-inline>dd {float: none; width: auto; display: inline-block}\n",
              ".dl-inline>dt::after {content: \":\\0020\"; padding-right: .5ex}\n",
              ".dl-inline>dt:not(:first-of-type) {padding-left: .5ex}\n",
              "</style><dl class=dl-inline><dt>id</dt><dd>0</dd><dt>listing_url</dt><dd>0</dd><dt>scrape_id</dt><dd>0</dd><dt>last_scraped</dt><dd>0</dd><dt>source</dt><dd>0</dd><dt>name</dt><dd>0</dd><dt>neighborhood_overview</dt><dd>1334</dd><dt>picture_url</dt><dd>0</dd><dt>host_id</dt><dd>0</dd><dt>host_url</dt><dd>0</dd><dt>host_name</dt><dd>0</dd><dt>host_since</dt><dd>0</dd><dt>host_location</dt><dd>442</dd><dt>host_about</dt><dd>992</dd><dt>host_response_time</dt><dd>0</dd><dt>host_response_rate</dt><dd>0</dd><dt>host_acceptance_rate</dt><dd>0</dd><dt>host_is_superhost</dt><dd>42</dd><dt>host_thumbnail_url</dt><dd>0</dd><dt>host_picture_url</dt><dd>0</dd><dt>host_neighbourhood</dt><dd>2499</dd><dt>host_listings_count</dt><dd>0</dd><dt>host_total_listings_count</dt><dd>0</dd><dt>host_verifications</dt><dd>0</dd><dt>host_has_profile_pic</dt><dd>0</dd><dt>host_identity_verified</dt><dd>0</dd><dt>neighbourhood</dt><dd>1334</dd><dt>neighbourhood_cleansed</dt><dd>0</dd><dt>neighbourhood_group_cleansed</dt><dd>0</dd><dt>latitude</dt><dd>0</dd><dt>longitude</dt><dd>0</dd><dt>property_type</dt><dd>0</dd><dt>room_type</dt><dd>0</dd><dt>accommodates</dt><dd>0</dd><dt>bathrooms_text</dt><dd>2</dd><dt>beds</dt><dd>44</dd><dt>amenities</dt><dd>0</dd><dt>price</dt><dd>0</dd><dt>minimum_nights</dt><dd>0</dd><dt>maximum_nights</dt><dd>0</dd><dt>minimum_minimum_nights</dt><dd>0</dd><dt>maximum_minimum_nights</dt><dd>0</dd><dt>minimum_maximum_nights</dt><dd>0</dd><dt>maximum_maximum_nights</dt><dd>0</dd><dt>minimum_nights_avg_ntm</dt><dd>0</dd><dt>maximum_nights_avg_ntm</dt><dd>0</dd><dt>has_availability</dt><dd>0</dd><dt>availability_30</dt><dd>0</dd><dt>availability_60</dt><dd>0</dd><dt>availability_90</dt><dd>0</dd><dt>availability_365</dt><dd>0</dd><dt>calendar_last_scraped</dt><dd>0</dd><dt>number_of_reviews</dt><dd>0</dd><dt>number_of_reviews_ltm</dt><dd>0</dd><dt>number_of_reviews_l30d</dt><dd>0</dd><dt>first_review</dt><dd>553</dd><dt>last_review</dt><dd>553</dd><dt>review_scores_rating</dt><dd>553</dd><dt>review_scores_accuracy</dt><dd>561</dd><dt>review_scores_cleanliness</dt><dd>561</dd><dt>review_scores_checkin</dt><dd>561</dd><dt>review_scores_communication</dt><dd>561</dd><dt>review_scores_location</dt><dd>561</dd><dt>review_scores_value</dt><dd>561</dd><dt>instant_bookable</dt><dd>0</dd><dt>calculated_host_listings_count</dt><dd>0</dd><dt>calculated_host_listings_count_entire_homes</dt><dd>0</dd><dt>calculated_host_listings_count_private_rooms</dt><dd>0</dd><dt>calculated_host_listings_count_shared_rooms</dt><dd>0</dd><dt>reviews_per_month</dt><dd>553</dd></dl>\n"
            ],
            "text/markdown": "id\n:   0listing_url\n:   0scrape_id\n:   0last_scraped\n:   0source\n:   0name\n:   0neighborhood_overview\n:   1334picture_url\n:   0host_id\n:   0host_url\n:   0host_name\n:   0host_since\n:   0host_location\n:   442host_about\n:   992host_response_time\n:   0host_response_rate\n:   0host_acceptance_rate\n:   0host_is_superhost\n:   42host_thumbnail_url\n:   0host_picture_url\n:   0host_neighbourhood\n:   2499host_listings_count\n:   0host_total_listings_count\n:   0host_verifications\n:   0host_has_profile_pic\n:   0host_identity_verified\n:   0neighbourhood\n:   1334neighbourhood_cleansed\n:   0neighbourhood_group_cleansed\n:   0latitude\n:   0longitude\n:   0property_type\n:   0room_type\n:   0accommodates\n:   0bathrooms_text\n:   2beds\n:   44amenities\n:   0price\n:   0minimum_nights\n:   0maximum_nights\n:   0minimum_minimum_nights\n:   0maximum_minimum_nights\n:   0minimum_maximum_nights\n:   0maximum_maximum_nights\n:   0minimum_nights_avg_ntm\n:   0maximum_nights_avg_ntm\n:   0has_availability\n:   0availability_30\n:   0availability_60\n:   0availability_90\n:   0availability_365\n:   0calendar_last_scraped\n:   0number_of_reviews\n:   0number_of_reviews_ltm\n:   0number_of_reviews_l30d\n:   0first_review\n:   553last_review\n:   553review_scores_rating\n:   553review_scores_accuracy\n:   561review_scores_cleanliness\n:   561review_scores_checkin\n:   561review_scores_communication\n:   561review_scores_location\n:   561review_scores_value\n:   561instant_bookable\n:   0calculated_host_listings_count\n:   0calculated_host_listings_count_entire_homes\n:   0calculated_host_listings_count_private_rooms\n:   0calculated_host_listings_count_shared_rooms\n:   0reviews_per_month\n:   553\n\n",
            "text/latex": "\\begin{description*}\n\\item[id] 0\n\\item[listing\\textbackslash{}\\_url] 0\n\\item[scrape\\textbackslash{}\\_id] 0\n\\item[last\\textbackslash{}\\_scraped] 0\n\\item[source] 0\n\\item[name] 0\n\\item[neighborhood\\textbackslash{}\\_overview] 1334\n\\item[picture\\textbackslash{}\\_url] 0\n\\item[host\\textbackslash{}\\_id] 0\n\\item[host\\textbackslash{}\\_url] 0\n\\item[host\\textbackslash{}\\_name] 0\n\\item[host\\textbackslash{}\\_since] 0\n\\item[host\\textbackslash{}\\_location] 442\n\\item[host\\textbackslash{}\\_about] 992\n\\item[host\\textbackslash{}\\_response\\textbackslash{}\\_time] 0\n\\item[host\\textbackslash{}\\_response\\textbackslash{}\\_rate] 0\n\\item[host\\textbackslash{}\\_acceptance\\textbackslash{}\\_rate] 0\n\\item[host\\textbackslash{}\\_is\\textbackslash{}\\_superhost] 42\n\\item[host\\textbackslash{}\\_thumbnail\\textbackslash{}\\_url] 0\n\\item[host\\textbackslash{}\\_picture\\textbackslash{}\\_url] 0\n\\item[host\\textbackslash{}\\_neighbourhood] 2499\n\\item[host\\textbackslash{}\\_listings\\textbackslash{}\\_count] 0\n\\item[host\\textbackslash{}\\_total\\textbackslash{}\\_listings\\textbackslash{}\\_count] 0\n\\item[host\\textbackslash{}\\_verifications] 0\n\\item[host\\textbackslash{}\\_has\\textbackslash{}\\_profile\\textbackslash{}\\_pic] 0\n\\item[host\\textbackslash{}\\_identity\\textbackslash{}\\_verified] 0\n\\item[neighbourhood] 1334\n\\item[neighbourhood\\textbackslash{}\\_cleansed] 0\n\\item[neighbourhood\\textbackslash{}\\_group\\textbackslash{}\\_cleansed] 0\n\\item[latitude] 0\n\\item[longitude] 0\n\\item[property\\textbackslash{}\\_type] 0\n\\item[room\\textbackslash{}\\_type] 0\n\\item[accommodates] 0\n\\item[bathrooms\\textbackslash{}\\_text] 2\n\\item[beds] 44\n\\item[amenities] 0\n\\item[price] 0\n\\item[minimum\\textbackslash{}\\_nights] 0\n\\item[maximum\\textbackslash{}\\_nights] 0\n\\item[minimum\\textbackslash{}\\_minimum\\textbackslash{}\\_nights] 0\n\\item[maximum\\textbackslash{}\\_minimum\\textbackslash{}\\_nights] 0\n\\item[minimum\\textbackslash{}\\_maximum\\textbackslash{}\\_nights] 0\n\\item[maximum\\textbackslash{}\\_maximum\\textbackslash{}\\_nights] 0\n\\item[minimum\\textbackslash{}\\_nights\\textbackslash{}\\_avg\\textbackslash{}\\_ntm] 0\n\\item[maximum\\textbackslash{}\\_nights\\textbackslash{}\\_avg\\textbackslash{}\\_ntm] 0\n\\item[has\\textbackslash{}\\_availability] 0\n\\item[availability\\textbackslash{}\\_30] 0\n\\item[availability\\textbackslash{}\\_60] 0\n\\item[availability\\textbackslash{}\\_90] 0\n\\item[availability\\textbackslash{}\\_365] 0\n\\item[calendar\\textbackslash{}\\_last\\textbackslash{}\\_scraped] 0\n\\item[number\\textbackslash{}\\_of\\textbackslash{}\\_reviews] 0\n\\item[number\\textbackslash{}\\_of\\textbackslash{}\\_reviews\\textbackslash{}\\_ltm] 0\n\\item[number\\textbackslash{}\\_of\\textbackslash{}\\_reviews\\textbackslash{}\\_l30d] 0\n\\item[first\\textbackslash{}\\_review] 553\n\\item[last\\textbackslash{}\\_review] 553\n\\item[review\\textbackslash{}\\_scores\\textbackslash{}\\_rating] 553\n\\item[review\\textbackslash{}\\_scores\\textbackslash{}\\_accuracy] 561\n\\item[review\\textbackslash{}\\_scores\\textbackslash{}\\_cleanliness] 561\n\\item[review\\textbackslash{}\\_scores\\textbackslash{}\\_checkin] 561\n\\item[review\\textbackslash{}\\_scores\\textbackslash{}\\_communication] 561\n\\item[review\\textbackslash{}\\_scores\\textbackslash{}\\_location] 561\n\\item[review\\textbackslash{}\\_scores\\textbackslash{}\\_value] 561\n\\item[instant\\textbackslash{}\\_bookable] 0\n\\item[calculated\\textbackslash{}\\_host\\textbackslash{}\\_listings\\textbackslash{}\\_count] 0\n\\item[calculated\\textbackslash{}\\_host\\textbackslash{}\\_listings\\textbackslash{}\\_count\\textbackslash{}\\_entire\\textbackslash{}\\_homes] 0\n\\item[calculated\\textbackslash{}\\_host\\textbackslash{}\\_listings\\textbackslash{}\\_count\\textbackslash{}\\_private\\textbackslash{}\\_rooms] 0\n\\item[calculated\\textbackslash{}\\_host\\textbackslash{}\\_listings\\textbackslash{}\\_count\\textbackslash{}\\_shared\\textbackslash{}\\_rooms] 0\n\\item[reviews\\textbackslash{}\\_per\\textbackslash{}\\_month] 553\n\\end{description*}\n",
            "text/plain": [
              "                                          id \n",
              "                                           0 \n",
              "                                 listing_url \n",
              "                                           0 \n",
              "                                   scrape_id \n",
              "                                           0 \n",
              "                                last_scraped \n",
              "                                           0 \n",
              "                                      source \n",
              "                                           0 \n",
              "                                        name \n",
              "                                           0 \n",
              "                       neighborhood_overview \n",
              "                                        1334 \n",
              "                                 picture_url \n",
              "                                           0 \n",
              "                                     host_id \n",
              "                                           0 \n",
              "                                    host_url \n",
              "                                           0 \n",
              "                                   host_name \n",
              "                                           0 \n",
              "                                  host_since \n",
              "                                           0 \n",
              "                               host_location \n",
              "                                         442 \n",
              "                                  host_about \n",
              "                                         992 \n",
              "                          host_response_time \n",
              "                                           0 \n",
              "                          host_response_rate \n",
              "                                           0 \n",
              "                        host_acceptance_rate \n",
              "                                           0 \n",
              "                           host_is_superhost \n",
              "                                          42 \n",
              "                          host_thumbnail_url \n",
              "                                           0 \n",
              "                            host_picture_url \n",
              "                                           0 \n",
              "                          host_neighbourhood \n",
              "                                        2499 \n",
              "                         host_listings_count \n",
              "                                           0 \n",
              "                   host_total_listings_count \n",
              "                                           0 \n",
              "                          host_verifications \n",
              "                                           0 \n",
              "                        host_has_profile_pic \n",
              "                                           0 \n",
              "                      host_identity_verified \n",
              "                                           0 \n",
              "                               neighbourhood \n",
              "                                        1334 \n",
              "                      neighbourhood_cleansed \n",
              "                                           0 \n",
              "                neighbourhood_group_cleansed \n",
              "                                           0 \n",
              "                                    latitude \n",
              "                                           0 \n",
              "                                   longitude \n",
              "                                           0 \n",
              "                               property_type \n",
              "                                           0 \n",
              "                                   room_type \n",
              "                                           0 \n",
              "                                accommodates \n",
              "                                           0 \n",
              "                              bathrooms_text \n",
              "                                           2 \n",
              "                                        beds \n",
              "                                          44 \n",
              "                                   amenities \n",
              "                                           0 \n",
              "                                       price \n",
              "                                           0 \n",
              "                              minimum_nights \n",
              "                                           0 \n",
              "                              maximum_nights \n",
              "                                           0 \n",
              "                      minimum_minimum_nights \n",
              "                                           0 \n",
              "                      maximum_minimum_nights \n",
              "                                           0 \n",
              "                      minimum_maximum_nights \n",
              "                                           0 \n",
              "                      maximum_maximum_nights \n",
              "                                           0 \n",
              "                      minimum_nights_avg_ntm \n",
              "                                           0 \n",
              "                      maximum_nights_avg_ntm \n",
              "                                           0 \n",
              "                            has_availability \n",
              "                                           0 \n",
              "                             availability_30 \n",
              "                                           0 \n",
              "                             availability_60 \n",
              "                                           0 \n",
              "                             availability_90 \n",
              "                                           0 \n",
              "                            availability_365 \n",
              "                                           0 \n",
              "                       calendar_last_scraped \n",
              "                                           0 \n",
              "                           number_of_reviews \n",
              "                                           0 \n",
              "                       number_of_reviews_ltm \n",
              "                                           0 \n",
              "                      number_of_reviews_l30d \n",
              "                                           0 \n",
              "                                first_review \n",
              "                                         553 \n",
              "                                 last_review \n",
              "                                         553 \n",
              "                        review_scores_rating \n",
              "                                         553 \n",
              "                      review_scores_accuracy \n",
              "                                         561 \n",
              "                   review_scores_cleanliness \n",
              "                                         561 \n",
              "                       review_scores_checkin \n",
              "                                         561 \n",
              "                 review_scores_communication \n",
              "                                         561 \n",
              "                      review_scores_location \n",
              "                                         561 \n",
              "                         review_scores_value \n",
              "                                         561 \n",
              "                            instant_bookable \n",
              "                                           0 \n",
              "              calculated_host_listings_count \n",
              "                                           0 \n",
              " calculated_host_listings_count_entire_homes \n",
              "                                           0 \n",
              "calculated_host_listings_count_private_rooms \n",
              "                                           0 \n",
              " calculated_host_listings_count_shared_rooms \n",
              "                                           0 \n",
              "                           reviews_per_month \n",
              "                                         553 "
            ]
          },
          "metadata": {}
        },
        {
          "output_type": "stream",
          "name": "stdout",
          "text": [
            "percentage  and l 0.394633 10\u001b[90m# A tibble: 70 × 3\u001b[39m\n",
            "   variable                    n_miss pct_miss\n",
            "   \u001b[3m\u001b[90m<chr>\u001b[39m\u001b[23m                        \u001b[3m\u001b[90m<int>\u001b[39m\u001b[23m    \u001b[3m\u001b[90m<num>\u001b[39m\u001b[23m\n",
            "\u001b[90m 1\u001b[39m host_neighbourhood            \u001b[4m2\u001b[24m499     98.6\n",
            "\u001b[90m 2\u001b[39m neighborhood_overview         \u001b[4m1\u001b[24m334     52.6\n",
            "\u001b[90m 3\u001b[39m neighbourhood                 \u001b[4m1\u001b[24m334     52.6\n",
            "\u001b[90m 4\u001b[39m host_about                     992     39.1\n",
            "\u001b[90m 5\u001b[39m review_scores_accuracy         561     22.1\n",
            "\u001b[90m 6\u001b[39m review_scores_cleanliness      561     22.1\n",
            "\u001b[90m 7\u001b[39m review_scores_checkin          561     22.1\n",
            "\u001b[90m 8\u001b[39m review_scores_communication    561     22.1\n",
            "\u001b[90m 9\u001b[39m review_scores_location         561     22.1\n",
            "\u001b[90m10\u001b[39m review_scores_value            561     22.1\n",
            "\u001b[90m# ℹ 60 more rows\u001b[39m\n"
          ]
        },
        {
          "output_type": "display_data",
          "data": {
            "text/plain": [
              "   Min. 1st Qu.  Median    Mean 3rd Qu.    Max. \n",
              "  0.000   3.880   4.610   3.608   4.840   5.000 "
            ]
          },
          "metadata": {}
        },
        {
          "output_type": "display_data",
          "data": {
            "text/plain": [
              "\n",
              "  No Reviews Poor Reviews Good Reviews \n",
              "         561          157         1816 "
            ]
          },
          "metadata": {}
        },
        {
          "output_type": "display_data",
          "data": {
            "text/plain": [
              "   Min. 1st Qu.  Median    Mean 3rd Qu.    Max. \n",
              "  0.000   4.000   4.770   3.703   5.000   5.000 "
            ]
          },
          "metadata": {}
        },
        {
          "output_type": "display_data",
          "data": {
            "text/plain": [
              "\n",
              "  No Reviews Poor Reviews Good Reviews \n",
              "         561           98         1875 "
            ]
          },
          "metadata": {}
        },
        {
          "output_type": "display_data",
          "data": {
            "text/plain": [
              "   Min. 1st Qu.  Median    Mean 3rd Qu.    Max. \n",
              "  0.000   4.000   4.820   3.731   5.000   5.000 "
            ]
          },
          "metadata": {}
        },
        {
          "output_type": "display_data",
          "data": {
            "text/plain": [
              "\n",
              "  No Reviews Poor Reviews Good Reviews \n",
              "         561           91         1882 "
            ]
          },
          "metadata": {}
        },
        {
          "output_type": "display_data",
          "data": {
            "text/plain": [
              "   Min. 1st Qu.  Median    Mean 3rd Qu.    Max. \n",
              "  0.000   4.000   4.780   3.706   5.000   5.000 "
            ]
          },
          "metadata": {}
        },
        {
          "output_type": "display_data",
          "data": {
            "text/plain": [
              "\n",
              "  No Reviews Poor Reviews Good Reviews \n",
              "         561          104         1869 "
            ]
          },
          "metadata": {}
        },
        {
          "output_type": "display_data",
          "data": {
            "text/plain": [
              "   Min. 1st Qu.  Median    Mean 3rd Qu.    Max. \n",
              "  0.000   4.250   4.880   3.773   5.000   5.000 "
            ]
          },
          "metadata": {}
        },
        {
          "output_type": "display_data",
          "data": {
            "text/plain": [
              "\n",
              "  No Reviews Poor Reviews Good Reviews \n",
              "         561           56         1917 "
            ]
          },
          "metadata": {}
        },
        {
          "output_type": "display_data",
          "data": {
            "text/plain": [
              "   Min. 1st Qu.  Median    Mean 3rd Qu.    Max. \n",
              "  0.000   4.320   4.890   3.778   5.000   5.000 "
            ]
          },
          "metadata": {}
        },
        {
          "output_type": "display_data",
          "data": {
            "text/plain": [
              "\n",
              "  No Reviews Poor Reviews Good Reviews \n",
              "         561           55         1918 "
            ]
          },
          "metadata": {}
        },
        {
          "output_type": "display_data",
          "data": {
            "text/plain": [
              "   Min. 1st Qu.  Median    Mean 3rd Qu.    Max. \n",
              "  0.000   4.000   4.800   3.733   5.000   5.000 "
            ]
          },
          "metadata": {}
        },
        {
          "output_type": "display_data",
          "data": {
            "text/plain": [
              "\n",
              "  No Reviews Poor Reviews Good Reviews \n",
              "         561           79         1894 "
            ]
          },
          "metadata": {}
        },
        {
          "output_type": "display_data",
          "data": {
            "text/html": [
              "<style>\n",
              ".list-inline {list-style: none; margin:0; padding: 0}\n",
              ".list-inline>li {display: inline-block}\n",
              ".list-inline>li:not(:last-child)::after {content: \"\\00b7\"; padding: 0 .5ex}\n",
              "</style>\n",
              "<ol class=list-inline><li>2534</li><li>70</li></ol>\n"
            ],
            "text/markdown": "1. 2534\n2. 70\n\n\n",
            "text/latex": "\\begin{enumerate*}\n\\item 2534\n\\item 70\n\\end{enumerate*}\n",
            "text/plain": [
              "[1] 2534   70"
            ]
          },
          "metadata": {}
        },
        {
          "output_type": "display_data",
          "data": {
            "text/html": [
              "<style>\n",
              ".list-inline {list-style: none; margin:0; padding: 0}\n",
              ".list-inline>li {display: inline-block}\n",
              ".list-inline>li:not(:last-child)::after {content: \"\\00b7\"; padding: 0 .5ex}\n",
              "</style>\n",
              "<ol class=list-inline><li>100</li><li>60</li><li>200</li><li>79</li><li>500</li><li>145</li></ol>\n"
            ],
            "text/markdown": "1. 100\n2. 60\n3. 200\n4. 79\n5. 500\n6. 145\n\n\n",
            "text/latex": "\\begin{enumerate*}\n\\item 100\n\\item 60\n\\item 200\n\\item 79\n\\item 500\n\\item 145\n\\end{enumerate*}\n",
            "text/plain": [
              "[1] 100  60 200  79 500 145"
            ]
          },
          "metadata": {}
        },
        {
          "output_type": "display_data",
          "data": {
            "text/html": [
              "<style>\n",
              ".dl-inline {width: auto; margin:0; padding: 0}\n",
              ".dl-inline>dt, .dl-inline>dd {float: none; width: auto; display: inline-block}\n",
              ".dl-inline>dt::after {content: \":\\0020\"; padding-right: .5ex}\n",
              ".dl-inline>dt:not(:first-of-type) {padding-left: .5ex}\n",
              "</style><dl class=dl-inline><dt>id</dt><dd>0</dd><dt>listing_url</dt><dd>0</dd><dt>scrape_id</dt><dd>0</dd><dt>last_scraped</dt><dd>0</dd><dt>source</dt><dd>0</dd><dt>name</dt><dd>0</dd><dt>neighborhood_overview</dt><dd>1334</dd><dt>picture_url</dt><dd>0</dd><dt>host_id</dt><dd>0</dd><dt>host_url</dt><dd>0</dd><dt>host_name</dt><dd>0</dd><dt>host_since</dt><dd>0</dd><dt>host_location</dt><dd>442</dd><dt>host_about</dt><dd>992</dd><dt>host_response_time</dt><dd>0</dd><dt>host_response_rate</dt><dd>0</dd><dt>host_acceptance_rate</dt><dd>0</dd><dt>host_is_superhost</dt><dd>42</dd><dt>host_thumbnail_url</dt><dd>0</dd><dt>host_picture_url</dt><dd>0</dd><dt>host_neighbourhood</dt><dd>2499</dd><dt>host_listings_count</dt><dd>0</dd><dt>host_total_listings_count</dt><dd>0</dd><dt>host_verifications</dt><dd>0</dd><dt>host_has_profile_pic</dt><dd>0</dd><dt>host_identity_verified</dt><dd>0</dd><dt>neighbourhood</dt><dd>1334</dd><dt>neighbourhood_cleansed</dt><dd>0</dd><dt>neighbourhood_group_cleansed</dt><dd>0</dd><dt>latitude</dt><dd>0</dd><dt>longitude</dt><dd>0</dd><dt>property_type</dt><dd>0</dd><dt>room_type</dt><dd>0</dd><dt>accommodates</dt><dd>0</dd><dt>bathrooms_text</dt><dd>2</dd><dt>beds</dt><dd>44</dd><dt>amenities</dt><dd>0</dd><dt>price</dt><dd>0</dd><dt>minimum_nights</dt><dd>0</dd><dt>maximum_nights</dt><dd>0</dd><dt>minimum_minimum_nights</dt><dd>0</dd><dt>maximum_minimum_nights</dt><dd>0</dd><dt>minimum_maximum_nights</dt><dd>0</dd><dt>maximum_maximum_nights</dt><dd>0</dd><dt>minimum_nights_avg_ntm</dt><dd>0</dd><dt>maximum_nights_avg_ntm</dt><dd>0</dd><dt>has_availability</dt><dd>0</dd><dt>availability_30</dt><dd>0</dd><dt>availability_60</dt><dd>0</dd><dt>availability_90</dt><dd>0</dd><dt>availability_365</dt><dd>0</dd><dt>calendar_last_scraped</dt><dd>0</dd><dt>number_of_reviews</dt><dd>0</dd><dt>number_of_reviews_ltm</dt><dd>0</dd><dt>number_of_reviews_l30d</dt><dd>0</dd><dt>first_review</dt><dd>553</dd><dt>last_review</dt><dd>553</dd><dt>instant_bookable</dt><dd>0</dd><dt>calculated_host_listings_count</dt><dd>0</dd><dt>calculated_host_listings_count_entire_homes</dt><dd>0</dd><dt>calculated_host_listings_count_private_rooms</dt><dd>0</dd><dt>calculated_host_listings_count_shared_rooms</dt><dd>0</dd><dt>reviews_per_month</dt><dd>553</dd><dt>review_value</dt><dd>0</dd><dt>review_rating</dt><dd>0</dd><dt>review_accuracy</dt><dd>0</dd><dt>review_cleanliness</dt><dd>0</dd><dt>review_checkin</dt><dd>0</dd><dt>review_communication</dt><dd>0</dd><dt>review_location</dt><dd>0</dd><dt>NumPrice</dt><dd>0</dd><dt>baths</dt><dd>2</dd></dl>\n"
            ],
            "text/markdown": "id\n:   0listing_url\n:   0scrape_id\n:   0last_scraped\n:   0source\n:   0name\n:   0neighborhood_overview\n:   1334picture_url\n:   0host_id\n:   0host_url\n:   0host_name\n:   0host_since\n:   0host_location\n:   442host_about\n:   992host_response_time\n:   0host_response_rate\n:   0host_acceptance_rate\n:   0host_is_superhost\n:   42host_thumbnail_url\n:   0host_picture_url\n:   0host_neighbourhood\n:   2499host_listings_count\n:   0host_total_listings_count\n:   0host_verifications\n:   0host_has_profile_pic\n:   0host_identity_verified\n:   0neighbourhood\n:   1334neighbourhood_cleansed\n:   0neighbourhood_group_cleansed\n:   0latitude\n:   0longitude\n:   0property_type\n:   0room_type\n:   0accommodates\n:   0bathrooms_text\n:   2beds\n:   44amenities\n:   0price\n:   0minimum_nights\n:   0maximum_nights\n:   0minimum_minimum_nights\n:   0maximum_minimum_nights\n:   0minimum_maximum_nights\n:   0maximum_maximum_nights\n:   0minimum_nights_avg_ntm\n:   0maximum_nights_avg_ntm\n:   0has_availability\n:   0availability_30\n:   0availability_60\n:   0availability_90\n:   0availability_365\n:   0calendar_last_scraped\n:   0number_of_reviews\n:   0number_of_reviews_ltm\n:   0number_of_reviews_l30d\n:   0first_review\n:   553last_review\n:   553instant_bookable\n:   0calculated_host_listings_count\n:   0calculated_host_listings_count_entire_homes\n:   0calculated_host_listings_count_private_rooms\n:   0calculated_host_listings_count_shared_rooms\n:   0reviews_per_month\n:   553review_value\n:   0review_rating\n:   0review_accuracy\n:   0review_cleanliness\n:   0review_checkin\n:   0review_communication\n:   0review_location\n:   0NumPrice\n:   0baths\n:   2\n\n",
            "text/latex": "\\begin{description*}\n\\item[id] 0\n\\item[listing\\textbackslash{}\\_url] 0\n\\item[scrape\\textbackslash{}\\_id] 0\n\\item[last\\textbackslash{}\\_scraped] 0\n\\item[source] 0\n\\item[name] 0\n\\item[neighborhood\\textbackslash{}\\_overview] 1334\n\\item[picture\\textbackslash{}\\_url] 0\n\\item[host\\textbackslash{}\\_id] 0\n\\item[host\\textbackslash{}\\_url] 0\n\\item[host\\textbackslash{}\\_name] 0\n\\item[host\\textbackslash{}\\_since] 0\n\\item[host\\textbackslash{}\\_location] 442\n\\item[host\\textbackslash{}\\_about] 992\n\\item[host\\textbackslash{}\\_response\\textbackslash{}\\_time] 0\n\\item[host\\textbackslash{}\\_response\\textbackslash{}\\_rate] 0\n\\item[host\\textbackslash{}\\_acceptance\\textbackslash{}\\_rate] 0\n\\item[host\\textbackslash{}\\_is\\textbackslash{}\\_superhost] 42\n\\item[host\\textbackslash{}\\_thumbnail\\textbackslash{}\\_url] 0\n\\item[host\\textbackslash{}\\_picture\\textbackslash{}\\_url] 0\n\\item[host\\textbackslash{}\\_neighbourhood] 2499\n\\item[host\\textbackslash{}\\_listings\\textbackslash{}\\_count] 0\n\\item[host\\textbackslash{}\\_total\\textbackslash{}\\_listings\\textbackslash{}\\_count] 0\n\\item[host\\textbackslash{}\\_verifications] 0\n\\item[host\\textbackslash{}\\_has\\textbackslash{}\\_profile\\textbackslash{}\\_pic] 0\n\\item[host\\textbackslash{}\\_identity\\textbackslash{}\\_verified] 0\n\\item[neighbourhood] 1334\n\\item[neighbourhood\\textbackslash{}\\_cleansed] 0\n\\item[neighbourhood\\textbackslash{}\\_group\\textbackslash{}\\_cleansed] 0\n\\item[latitude] 0\n\\item[longitude] 0\n\\item[property\\textbackslash{}\\_type] 0\n\\item[room\\textbackslash{}\\_type] 0\n\\item[accommodates] 0\n\\item[bathrooms\\textbackslash{}\\_text] 2\n\\item[beds] 44\n\\item[amenities] 0\n\\item[price] 0\n\\item[minimum\\textbackslash{}\\_nights] 0\n\\item[maximum\\textbackslash{}\\_nights] 0\n\\item[minimum\\textbackslash{}\\_minimum\\textbackslash{}\\_nights] 0\n\\item[maximum\\textbackslash{}\\_minimum\\textbackslash{}\\_nights] 0\n\\item[minimum\\textbackslash{}\\_maximum\\textbackslash{}\\_nights] 0\n\\item[maximum\\textbackslash{}\\_maximum\\textbackslash{}\\_nights] 0\n\\item[minimum\\textbackslash{}\\_nights\\textbackslash{}\\_avg\\textbackslash{}\\_ntm] 0\n\\item[maximum\\textbackslash{}\\_nights\\textbackslash{}\\_avg\\textbackslash{}\\_ntm] 0\n\\item[has\\textbackslash{}\\_availability] 0\n\\item[availability\\textbackslash{}\\_30] 0\n\\item[availability\\textbackslash{}\\_60] 0\n\\item[availability\\textbackslash{}\\_90] 0\n\\item[availability\\textbackslash{}\\_365] 0\n\\item[calendar\\textbackslash{}\\_last\\textbackslash{}\\_scraped] 0\n\\item[number\\textbackslash{}\\_of\\textbackslash{}\\_reviews] 0\n\\item[number\\textbackslash{}\\_of\\textbackslash{}\\_reviews\\textbackslash{}\\_ltm] 0\n\\item[number\\textbackslash{}\\_of\\textbackslash{}\\_reviews\\textbackslash{}\\_l30d] 0\n\\item[first\\textbackslash{}\\_review] 553\n\\item[last\\textbackslash{}\\_review] 553\n\\item[instant\\textbackslash{}\\_bookable] 0\n\\item[calculated\\textbackslash{}\\_host\\textbackslash{}\\_listings\\textbackslash{}\\_count] 0\n\\item[calculated\\textbackslash{}\\_host\\textbackslash{}\\_listings\\textbackslash{}\\_count\\textbackslash{}\\_entire\\textbackslash{}\\_homes] 0\n\\item[calculated\\textbackslash{}\\_host\\textbackslash{}\\_listings\\textbackslash{}\\_count\\textbackslash{}\\_private\\textbackslash{}\\_rooms] 0\n\\item[calculated\\textbackslash{}\\_host\\textbackslash{}\\_listings\\textbackslash{}\\_count\\textbackslash{}\\_shared\\textbackslash{}\\_rooms] 0\n\\item[reviews\\textbackslash{}\\_per\\textbackslash{}\\_month] 553\n\\item[review\\textbackslash{}\\_value] 0\n\\item[review\\textbackslash{}\\_rating] 0\n\\item[review\\textbackslash{}\\_accuracy] 0\n\\item[review\\textbackslash{}\\_cleanliness] 0\n\\item[review\\textbackslash{}\\_checkin] 0\n\\item[review\\textbackslash{}\\_communication] 0\n\\item[review\\textbackslash{}\\_location] 0\n\\item[NumPrice] 0\n\\item[baths] 2\n\\end{description*}\n",
            "text/plain": [
              "                                          id \n",
              "                                           0 \n",
              "                                 listing_url \n",
              "                                           0 \n",
              "                                   scrape_id \n",
              "                                           0 \n",
              "                                last_scraped \n",
              "                                           0 \n",
              "                                      source \n",
              "                                           0 \n",
              "                                        name \n",
              "                                           0 \n",
              "                       neighborhood_overview \n",
              "                                        1334 \n",
              "                                 picture_url \n",
              "                                           0 \n",
              "                                     host_id \n",
              "                                           0 \n",
              "                                    host_url \n",
              "                                           0 \n",
              "                                   host_name \n",
              "                                           0 \n",
              "                                  host_since \n",
              "                                           0 \n",
              "                               host_location \n",
              "                                         442 \n",
              "                                  host_about \n",
              "                                         992 \n",
              "                          host_response_time \n",
              "                                           0 \n",
              "                          host_response_rate \n",
              "                                           0 \n",
              "                        host_acceptance_rate \n",
              "                                           0 \n",
              "                           host_is_superhost \n",
              "                                          42 \n",
              "                          host_thumbnail_url \n",
              "                                           0 \n",
              "                            host_picture_url \n",
              "                                           0 \n",
              "                          host_neighbourhood \n",
              "                                        2499 \n",
              "                         host_listings_count \n",
              "                                           0 \n",
              "                   host_total_listings_count \n",
              "                                           0 \n",
              "                          host_verifications \n",
              "                                           0 \n",
              "                        host_has_profile_pic \n",
              "                                           0 \n",
              "                      host_identity_verified \n",
              "                                           0 \n",
              "                               neighbourhood \n",
              "                                        1334 \n",
              "                      neighbourhood_cleansed \n",
              "                                           0 \n",
              "                neighbourhood_group_cleansed \n",
              "                                           0 \n",
              "                                    latitude \n",
              "                                           0 \n",
              "                                   longitude \n",
              "                                           0 \n",
              "                               property_type \n",
              "                                           0 \n",
              "                                   room_type \n",
              "                                           0 \n",
              "                                accommodates \n",
              "                                           0 \n",
              "                              bathrooms_text \n",
              "                                           2 \n",
              "                                        beds \n",
              "                                          44 \n",
              "                                   amenities \n",
              "                                           0 \n",
              "                                       price \n",
              "                                           0 \n",
              "                              minimum_nights \n",
              "                                           0 \n",
              "                              maximum_nights \n",
              "                                           0 \n",
              "                      minimum_minimum_nights \n",
              "                                           0 \n",
              "                      maximum_minimum_nights \n",
              "                                           0 \n",
              "                      minimum_maximum_nights \n",
              "                                           0 \n",
              "                      maximum_maximum_nights \n",
              "                                           0 \n",
              "                      minimum_nights_avg_ntm \n",
              "                                           0 \n",
              "                      maximum_nights_avg_ntm \n",
              "                                           0 \n",
              "                            has_availability \n",
              "                                           0 \n",
              "                             availability_30 \n",
              "                                           0 \n",
              "                             availability_60 \n",
              "                                           0 \n",
              "                             availability_90 \n",
              "                                           0 \n",
              "                            availability_365 \n",
              "                                           0 \n",
              "                       calendar_last_scraped \n",
              "                                           0 \n",
              "                           number_of_reviews \n",
              "                                           0 \n",
              "                       number_of_reviews_ltm \n",
              "                                           0 \n",
              "                      number_of_reviews_l30d \n",
              "                                           0 \n",
              "                                first_review \n",
              "                                         553 \n",
              "                                 last_review \n",
              "                                         553 \n",
              "                            instant_bookable \n",
              "                                           0 \n",
              "              calculated_host_listings_count \n",
              "                                           0 \n",
              " calculated_host_listings_count_entire_homes \n",
              "                                           0 \n",
              "calculated_host_listings_count_private_rooms \n",
              "                                           0 \n",
              " calculated_host_listings_count_shared_rooms \n",
              "                                           0 \n",
              "                           reviews_per_month \n",
              "                                         553 \n",
              "                                review_value \n",
              "                                           0 \n",
              "                               review_rating \n",
              "                                           0 \n",
              "                             review_accuracy \n",
              "                                           0 \n",
              "                          review_cleanliness \n",
              "                                           0 \n",
              "                              review_checkin \n",
              "                                           0 \n",
              "                        review_communication \n",
              "                                           0 \n",
              "                             review_location \n",
              "                                           0 \n",
              "                                    NumPrice \n",
              "                                           0 \n",
              "                                       baths \n",
              "                                           2 "
            ]
          },
          "metadata": {}
        },
        {
          "output_type": "stream",
          "name": "stdout",
          "text": [
            "[1] \"Entire home/apt\" \"Private room\"    \"Hotel room\"      \"Shared room\"    \n",
            " [1] \"Entire rental unit\"                 \"Private room in rental unit\"       \n",
            " [3] \"Private room in home\"               \"Entire loft\"                       \n",
            " [5] \"Entire condo\"                       \"Entire home\"                       \n",
            " [7] \"Private room in castle\"             \"Private room in condo\"             \n",
            " [9] \"Private room in townhouse\"          \"Entire serviced apartment\"         \n",
            "[11] \"Private room in hut\"                \"Private room in guesthouse\"        \n",
            "[13] \"Private room in villa\"              \"Tiny home\"                         \n",
            "[15] \"Room in boutique hotel\"             \"Private room in loft\"              \n",
            "[17] \"Private room in bed and breakfast\"  \"Entire townhouse\"                  \n",
            "[19] \"Entire guest suite\"                 \"Entire villa\"                      \n",
            "[21] \"Shared room in hostel\"              \"Room in serviced apartment\"        \n",
            "[23] \"Shared room in rental unit\"         \"Room in bed and breakfast\"         \n",
            "[25] \"Room in hotel\"                      \"Entire guesthouse\"                 \n",
            "[27] \"Private room in serviced apartment\" \"Barn\"                              \n",
            "[29] \"Private room in cabin\"              \"Private room\"                      \n",
            "[31] \"Entire vacation home\"               \"Private room in chalet\"            \n",
            "[33] \"Camper/RV\"                          \"Private room in casa particular\"   \n",
            "[35] \"Casa particular\"                    \"Shared room in home\"               \n",
            "[37] \"Shared room in hotel\"              \n"
          ]
        },
        {
          "output_type": "display_data",
          "data": {
            "text/plain": [
              "test_u_beds\n",
              " 1  2  3  4  5  6  7  8  9 10 18 32 \n",
              " 1  1  1  1  1  1  1  1  1  1  1  1 "
            ]
          },
          "metadata": {}
        },
        {
          "output_type": "display_data",
          "data": {
            "text/plain": [
              "   Min. 1st Qu.  Median    Mean 3rd Qu.    Max.    NA's \n",
              "   1.00    3.75    6.50    8.75    9.25   32.00       1 "
            ]
          },
          "metadata": {}
        },
        {
          "output_type": "stream",
          "name": "stdout",
          "text": [
            "[1] \"numeric\"\n"
          ]
        },
        {
          "output_type": "display_data",
          "data": {
            "text/html": [
              "<style>\n",
              ".dl-inline {width: auto; margin:0; padding: 0}\n",
              ".dl-inline>dt, .dl-inline>dd {float: none; width: auto; display: inline-block}\n",
              ".dl-inline>dt::after {content: \":\\0020\"; padding-right: .5ex}\n",
              ".dl-inline>dt:not(:first-of-type) {padding-left: .5ex}\n",
              "</style><dl class=dl-inline><dt>id</dt><dd>0</dd><dt>listing_url</dt><dd>0</dd><dt>scrape_id</dt><dd>0</dd><dt>last_scraped</dt><dd>0</dd><dt>source</dt><dd>0</dd><dt>name</dt><dd>0</dd><dt>neighborhood_overview</dt><dd>1334</dd><dt>picture_url</dt><dd>0</dd><dt>host_id</dt><dd>0</dd><dt>host_url</dt><dd>0</dd><dt>host_name</dt><dd>0</dd><dt>host_since</dt><dd>0</dd><dt>host_location</dt><dd>442</dd><dt>host_about</dt><dd>992</dd><dt>host_response_time</dt><dd>0</dd><dt>host_response_rate</dt><dd>0</dd><dt>host_acceptance_rate</dt><dd>0</dd><dt>host_is_superhost</dt><dd>42</dd><dt>host_thumbnail_url</dt><dd>0</dd><dt>host_picture_url</dt><dd>0</dd><dt>host_neighbourhood</dt><dd>2499</dd><dt>host_listings_count</dt><dd>0</dd><dt>host_total_listings_count</dt><dd>0</dd><dt>host_verifications</dt><dd>0</dd><dt>host_has_profile_pic</dt><dd>0</dd><dt>host_identity_verified</dt><dd>0</dd><dt>neighbourhood</dt><dd>1334</dd><dt>neighbourhood_cleansed</dt><dd>0</dd><dt>neighbourhood_group_cleansed</dt><dd>0</dd><dt>latitude</dt><dd>0</dd><dt>longitude</dt><dd>0</dd><dt>property_type</dt><dd>0</dd><dt>room_type</dt><dd>0</dd><dt>accommodates</dt><dd>0</dd><dt>bathrooms_text</dt><dd>2</dd><dt>beds</dt><dd>0</dd><dt>amenities</dt><dd>0</dd><dt>price</dt><dd>0</dd><dt>minimum_nights</dt><dd>0</dd><dt>maximum_nights</dt><dd>0</dd><dt>minimum_minimum_nights</dt><dd>0</dd><dt>maximum_minimum_nights</dt><dd>0</dd><dt>minimum_maximum_nights</dt><dd>0</dd><dt>maximum_maximum_nights</dt><dd>0</dd><dt>minimum_nights_avg_ntm</dt><dd>0</dd><dt>maximum_nights_avg_ntm</dt><dd>0</dd><dt>has_availability</dt><dd>0</dd><dt>availability_30</dt><dd>0</dd><dt>availability_60</dt><dd>0</dd><dt>availability_90</dt><dd>0</dd><dt>availability_365</dt><dd>0</dd><dt>calendar_last_scraped</dt><dd>0</dd><dt>number_of_reviews</dt><dd>0</dd><dt>number_of_reviews_ltm</dt><dd>0</dd><dt>number_of_reviews_l30d</dt><dd>0</dd><dt>first_review</dt><dd>553</dd><dt>last_review</dt><dd>553</dd><dt>instant_bookable</dt><dd>0</dd><dt>calculated_host_listings_count</dt><dd>0</dd><dt>calculated_host_listings_count_entire_homes</dt><dd>0</dd><dt>calculated_host_listings_count_private_rooms</dt><dd>0</dd><dt>calculated_host_listings_count_shared_rooms</dt><dd>0</dd><dt>reviews_per_month</dt><dd>553</dd><dt>review_value</dt><dd>0</dd><dt>review_rating</dt><dd>0</dd><dt>review_accuracy</dt><dd>0</dd><dt>review_cleanliness</dt><dd>0</dd><dt>review_checkin</dt><dd>0</dd><dt>review_communication</dt><dd>0</dd><dt>review_location</dt><dd>0</dd><dt>NumPrice</dt><dd>0</dd><dt>baths</dt><dd>0</dd></dl>\n"
            ],
            "text/markdown": "id\n:   0listing_url\n:   0scrape_id\n:   0last_scraped\n:   0source\n:   0name\n:   0neighborhood_overview\n:   1334picture_url\n:   0host_id\n:   0host_url\n:   0host_name\n:   0host_since\n:   0host_location\n:   442host_about\n:   992host_response_time\n:   0host_response_rate\n:   0host_acceptance_rate\n:   0host_is_superhost\n:   42host_thumbnail_url\n:   0host_picture_url\n:   0host_neighbourhood\n:   2499host_listings_count\n:   0host_total_listings_count\n:   0host_verifications\n:   0host_has_profile_pic\n:   0host_identity_verified\n:   0neighbourhood\n:   1334neighbourhood_cleansed\n:   0neighbourhood_group_cleansed\n:   0latitude\n:   0longitude\n:   0property_type\n:   0room_type\n:   0accommodates\n:   0bathrooms_text\n:   2beds\n:   0amenities\n:   0price\n:   0minimum_nights\n:   0maximum_nights\n:   0minimum_minimum_nights\n:   0maximum_minimum_nights\n:   0minimum_maximum_nights\n:   0maximum_maximum_nights\n:   0minimum_nights_avg_ntm\n:   0maximum_nights_avg_ntm\n:   0has_availability\n:   0availability_30\n:   0availability_60\n:   0availability_90\n:   0availability_365\n:   0calendar_last_scraped\n:   0number_of_reviews\n:   0number_of_reviews_ltm\n:   0number_of_reviews_l30d\n:   0first_review\n:   553last_review\n:   553instant_bookable\n:   0calculated_host_listings_count\n:   0calculated_host_listings_count_entire_homes\n:   0calculated_host_listings_count_private_rooms\n:   0calculated_host_listings_count_shared_rooms\n:   0reviews_per_month\n:   553review_value\n:   0review_rating\n:   0review_accuracy\n:   0review_cleanliness\n:   0review_checkin\n:   0review_communication\n:   0review_location\n:   0NumPrice\n:   0baths\n:   0\n\n",
            "text/latex": "\\begin{description*}\n\\item[id] 0\n\\item[listing\\textbackslash{}\\_url] 0\n\\item[scrape\\textbackslash{}\\_id] 0\n\\item[last\\textbackslash{}\\_scraped] 0\n\\item[source] 0\n\\item[name] 0\n\\item[neighborhood\\textbackslash{}\\_overview] 1334\n\\item[picture\\textbackslash{}\\_url] 0\n\\item[host\\textbackslash{}\\_id] 0\n\\item[host\\textbackslash{}\\_url] 0\n\\item[host\\textbackslash{}\\_name] 0\n\\item[host\\textbackslash{}\\_since] 0\n\\item[host\\textbackslash{}\\_location] 442\n\\item[host\\textbackslash{}\\_about] 992\n\\item[host\\textbackslash{}\\_response\\textbackslash{}\\_time] 0\n\\item[host\\textbackslash{}\\_response\\textbackslash{}\\_rate] 0\n\\item[host\\textbackslash{}\\_acceptance\\textbackslash{}\\_rate] 0\n\\item[host\\textbackslash{}\\_is\\textbackslash{}\\_superhost] 42\n\\item[host\\textbackslash{}\\_thumbnail\\textbackslash{}\\_url] 0\n\\item[host\\textbackslash{}\\_picture\\textbackslash{}\\_url] 0\n\\item[host\\textbackslash{}\\_neighbourhood] 2499\n\\item[host\\textbackslash{}\\_listings\\textbackslash{}\\_count] 0\n\\item[host\\textbackslash{}\\_total\\textbackslash{}\\_listings\\textbackslash{}\\_count] 0\n\\item[host\\textbackslash{}\\_verifications] 0\n\\item[host\\textbackslash{}\\_has\\textbackslash{}\\_profile\\textbackslash{}\\_pic] 0\n\\item[host\\textbackslash{}\\_identity\\textbackslash{}\\_verified] 0\n\\item[neighbourhood] 1334\n\\item[neighbourhood\\textbackslash{}\\_cleansed] 0\n\\item[neighbourhood\\textbackslash{}\\_group\\textbackslash{}\\_cleansed] 0\n\\item[latitude] 0\n\\item[longitude] 0\n\\item[property\\textbackslash{}\\_type] 0\n\\item[room\\textbackslash{}\\_type] 0\n\\item[accommodates] 0\n\\item[bathrooms\\textbackslash{}\\_text] 2\n\\item[beds] 0\n\\item[amenities] 0\n\\item[price] 0\n\\item[minimum\\textbackslash{}\\_nights] 0\n\\item[maximum\\textbackslash{}\\_nights] 0\n\\item[minimum\\textbackslash{}\\_minimum\\textbackslash{}\\_nights] 0\n\\item[maximum\\textbackslash{}\\_minimum\\textbackslash{}\\_nights] 0\n\\item[minimum\\textbackslash{}\\_maximum\\textbackslash{}\\_nights] 0\n\\item[maximum\\textbackslash{}\\_maximum\\textbackslash{}\\_nights] 0\n\\item[minimum\\textbackslash{}\\_nights\\textbackslash{}\\_avg\\textbackslash{}\\_ntm] 0\n\\item[maximum\\textbackslash{}\\_nights\\textbackslash{}\\_avg\\textbackslash{}\\_ntm] 0\n\\item[has\\textbackslash{}\\_availability] 0\n\\item[availability\\textbackslash{}\\_30] 0\n\\item[availability\\textbackslash{}\\_60] 0\n\\item[availability\\textbackslash{}\\_90] 0\n\\item[availability\\textbackslash{}\\_365] 0\n\\item[calendar\\textbackslash{}\\_last\\textbackslash{}\\_scraped] 0\n\\item[number\\textbackslash{}\\_of\\textbackslash{}\\_reviews] 0\n\\item[number\\textbackslash{}\\_of\\textbackslash{}\\_reviews\\textbackslash{}\\_ltm] 0\n\\item[number\\textbackslash{}\\_of\\textbackslash{}\\_reviews\\textbackslash{}\\_l30d] 0\n\\item[first\\textbackslash{}\\_review] 553\n\\item[last\\textbackslash{}\\_review] 553\n\\item[instant\\textbackslash{}\\_bookable] 0\n\\item[calculated\\textbackslash{}\\_host\\textbackslash{}\\_listings\\textbackslash{}\\_count] 0\n\\item[calculated\\textbackslash{}\\_host\\textbackslash{}\\_listings\\textbackslash{}\\_count\\textbackslash{}\\_entire\\textbackslash{}\\_homes] 0\n\\item[calculated\\textbackslash{}\\_host\\textbackslash{}\\_listings\\textbackslash{}\\_count\\textbackslash{}\\_private\\textbackslash{}\\_rooms] 0\n\\item[calculated\\textbackslash{}\\_host\\textbackslash{}\\_listings\\textbackslash{}\\_count\\textbackslash{}\\_shared\\textbackslash{}\\_rooms] 0\n\\item[reviews\\textbackslash{}\\_per\\textbackslash{}\\_month] 553\n\\item[review\\textbackslash{}\\_value] 0\n\\item[review\\textbackslash{}\\_rating] 0\n\\item[review\\textbackslash{}\\_accuracy] 0\n\\item[review\\textbackslash{}\\_cleanliness] 0\n\\item[review\\textbackslash{}\\_checkin] 0\n\\item[review\\textbackslash{}\\_communication] 0\n\\item[review\\textbackslash{}\\_location] 0\n\\item[NumPrice] 0\n\\item[baths] 0\n\\end{description*}\n",
            "text/plain": [
              "                                          id \n",
              "                                           0 \n",
              "                                 listing_url \n",
              "                                           0 \n",
              "                                   scrape_id \n",
              "                                           0 \n",
              "                                last_scraped \n",
              "                                           0 \n",
              "                                      source \n",
              "                                           0 \n",
              "                                        name \n",
              "                                           0 \n",
              "                       neighborhood_overview \n",
              "                                        1334 \n",
              "                                 picture_url \n",
              "                                           0 \n",
              "                                     host_id \n",
              "                                           0 \n",
              "                                    host_url \n",
              "                                           0 \n",
              "                                   host_name \n",
              "                                           0 \n",
              "                                  host_since \n",
              "                                           0 \n",
              "                               host_location \n",
              "                                         442 \n",
              "                                  host_about \n",
              "                                         992 \n",
              "                          host_response_time \n",
              "                                           0 \n",
              "                          host_response_rate \n",
              "                                           0 \n",
              "                        host_acceptance_rate \n",
              "                                           0 \n",
              "                           host_is_superhost \n",
              "                                          42 \n",
              "                          host_thumbnail_url \n",
              "                                           0 \n",
              "                            host_picture_url \n",
              "                                           0 \n",
              "                          host_neighbourhood \n",
              "                                        2499 \n",
              "                         host_listings_count \n",
              "                                           0 \n",
              "                   host_total_listings_count \n",
              "                                           0 \n",
              "                          host_verifications \n",
              "                                           0 \n",
              "                        host_has_profile_pic \n",
              "                                           0 \n",
              "                      host_identity_verified \n",
              "                                           0 \n",
              "                               neighbourhood \n",
              "                                        1334 \n",
              "                      neighbourhood_cleansed \n",
              "                                           0 \n",
              "                neighbourhood_group_cleansed \n",
              "                                           0 \n",
              "                                    latitude \n",
              "                                           0 \n",
              "                                   longitude \n",
              "                                           0 \n",
              "                               property_type \n",
              "                                           0 \n",
              "                                   room_type \n",
              "                                           0 \n",
              "                                accommodates \n",
              "                                           0 \n",
              "                              bathrooms_text \n",
              "                                           2 \n",
              "                                        beds \n",
              "                                           0 \n",
              "                                   amenities \n",
              "                                           0 \n",
              "                                       price \n",
              "                                           0 \n",
              "                              minimum_nights \n",
              "                                           0 \n",
              "                              maximum_nights \n",
              "                                           0 \n",
              "                      minimum_minimum_nights \n",
              "                                           0 \n",
              "                      maximum_minimum_nights \n",
              "                                           0 \n",
              "                      minimum_maximum_nights \n",
              "                                           0 \n",
              "                      maximum_maximum_nights \n",
              "                                           0 \n",
              "                      minimum_nights_avg_ntm \n",
              "                                           0 \n",
              "                      maximum_nights_avg_ntm \n",
              "                                           0 \n",
              "                            has_availability \n",
              "                                           0 \n",
              "                             availability_30 \n",
              "                                           0 \n",
              "                             availability_60 \n",
              "                                           0 \n",
              "                             availability_90 \n",
              "                                           0 \n",
              "                            availability_365 \n",
              "                                           0 \n",
              "                       calendar_last_scraped \n",
              "                                           0 \n",
              "                           number_of_reviews \n",
              "                                           0 \n",
              "                       number_of_reviews_ltm \n",
              "                                           0 \n",
              "                      number_of_reviews_l30d \n",
              "                                           0 \n",
              "                                first_review \n",
              "                                         553 \n",
              "                                 last_review \n",
              "                                         553 \n",
              "                            instant_bookable \n",
              "                                           0 \n",
              "              calculated_host_listings_count \n",
              "                                           0 \n",
              " calculated_host_listings_count_entire_homes \n",
              "                                           0 \n",
              "calculated_host_listings_count_private_rooms \n",
              "                                           0 \n",
              " calculated_host_listings_count_shared_rooms \n",
              "                                           0 \n",
              "                           reviews_per_month \n",
              "                                         553 \n",
              "                                review_value \n",
              "                                           0 \n",
              "                               review_rating \n",
              "                                           0 \n",
              "                             review_accuracy \n",
              "                                           0 \n",
              "                          review_cleanliness \n",
              "                                           0 \n",
              "                              review_checkin \n",
              "                                           0 \n",
              "                        review_communication \n",
              "                                           0 \n",
              "                             review_location \n",
              "                                           0 \n",
              "                                    NumPrice \n",
              "                                           0 \n",
              "                                       baths \n",
              "                                           0 "
            ]
          },
          "metadata": {}
        },
        {
          "output_type": "display_data",
          "data": {
            "text/html": [
              "<table class=\"dataframe\">\n",
              "<caption>A tibble: 2 × 74</caption>\n",
              "<thead>\n",
              "\t<tr><th scope=col>id</th><th scope=col>listing_url</th><th scope=col>scrape_id</th><th scope=col>last_scraped</th><th scope=col>source</th><th scope=col>name</th><th scope=col>neighborhood_overview</th><th scope=col>picture_url</th><th scope=col>host_id</th><th scope=col>host_url</th><th scope=col>⋯</th><th scope=col>review_rating</th><th scope=col>review_accuracy</th><th scope=col>review_cleanliness</th><th scope=col>review_checkin</th><th scope=col>review_communication</th><th scope=col>review_location</th><th scope=col>NumPrice</th><th scope=col>baths</th><th scope=col>guestsPerBath</th><th scope=col>guestsPerBed</th></tr>\n",
              "\t<tr><th scope=col>&lt;dbl&gt;</th><th scope=col>&lt;chr&gt;</th><th scope=col>&lt;dbl&gt;</th><th scope=col>&lt;chr&gt;</th><th scope=col>&lt;chr&gt;</th><th scope=col>&lt;chr&gt;</th><th scope=col>&lt;chr&gt;</th><th scope=col>&lt;chr&gt;</th><th scope=col>&lt;dbl&gt;</th><th scope=col>&lt;chr&gt;</th><th scope=col>⋯</th><th scope=col>&lt;fct&gt;</th><th scope=col>&lt;fct&gt;</th><th scope=col>&lt;fct&gt;</th><th scope=col>&lt;fct&gt;</th><th scope=col>&lt;fct&gt;</th><th scope=col>&lt;fct&gt;</th><th scope=col>&lt;dbl&gt;</th><th scope=col>&lt;dbl&gt;</th><th scope=col>&lt;dbl&gt;</th><th scope=col>&lt;dbl&gt;</th></tr>\n",
              "</thead>\n",
              "<tbody>\n",
              "\t<tr><td> 73282</td><td>https://www.airbnb.com/rooms/73282 </td><td>20230900000000</td><td>9/24/2023</td><td>previous scrape</td><td>Rental unit in Zurich · ★4.78 · 1 bedroom · 1 bed · 1 bath</td><td>NA                                                                                                                                                                                                                                  </td><td>https://a0.muscache.com/pictures/481072/abd94c69_original.jpg            </td><td>377532</td><td>https://www.airbnb.com/users/show/377532</td><td>⋯</td><td>Good Reviews</td><td>Good Reviews</td><td>Good Reviews</td><td>Good Reviews</td><td>Good Reviews</td><td>Good Reviews</td><td>100</td><td>1</td><td>4</td><td>4</td></tr>\n",
              "\t<tr><td>178448</td><td>https://www.airbnb.com/rooms/178448</td><td>20230900000000</td><td>9/24/2023</td><td><span style=white-space:pre-wrap>city scrape    </span></td><td>Rental unit in Zurich · ★4.89 · 1 bedroom · 1 bed · 1 bath</td><td>We live in one of the top locations of Zürich, the Hürrlimann Areal where the headquarter of Google Europe is located &lt;br /&gt;Its a 5 Minutes walk to Bahnhof Enge, 10 Minutes walk to the Bahnhofstrasse, 10 minutes to the lakeside.</td><td>https://a0.muscache.com/pictures/7d41e016-e818-4fe1-9d42-a5d0ae34bdda.jpg</td><td>854016</td><td>https://www.airbnb.com/users/show/854016</td><td>⋯</td><td>Good Reviews</td><td>Good Reviews</td><td>Good Reviews</td><td>Good Reviews</td><td>Good Reviews</td><td>Good Reviews</td><td> 60</td><td>1</td><td>1</td><td>1</td></tr>\n",
              "</tbody>\n",
              "</table>\n"
            ],
            "text/markdown": "\nA tibble: 2 × 74\n\n| id &lt;dbl&gt; | listing_url &lt;chr&gt; | scrape_id &lt;dbl&gt; | last_scraped &lt;chr&gt; | source &lt;chr&gt; | name &lt;chr&gt; | neighborhood_overview &lt;chr&gt; | picture_url &lt;chr&gt; | host_id &lt;dbl&gt; | host_url &lt;chr&gt; | ⋯ ⋯ | review_rating &lt;fct&gt; | review_accuracy &lt;fct&gt; | review_cleanliness &lt;fct&gt; | review_checkin &lt;fct&gt; | review_communication &lt;fct&gt; | review_location &lt;fct&gt; | NumPrice &lt;dbl&gt; | baths &lt;dbl&gt; | guestsPerBath &lt;dbl&gt; | guestsPerBed &lt;dbl&gt; |\n|---|---|---|---|---|---|---|---|---|---|---|---|---|---|---|---|---|---|---|---|---|\n|  73282 | https://www.airbnb.com/rooms/73282  | 20230900000000 | 9/24/2023 | previous scrape | Rental unit in Zurich · ★4.78 · 1 bedroom · 1 bed · 1 bath | NA                                                                                                                                                                                                                                   | https://a0.muscache.com/pictures/481072/abd94c69_original.jpg             | 377532 | https://www.airbnb.com/users/show/377532 | ⋯ | Good Reviews | Good Reviews | Good Reviews | Good Reviews | Good Reviews | Good Reviews | 100 | 1 | 4 | 4 |\n| 178448 | https://www.airbnb.com/rooms/178448 | 20230900000000 | 9/24/2023 | city scrape     | Rental unit in Zurich · ★4.89 · 1 bedroom · 1 bed · 1 bath | We live in one of the top locations of Zürich, the Hürrlimann Areal where the headquarter of Google Europe is located &lt;br /&gt;Its a 5 Minutes walk to Bahnhof Enge, 10 Minutes walk to the Bahnhofstrasse, 10 minutes to the lakeside. | https://a0.muscache.com/pictures/7d41e016-e818-4fe1-9d42-a5d0ae34bdda.jpg | 854016 | https://www.airbnb.com/users/show/854016 | ⋯ | Good Reviews | Good Reviews | Good Reviews | Good Reviews | Good Reviews | Good Reviews |  60 | 1 | 1 | 1 |\n\n",
            "text/latex": "A tibble: 2 × 74\n\\begin{tabular}{lllllllllllllllllllll}\n id & listing\\_url & scrape\\_id & last\\_scraped & source & name & neighborhood\\_overview & picture\\_url & host\\_id & host\\_url & ⋯ & review\\_rating & review\\_accuracy & review\\_cleanliness & review\\_checkin & review\\_communication & review\\_location & NumPrice & baths & guestsPerBath & guestsPerBed\\\\\n <dbl> & <chr> & <dbl> & <chr> & <chr> & <chr> & <chr> & <chr> & <dbl> & <chr> & ⋯ & <fct> & <fct> & <fct> & <fct> & <fct> & <fct> & <dbl> & <dbl> & <dbl> & <dbl>\\\\\n\\hline\n\t  73282 & https://www.airbnb.com/rooms/73282  & 20230900000000 & 9/24/2023 & previous scrape & Rental unit in Zurich · ★4.78 · 1 bedroom · 1 bed · 1 bath & NA                                                                                                                                                                                                                                   & https://a0.muscache.com/pictures/481072/abd94c69\\_original.jpg             & 377532 & https://www.airbnb.com/users/show/377532 & ⋯ & Good Reviews & Good Reviews & Good Reviews & Good Reviews & Good Reviews & Good Reviews & 100 & 1 & 4 & 4\\\\\n\t 178448 & https://www.airbnb.com/rooms/178448 & 20230900000000 & 9/24/2023 & city scrape     & Rental unit in Zurich · ★4.89 · 1 bedroom · 1 bed · 1 bath & We live in one of the top locations of Zürich, the Hürrlimann Areal where the headquarter of Google Europe is located <br />Its a 5 Minutes walk to Bahnhof Enge, 10 Minutes walk to the Bahnhofstrasse, 10 minutes to the lakeside. & https://a0.muscache.com/pictures/7d41e016-e818-4fe1-9d42-a5d0ae34bdda.jpg & 854016 & https://www.airbnb.com/users/show/854016 & ⋯ & Good Reviews & Good Reviews & Good Reviews & Good Reviews & Good Reviews & Good Reviews &  60 & 1 & 1 & 1\\\\\n\\end{tabular}\n",
            "text/plain": [
              "  id     listing_url                         scrape_id      last_scraped\n",
              "1  73282 https://www.airbnb.com/rooms/73282  20230900000000 9/24/2023   \n",
              "2 178448 https://www.airbnb.com/rooms/178448 20230900000000 9/24/2023   \n",
              "  source          name                                                      \n",
              "1 previous scrape Rental unit in Zurich · ★4.78 · 1 bedroom · 1 bed · 1 bath\n",
              "2 city scrape     Rental unit in Zurich · ★4.89 · 1 bedroom · 1 bed · 1 bath\n",
              "  neighborhood_overview                                                                                                                                                                                                               \n",
              "1 NA                                                                                                                                                                                                                                  \n",
              "2 We live in one of the top locations of Zürich, the Hürrlimann Areal where the headquarter of Google Europe is located <br />Its a 5 Minutes walk to Bahnhof Enge, 10 Minutes walk to the Bahnhofstrasse, 10 minutes to the lakeside.\n",
              "  picture_url                                                              \n",
              "1 https://a0.muscache.com/pictures/481072/abd94c69_original.jpg            \n",
              "2 https://a0.muscache.com/pictures/7d41e016-e818-4fe1-9d42-a5d0ae34bdda.jpg\n",
              "  host_id host_url                                 ⋯ review_rating\n",
              "1 377532  https://www.airbnb.com/users/show/377532 ⋯ Good Reviews \n",
              "2 854016  https://www.airbnb.com/users/show/854016 ⋯ Good Reviews \n",
              "  review_accuracy review_cleanliness review_checkin review_communication\n",
              "1 Good Reviews    Good Reviews       Good Reviews   Good Reviews        \n",
              "2 Good Reviews    Good Reviews       Good Reviews   Good Reviews        \n",
              "  review_location NumPrice baths guestsPerBath guestsPerBed\n",
              "1 Good Reviews    100      1     4             4           \n",
              "2 Good Reviews     60      1     1             1           "
            ]
          },
          "metadata": {}
        },
        {
          "output_type": "stream",
          "name": "stdout",
          "text": [
            "Start:  AIC=28114.3\n",
            "NumPrice ~ neighbourhood_cleansed + neighbourhood_group_cleansed + \n",
            "    room_type + accommodates + beds\n",
            "\n",
            "\n",
            "Step:  AIC=28114.3\n",
            "NumPrice ~ neighbourhood_cleansed + room_type + accommodates + \n",
            "    beds\n",
            "\n",
            "                         Df Sum of Sq       RSS   AIC\n",
            "- beds                    1     41110 161797520 28113\n",
            "- room_type               3    302524 162058934 28113\n",
            "<none>                                161756410 28114\n",
            "- accommodates            1   4646657 166403067 28184\n",
            "- neighbourhood_cleansed 33   9303394 171059804 28190\n",
            "\n",
            "Step:  AIC=28112.94\n",
            "NumPrice ~ neighbourhood_cleansed + room_type + accommodates\n",
            "\n",
            "                         Df Sum of Sq       RSS   AIC\n",
            "- room_type               3    312579 162110098 28112\n",
            "<none>                                161797520 28113\n",
            "- neighbourhood_cleansed 33   9275001 171072521 28188\n",
            "- accommodates            1   9253726 171051245 28252\n",
            "\n",
            "Step:  AIC=28111.83\n",
            "NumPrice ~ neighbourhood_cleansed + accommodates\n",
            "\n",
            "                         Df Sum of Sq       RSS   AIC\n",
            "<none>                                162110098 28112\n",
            "- neighbourhood_cleansed 33   9492079 171602177 28190\n",
            "- accommodates            1  11507515 173617613 28284\n"
          ]
        },
        {
          "output_type": "display_data",
          "data": {
            "text/plain": [
              "\n",
              "Call:\n",
              "lm(formula = NumPrice ~ neighbourhood_cleansed + neighbourhood_group_cleansed + \n",
              "    room_type + accommodates + beds, data = zurich2_price_nonas)\n",
              "\n",
              "Residuals:\n",
              "   Min     1Q Median     3Q    Max \n",
              "-573.7  -72.6  -23.9   21.6 9674.8 \n",
              "\n",
              "Coefficients: (11 not defined because of singularities)\n",
              "                                           Estimate Std. Error t value\n",
              "(Intercept)                                   5.653     35.765   0.158\n",
              "neighbourhood_cleansedAlbisrieden            90.285     49.571   1.821\n",
              "neighbourhood_cleansedAlt-Wiedikon           30.911     40.893   0.756\n",
              "neighbourhood_cleansedAltstetten            126.216     39.393   3.204\n",
              "neighbourhood_cleansedCity                  427.997     84.644   5.056\n",
              "neighbourhood_cleansedEnge                  131.810     43.137   3.056\n",
              "neighbourhood_cleansedEscher Wyss            60.251     49.134   1.226\n",
              "neighbourhood_cleansedFluntern               50.544     53.600   0.943\n",
              "neighbourhood_cleansedFriesenberg            51.972     50.166   1.036\n",
              "neighbourhood_cleansedGewerbeschule          96.645     43.547   2.219\n",
              "neighbourhood_cleansedHard                   13.666     43.517   0.314\n",
              "neighbourhood_cleansedHirslanden             26.274     46.988   0.559\n",
              "neighbourhood_cleansedHirzenbach             24.776     63.080   0.393\n",
              "neighbourhood_cleansedHochschulen           113.185     60.605   1.868\n",
              "neighbourhood_cleansedHöngg                   7.086     45.974   0.154\n",
              "neighbourhood_cleansedHottingen              48.559     43.735   1.110\n",
              "neighbourhood_cleansedLangstrasse            74.198     38.764   1.914\n",
              "neighbourhood_cleansedLeimbach                8.821     84.046   0.105\n",
              "neighbourhood_cleansedLindenhof             413.490     57.058   7.247\n",
              "neighbourhood_cleansedMühlebach              48.673     44.451   1.095\n",
              "neighbourhood_cleansedOberstrass             64.135     46.344   1.384\n",
              "neighbourhood_cleansedOerlikon               61.038     40.577   1.504\n",
              "neighbourhood_cleansedRathaus               148.656     40.831   3.641\n",
              "neighbourhood_cleansedSaatlen                27.006     96.286   0.280\n",
              "neighbourhood_cleansedSchwamendingen-Mitte   11.034     76.191   0.145\n",
              "neighbourhood_cleansedSeebach                21.178     45.165   0.469\n",
              "neighbourhood_cleansedSeefeld               109.395     43.167   2.534\n",
              "neighbourhood_cleansedSihlfeld               28.582     39.391   0.726\n",
              "neighbourhood_cleansedUnterstrass            56.967     41.373   1.377\n",
              "neighbourhood_cleansedWeinegg                47.235     48.440   0.975\n",
              "neighbourhood_cleansedWerd                   60.659     49.097   1.235\n",
              "neighbourhood_cleansedWipkingen              32.001     44.172   0.724\n",
              "neighbourhood_cleansedWitikon                 5.247     48.712   0.108\n",
              "neighbourhood_cleansedWollishofen            43.536     43.341   1.004\n",
              "neighbourhood_group_cleansedKreis 10             NA         NA      NA\n",
              "neighbourhood_group_cleansedKreis 11             NA         NA      NA\n",
              "neighbourhood_group_cleansedKreis 12             NA         NA      NA\n",
              "neighbourhood_group_cleansedKreis 2              NA         NA      NA\n",
              "neighbourhood_group_cleansedKreis 3              NA         NA      NA\n",
              "neighbourhood_group_cleansedKreis 4              NA         NA      NA\n",
              "neighbourhood_group_cleansedKreis 5              NA         NA      NA\n",
              "neighbourhood_group_cleansedKreis 6              NA         NA      NA\n",
              "neighbourhood_group_cleansedKreis 7              NA         NA      NA\n",
              "neighbourhood_group_cleansedKreis 8              NA         NA      NA\n",
              "neighbourhood_group_cleansedKreis 9              NA         NA      NA\n",
              "room_typeHotel room                          72.489     88.464   0.819\n",
              "room_typePrivate room                       -17.365     13.033  -1.332\n",
              "room_typeShared room                        -88.161     58.266  -1.513\n",
              "accommodates                                 40.507      4.785   8.466\n",
              "beds                                          4.605      5.783   0.796\n",
              "                                                       Pr(>|t|)    \n",
              "(Intercept)                                            0.874427    \n",
              "neighbourhood_cleansedAlbisrieden                      0.068679 .  \n",
              "neighbourhood_cleansedAlt-Wiedikon                     0.449776    \n",
              "neighbourhood_cleansedAltstetten                       0.001373 ** \n",
              "neighbourhood_cleansedCity                    0.000000458191946 ***\n",
              "neighbourhood_cleansedEnge                             0.002270 ** \n",
              "neighbourhood_cleansedEscher Wyss                      0.220218    \n",
              "neighbourhood_cleansedFluntern                         0.345784    \n",
              "neighbourhood_cleansedFriesenberg                      0.300310    \n",
              "neighbourhood_cleansedGewerbeschule                    0.026554 *  \n",
              "neighbourhood_cleansedHard                             0.753526    \n",
              "neighbourhood_cleansedHirslanden                       0.576095    \n",
              "neighbourhood_cleansedHirzenbach                       0.694526    \n",
              "neighbourhood_cleansedHochschulen                      0.061935 .  \n",
              "neighbourhood_cleansedHöngg                            0.877522    \n",
              "neighbourhood_cleansedHottingen                        0.266972    \n",
              "neighbourhood_cleansedLangstrasse                      0.055719 .  \n",
              "neighbourhood_cleansedLeimbach                         0.916422    \n",
              "neighbourhood_cleansedLindenhof               0.000000000000566 ***\n",
              "neighbourhood_cleansedMühlebach                        0.273635    \n",
              "neighbourhood_cleansedOberstrass                       0.166516    \n",
              "neighbourhood_cleansedOerlikon                         0.132644    \n",
              "neighbourhood_cleansedRathaus                          0.000277 ***\n",
              "neighbourhood_cleansedSaatlen                          0.779133    \n",
              "neighbourhood_cleansedSchwamendingen-Mitte             0.884864    \n",
              "neighbourhood_cleansedSeebach                          0.639179    \n",
              "neighbourhood_cleansedSeefeld                          0.011330 *  \n",
              "neighbourhood_cleansedSihlfeld                         0.468155    \n",
              "neighbourhood_cleansedUnterstrass                      0.168667    \n",
              "neighbourhood_cleansedWeinegg                          0.329596    \n",
              "neighbourhood_cleansedWerd                             0.216762    \n",
              "neighbourhood_cleansedWipkingen                        0.468849    \n",
              "neighbourhood_cleansedWitikon                          0.914231    \n",
              "neighbourhood_cleansedWollishofen                      0.315240    \n",
              "neighbourhood_group_cleansedKreis 10                         NA    \n",
              "neighbourhood_group_cleansedKreis 11                         NA    \n",
              "neighbourhood_group_cleansedKreis 12                         NA    \n",
              "neighbourhood_group_cleansedKreis 2                          NA    \n",
              "neighbourhood_group_cleansedKreis 3                          NA    \n",
              "neighbourhood_group_cleansedKreis 4                          NA    \n",
              "neighbourhood_group_cleansedKreis 5                          NA    \n",
              "neighbourhood_group_cleansedKreis 6                          NA    \n",
              "neighbourhood_group_cleansedKreis 7                          NA    \n",
              "neighbourhood_group_cleansedKreis 8                          NA    \n",
              "neighbourhood_group_cleansedKreis 9                          NA    \n",
              "room_typeHotel room                                    0.412626    \n",
              "room_typePrivate room                                  0.182849    \n",
              "room_typeShared room                                   0.130389    \n",
              "accommodates                               < 0.0000000000000002 ***\n",
              "beds                                                   0.425932    \n",
              "---\n",
              "Signif. codes:  0 ‘***’ 0.001 ‘**’ 0.01 ‘*’ 0.05 ‘.’ 0.1 ‘ ’ 1\n",
              "\n",
              "Residual standard error: 254.6 on 2495 degrees of freedom\n",
              "Multiple R-squared:  0.121,\tAdjusted R-squared:  0.1076 \n",
              "F-statistic: 9.036 on 38 and 2495 DF,  p-value: < 0.00000000000000022\n"
            ]
          },
          "metadata": {}
        },
        {
          "output_type": "display_data",
          "data": {
            "text/plain": [
              "numeric(0)"
            ],
            "text/html": [],
            "text/markdown": "",
            "text/latex": ""
          },
          "metadata": {}
        },
        {
          "output_type": "display_data",
          "data": {
            "text/html": [
              "<style>\n",
              ".dl-inline {width: auto; margin:0; padding: 0}\n",
              ".dl-inline>dt, .dl-inline>dd {float: none; width: auto; display: inline-block}\n",
              ".dl-inline>dt::after {content: \":\\0020\"; padding-right: .5ex}\n",
              ".dl-inline>dt:not(:first-of-type) {padding-left: .5ex}\n",
              "</style><dl class=dl-inline><dt>id</dt><dd>0</dd><dt>listing_url</dt><dd>0</dd><dt>scrape_id</dt><dd>0</dd><dt>last_scraped</dt><dd>0</dd><dt>source</dt><dd>0</dd><dt>name</dt><dd>0</dd><dt>neighborhood_overview</dt><dd>1334</dd><dt>picture_url</dt><dd>0</dd><dt>host_id</dt><dd>0</dd><dt>host_url</dt><dd>0</dd><dt>host_name</dt><dd>0</dd><dt>host_since</dt><dd>0</dd><dt>host_location</dt><dd>442</dd><dt>host_about</dt><dd>992</dd><dt>host_response_time</dt><dd>0</dd><dt>host_response_rate</dt><dd>0</dd><dt>host_acceptance_rate</dt><dd>0</dd><dt>host_is_superhost</dt><dd>42</dd><dt>host_thumbnail_url</dt><dd>0</dd><dt>host_picture_url</dt><dd>0</dd><dt>host_neighbourhood</dt><dd>2499</dd><dt>host_listings_count</dt><dd>0</dd><dt>host_total_listings_count</dt><dd>0</dd><dt>host_verifications</dt><dd>0</dd><dt>host_has_profile_pic</dt><dd>0</dd><dt>host_identity_verified</dt><dd>0</dd><dt>neighbourhood</dt><dd>1334</dd><dt>neighbourhood_cleansed</dt><dd>0</dd><dt>neighbourhood_group_cleansed</dt><dd>0</dd><dt>latitude</dt><dd>0</dd><dt>longitude</dt><dd>0</dd><dt>property_type</dt><dd>0</dd><dt>room_type</dt><dd>0</dd><dt>accommodates</dt><dd>0</dd><dt>bathrooms_text</dt><dd>2</dd><dt>beds</dt><dd>0</dd><dt>amenities</dt><dd>0</dd><dt>price</dt><dd>0</dd><dt>minimum_nights</dt><dd>0</dd><dt>maximum_nights</dt><dd>0</dd><dt>minimum_minimum_nights</dt><dd>0</dd><dt>maximum_minimum_nights</dt><dd>0</dd><dt>minimum_maximum_nights</dt><dd>0</dd><dt>maximum_maximum_nights</dt><dd>0</dd><dt>minimum_nights_avg_ntm</dt><dd>0</dd><dt>maximum_nights_avg_ntm</dt><dd>0</dd><dt>has_availability</dt><dd>0</dd><dt>availability_30</dt><dd>0</dd><dt>availability_60</dt><dd>0</dd><dt>availability_90</dt><dd>0</dd><dt>availability_365</dt><dd>0</dd><dt>calendar_last_scraped</dt><dd>0</dd><dt>number_of_reviews</dt><dd>0</dd><dt>number_of_reviews_ltm</dt><dd>0</dd><dt>number_of_reviews_l30d</dt><dd>0</dd><dt>first_review</dt><dd>553</dd><dt>last_review</dt><dd>553</dd><dt>instant_bookable</dt><dd>0</dd><dt>calculated_host_listings_count</dt><dd>0</dd><dt>calculated_host_listings_count_entire_homes</dt><dd>0</dd><dt>calculated_host_listings_count_private_rooms</dt><dd>0</dd><dt>calculated_host_listings_count_shared_rooms</dt><dd>0</dd><dt>reviews_per_month</dt><dd>553</dd><dt>review_value</dt><dd>0</dd><dt>review_rating</dt><dd>0</dd><dt>review_accuracy</dt><dd>0</dd><dt>review_cleanliness</dt><dd>0</dd><dt>review_checkin</dt><dd>0</dd><dt>review_communication</dt><dd>0</dd><dt>review_location</dt><dd>0</dd><dt>NumPrice</dt><dd>0</dd><dt>baths</dt><dd>0</dd><dt>guestsPerBath</dt><dd>0</dd><dt>guestsPerBed</dt><dd>0</dd></dl>\n"
            ],
            "text/markdown": "id\n:   0listing_url\n:   0scrape_id\n:   0last_scraped\n:   0source\n:   0name\n:   0neighborhood_overview\n:   1334picture_url\n:   0host_id\n:   0host_url\n:   0host_name\n:   0host_since\n:   0host_location\n:   442host_about\n:   992host_response_time\n:   0host_response_rate\n:   0host_acceptance_rate\n:   0host_is_superhost\n:   42host_thumbnail_url\n:   0host_picture_url\n:   0host_neighbourhood\n:   2499host_listings_count\n:   0host_total_listings_count\n:   0host_verifications\n:   0host_has_profile_pic\n:   0host_identity_verified\n:   0neighbourhood\n:   1334neighbourhood_cleansed\n:   0neighbourhood_group_cleansed\n:   0latitude\n:   0longitude\n:   0property_type\n:   0room_type\n:   0accommodates\n:   0bathrooms_text\n:   2beds\n:   0amenities\n:   0price\n:   0minimum_nights\n:   0maximum_nights\n:   0minimum_minimum_nights\n:   0maximum_minimum_nights\n:   0minimum_maximum_nights\n:   0maximum_maximum_nights\n:   0minimum_nights_avg_ntm\n:   0maximum_nights_avg_ntm\n:   0has_availability\n:   0availability_30\n:   0availability_60\n:   0availability_90\n:   0availability_365\n:   0calendar_last_scraped\n:   0number_of_reviews\n:   0number_of_reviews_ltm\n:   0number_of_reviews_l30d\n:   0first_review\n:   553last_review\n:   553instant_bookable\n:   0calculated_host_listings_count\n:   0calculated_host_listings_count_entire_homes\n:   0calculated_host_listings_count_private_rooms\n:   0calculated_host_listings_count_shared_rooms\n:   0reviews_per_month\n:   553review_value\n:   0review_rating\n:   0review_accuracy\n:   0review_cleanliness\n:   0review_checkin\n:   0review_communication\n:   0review_location\n:   0NumPrice\n:   0baths\n:   0guestsPerBath\n:   0guestsPerBed\n:   0\n\n",
            "text/latex": "\\begin{description*}\n\\item[id] 0\n\\item[listing\\textbackslash{}\\_url] 0\n\\item[scrape\\textbackslash{}\\_id] 0\n\\item[last\\textbackslash{}\\_scraped] 0\n\\item[source] 0\n\\item[name] 0\n\\item[neighborhood\\textbackslash{}\\_overview] 1334\n\\item[picture\\textbackslash{}\\_url] 0\n\\item[host\\textbackslash{}\\_id] 0\n\\item[host\\textbackslash{}\\_url] 0\n\\item[host\\textbackslash{}\\_name] 0\n\\item[host\\textbackslash{}\\_since] 0\n\\item[host\\textbackslash{}\\_location] 442\n\\item[host\\textbackslash{}\\_about] 992\n\\item[host\\textbackslash{}\\_response\\textbackslash{}\\_time] 0\n\\item[host\\textbackslash{}\\_response\\textbackslash{}\\_rate] 0\n\\item[host\\textbackslash{}\\_acceptance\\textbackslash{}\\_rate] 0\n\\item[host\\textbackslash{}\\_is\\textbackslash{}\\_superhost] 42\n\\item[host\\textbackslash{}\\_thumbnail\\textbackslash{}\\_url] 0\n\\item[host\\textbackslash{}\\_picture\\textbackslash{}\\_url] 0\n\\item[host\\textbackslash{}\\_neighbourhood] 2499\n\\item[host\\textbackslash{}\\_listings\\textbackslash{}\\_count] 0\n\\item[host\\textbackslash{}\\_total\\textbackslash{}\\_listings\\textbackslash{}\\_count] 0\n\\item[host\\textbackslash{}\\_verifications] 0\n\\item[host\\textbackslash{}\\_has\\textbackslash{}\\_profile\\textbackslash{}\\_pic] 0\n\\item[host\\textbackslash{}\\_identity\\textbackslash{}\\_verified] 0\n\\item[neighbourhood] 1334\n\\item[neighbourhood\\textbackslash{}\\_cleansed] 0\n\\item[neighbourhood\\textbackslash{}\\_group\\textbackslash{}\\_cleansed] 0\n\\item[latitude] 0\n\\item[longitude] 0\n\\item[property\\textbackslash{}\\_type] 0\n\\item[room\\textbackslash{}\\_type] 0\n\\item[accommodates] 0\n\\item[bathrooms\\textbackslash{}\\_text] 2\n\\item[beds] 0\n\\item[amenities] 0\n\\item[price] 0\n\\item[minimum\\textbackslash{}\\_nights] 0\n\\item[maximum\\textbackslash{}\\_nights] 0\n\\item[minimum\\textbackslash{}\\_minimum\\textbackslash{}\\_nights] 0\n\\item[maximum\\textbackslash{}\\_minimum\\textbackslash{}\\_nights] 0\n\\item[minimum\\textbackslash{}\\_maximum\\textbackslash{}\\_nights] 0\n\\item[maximum\\textbackslash{}\\_maximum\\textbackslash{}\\_nights] 0\n\\item[minimum\\textbackslash{}\\_nights\\textbackslash{}\\_avg\\textbackslash{}\\_ntm] 0\n\\item[maximum\\textbackslash{}\\_nights\\textbackslash{}\\_avg\\textbackslash{}\\_ntm] 0\n\\item[has\\textbackslash{}\\_availability] 0\n\\item[availability\\textbackslash{}\\_30] 0\n\\item[availability\\textbackslash{}\\_60] 0\n\\item[availability\\textbackslash{}\\_90] 0\n\\item[availability\\textbackslash{}\\_365] 0\n\\item[calendar\\textbackslash{}\\_last\\textbackslash{}\\_scraped] 0\n\\item[number\\textbackslash{}\\_of\\textbackslash{}\\_reviews] 0\n\\item[number\\textbackslash{}\\_of\\textbackslash{}\\_reviews\\textbackslash{}\\_ltm] 0\n\\item[number\\textbackslash{}\\_of\\textbackslash{}\\_reviews\\textbackslash{}\\_l30d] 0\n\\item[first\\textbackslash{}\\_review] 553\n\\item[last\\textbackslash{}\\_review] 553\n\\item[instant\\textbackslash{}\\_bookable] 0\n\\item[calculated\\textbackslash{}\\_host\\textbackslash{}\\_listings\\textbackslash{}\\_count] 0\n\\item[calculated\\textbackslash{}\\_host\\textbackslash{}\\_listings\\textbackslash{}\\_count\\textbackslash{}\\_entire\\textbackslash{}\\_homes] 0\n\\item[calculated\\textbackslash{}\\_host\\textbackslash{}\\_listings\\textbackslash{}\\_count\\textbackslash{}\\_private\\textbackslash{}\\_rooms] 0\n\\item[calculated\\textbackslash{}\\_host\\textbackslash{}\\_listings\\textbackslash{}\\_count\\textbackslash{}\\_shared\\textbackslash{}\\_rooms] 0\n\\item[reviews\\textbackslash{}\\_per\\textbackslash{}\\_month] 553\n\\item[review\\textbackslash{}\\_value] 0\n\\item[review\\textbackslash{}\\_rating] 0\n\\item[review\\textbackslash{}\\_accuracy] 0\n\\item[review\\textbackslash{}\\_cleanliness] 0\n\\item[review\\textbackslash{}\\_checkin] 0\n\\item[review\\textbackslash{}\\_communication] 0\n\\item[review\\textbackslash{}\\_location] 0\n\\item[NumPrice] 0\n\\item[baths] 0\n\\item[guestsPerBath] 0\n\\item[guestsPerBed] 0\n\\end{description*}\n",
            "text/plain": [
              "                                          id \n",
              "                                           0 \n",
              "                                 listing_url \n",
              "                                           0 \n",
              "                                   scrape_id \n",
              "                                           0 \n",
              "                                last_scraped \n",
              "                                           0 \n",
              "                                      source \n",
              "                                           0 \n",
              "                                        name \n",
              "                                           0 \n",
              "                       neighborhood_overview \n",
              "                                        1334 \n",
              "                                 picture_url \n",
              "                                           0 \n",
              "                                     host_id \n",
              "                                           0 \n",
              "                                    host_url \n",
              "                                           0 \n",
              "                                   host_name \n",
              "                                           0 \n",
              "                                  host_since \n",
              "                                           0 \n",
              "                               host_location \n",
              "                                         442 \n",
              "                                  host_about \n",
              "                                         992 \n",
              "                          host_response_time \n",
              "                                           0 \n",
              "                          host_response_rate \n",
              "                                           0 \n",
              "                        host_acceptance_rate \n",
              "                                           0 \n",
              "                           host_is_superhost \n",
              "                                          42 \n",
              "                          host_thumbnail_url \n",
              "                                           0 \n",
              "                            host_picture_url \n",
              "                                           0 \n",
              "                          host_neighbourhood \n",
              "                                        2499 \n",
              "                         host_listings_count \n",
              "                                           0 \n",
              "                   host_total_listings_count \n",
              "                                           0 \n",
              "                          host_verifications \n",
              "                                           0 \n",
              "                        host_has_profile_pic \n",
              "                                           0 \n",
              "                      host_identity_verified \n",
              "                                           0 \n",
              "                               neighbourhood \n",
              "                                        1334 \n",
              "                      neighbourhood_cleansed \n",
              "                                           0 \n",
              "                neighbourhood_group_cleansed \n",
              "                                           0 \n",
              "                                    latitude \n",
              "                                           0 \n",
              "                                   longitude \n",
              "                                           0 \n",
              "                               property_type \n",
              "                                           0 \n",
              "                                   room_type \n",
              "                                           0 \n",
              "                                accommodates \n",
              "                                           0 \n",
              "                              bathrooms_text \n",
              "                                           2 \n",
              "                                        beds \n",
              "                                           0 \n",
              "                                   amenities \n",
              "                                           0 \n",
              "                                       price \n",
              "                                           0 \n",
              "                              minimum_nights \n",
              "                                           0 \n",
              "                              maximum_nights \n",
              "                                           0 \n",
              "                      minimum_minimum_nights \n",
              "                                           0 \n",
              "                      maximum_minimum_nights \n",
              "                                           0 \n",
              "                      minimum_maximum_nights \n",
              "                                           0 \n",
              "                      maximum_maximum_nights \n",
              "                                           0 \n",
              "                      minimum_nights_avg_ntm \n",
              "                                           0 \n",
              "                      maximum_nights_avg_ntm \n",
              "                                           0 \n",
              "                            has_availability \n",
              "                                           0 \n",
              "                             availability_30 \n",
              "                                           0 \n",
              "                             availability_60 \n",
              "                                           0 \n",
              "                             availability_90 \n",
              "                                           0 \n",
              "                            availability_365 \n",
              "                                           0 \n",
              "                       calendar_last_scraped \n",
              "                                           0 \n",
              "                           number_of_reviews \n",
              "                                           0 \n",
              "                       number_of_reviews_ltm \n",
              "                                           0 \n",
              "                      number_of_reviews_l30d \n",
              "                                           0 \n",
              "                                first_review \n",
              "                                         553 \n",
              "                                 last_review \n",
              "                                         553 \n",
              "                            instant_bookable \n",
              "                                           0 \n",
              "              calculated_host_listings_count \n",
              "                                           0 \n",
              " calculated_host_listings_count_entire_homes \n",
              "                                           0 \n",
              "calculated_host_listings_count_private_rooms \n",
              "                                           0 \n",
              " calculated_host_listings_count_shared_rooms \n",
              "                                           0 \n",
              "                           reviews_per_month \n",
              "                                         553 \n",
              "                                review_value \n",
              "                                           0 \n",
              "                               review_rating \n",
              "                                           0 \n",
              "                             review_accuracy \n",
              "                                           0 \n",
              "                          review_cleanliness \n",
              "                                           0 \n",
              "                              review_checkin \n",
              "                                           0 \n",
              "                        review_communication \n",
              "                                           0 \n",
              "                             review_location \n",
              "                                           0 \n",
              "                                    NumPrice \n",
              "                                           0 \n",
              "                                       baths \n",
              "                                           0 \n",
              "                               guestsPerBath \n",
              "                                           0 \n",
              "                                guestsPerBed \n",
              "                                           0 "
            ]
          },
          "metadata": {}
        }
      ]
    },
    {
      "cell_type": "code",
      "source": [
        "head(zurich_imputed)"
      ],
      "metadata": {
        "colab": {
          "base_uri": "https://localhost:8080/",
          "height": 1000
        },
        "id": "6VzuR2H95sT1",
        "outputId": "a6650653-4037-4728-9be8-4d07c41c7c11"
      },
      "id": "6VzuR2H95sT1",
      "execution_count": 99,
      "outputs": [
        {
          "output_type": "display_data",
          "data": {
            "text/html": [
              "<table class=\"dataframe\">\n",
              "<caption>A grouped_df: 6 × 72</caption>\n",
              "<thead>\n",
              "\t<tr><th scope=col>id</th><th scope=col>listing_url</th><th scope=col>scrape_id</th><th scope=col>last_scraped</th><th scope=col>source</th><th scope=col>name</th><th scope=col>neighborhood_overview</th><th scope=col>picture_url</th><th scope=col>host_id</th><th scope=col>host_url</th><th scope=col>⋯</th><th scope=col>review_rating</th><th scope=col>review_accuracy</th><th scope=col>review_cleanliness</th><th scope=col>review_checkin</th><th scope=col>review_communication</th><th scope=col>review_location</th><th scope=col>NumPrice</th><th scope=col>baths</th><th scope=col>guestsPerBath</th><th scope=col>guestsPerBed</th></tr>\n",
              "\t<tr><th scope=col>&lt;dbl&gt;</th><th scope=col>&lt;chr&gt;</th><th scope=col>&lt;dbl&gt;</th><th scope=col>&lt;chr&gt;</th><th scope=col>&lt;chr&gt;</th><th scope=col>&lt;chr&gt;</th><th scope=col>&lt;chr&gt;</th><th scope=col>&lt;chr&gt;</th><th scope=col>&lt;dbl&gt;</th><th scope=col>&lt;chr&gt;</th><th scope=col>⋯</th><th scope=col>&lt;fct&gt;</th><th scope=col>&lt;fct&gt;</th><th scope=col>&lt;fct&gt;</th><th scope=col>&lt;fct&gt;</th><th scope=col>&lt;fct&gt;</th><th scope=col>&lt;fct&gt;</th><th scope=col>&lt;dbl&gt;</th><th scope=col>&lt;dbl&gt;</th><th scope=col>&lt;dbl&gt;</th><th scope=col>&lt;dbl&gt;</th></tr>\n",
              "</thead>\n",
              "<tbody>\n",
              "\t<tr><td>49201447</td><td>https://www.airbnb.com/rooms/49201447</td><td>20230900000000</td><td>9/24/2023</td><td>city scrape    </td><td>Loft in Zürich · ★5.0 · 1 bedroom · 1 bed · 1 bath           </td><td>The loft is next to the luxury shopping street Bahnhofstrasse, the lake and beaches, top restaurants and bars, few minutes walking distance to all central cultural sightseeings, the old city, churches, museums etc. The only place with no street or tram in front of the Appartment overlooking the river and a beautiful marina with access to sunbathing platform and swimming / pure vacation feeling! Summer and winter! Restaurant with bio and organic fresh juices and food, coffee place, as well as gym in main floor or the same building.</td><td>https://a0.muscache.com/pictures/miso/Hosting-49201447/original/e4e62822-c482-4e39-9e48-e081bd2bb35f.jpeg</td><td>12630015</td><td>https://www.airbnb.com/users/show/12630015</td><td>⋯</td><td>Good Reviews</td><td>Good Reviews</td><td>Good Reviews</td><td>Good Reviews</td><td>Good Reviews</td><td>Good Reviews</td><td> 407</td><td>1</td><td>2</td><td>2</td></tr>\n",
              "\t<tr><td>50101353</td><td>https://www.airbnb.com/rooms/50101353</td><td>20230900000000</td><td>9/24/2023</td><td>previous scrape</td><td>Loft in Zürich · ★5.0 · 2 bedrooms · 2 beds · 2 baths        </td><td>Very central location, minutes from Bahnhofstrasse shopping areas, many bars and restaurants. A 5minute walk to the lake                                                                                                                                                                                                                                                                                                                                                                                                                                </td><td>https://a0.muscache.com/pictures/5a6bfcae-c409-4c78-a8c2-be4c03b9fa05.jpg                                </td><td>13470694</td><td>https://www.airbnb.com/users/show/13470694</td><td>⋯</td><td>Good Reviews</td><td>Good Reviews</td><td>Good Reviews</td><td>Good Reviews</td><td>Good Reviews</td><td>Good Reviews</td><td> 480</td><td>2</td><td>2</td><td>2</td></tr>\n",
              "\t<tr><td> 9785013</td><td>https://www.airbnb.com/rooms/9785013 </td><td>20230900000000</td><td>9/24/2023</td><td>city scrape    </td><td>Rental unit in Zürich · ★4.57 · Studio · 2 beds · 1 bath     </td><td>NA                                                                                                                                                                                                                                                                                                                                                                                                                                                                                                                                                      </td><td>https://a0.muscache.com/pictures/0176518e-9e95-4f42-a5d8-93c572a4681e.jpg                                </td><td>13570663</td><td>https://www.airbnb.com/users/show/13570663</td><td>⋯</td><td>Good Reviews</td><td>Good Reviews</td><td>Good Reviews</td><td>Good Reviews</td><td>Good Reviews</td><td>Good Reviews</td><td> 117</td><td>1</td><td>2</td><td>1</td></tr>\n",
              "\t<tr><td>23324274</td><td>https://www.airbnb.com/rooms/23324274</td><td>20230900000000</td><td>9/24/2023</td><td>city scrape    </td><td>Rental unit in Zürich · ★5.0 · 1 bedroom · 2 beds · 1 bath   </td><td>NA                                                                                                                                                                                                                                                                                                                                                                                                                                                                                                                                                      </td><td>https://a0.muscache.com/pictures/ad93397d-2414-42ec-a223-f56579a982a4.jpg                                </td><td>  475053</td><td>https://www.airbnb.com/users/show/475053  </td><td>⋯</td><td>Good Reviews</td><td>Good Reviews</td><td>Good Reviews</td><td>Good Reviews</td><td>Good Reviews</td><td>Good Reviews</td><td> 802</td><td>1</td><td>4</td><td>2</td></tr>\n",
              "\t<tr><td>23325594</td><td>https://www.airbnb.com/rooms/23325594</td><td>20230900000000</td><td>9/24/2023</td><td>city scrape    </td><td>Rental unit in Zürich · ★4.95 · 1 bedroom · 2 beds · 1 bath  </td><td>NA                                                                                                                                                                                                                                                                                                                                                                                                                                                                                                                                                      </td><td>https://a0.muscache.com/pictures/ea9ff9d7-597a-44fe-ac8d-33a49f4255f8.jpg                                </td><td>  475053</td><td>https://www.airbnb.com/users/show/475053  </td><td>⋯</td><td>Good Reviews</td><td>Good Reviews</td><td>Good Reviews</td><td>Good Reviews</td><td>Good Reviews</td><td>Good Reviews</td><td> 802</td><td>1</td><td>4</td><td>2</td></tr>\n",
              "\t<tr><td> 8370018</td><td>https://www.airbnb.com/rooms/8370018 </td><td>20230900000000</td><td>9/24/2023</td><td>city scrape    </td><td>Rental unit in Zürich · ★4.81 · 2 bedrooms · 3 beds · 2 baths</td><td>NA                                                                                                                                                                                                                                                                                                                                                                                                                                                                                                                                                      </td><td>https://a0.muscache.com/pictures/miso/Hosting-8370018/original/1d4716de-e5c1-45b9-bbcd-436eed4aa250.jpeg </td><td>  475053</td><td>https://www.airbnb.com/users/show/475053  </td><td>⋯</td><td>Good Reviews</td><td>Good Reviews</td><td>Good Reviews</td><td>Good Reviews</td><td>Good Reviews</td><td>Good Reviews</td><td>1325</td><td>2</td><td>3</td><td>2</td></tr>\n",
              "</tbody>\n",
              "</table>\n"
            ],
            "text/markdown": "\nA grouped_df: 6 × 72\n\n| id &lt;dbl&gt; | listing_url &lt;chr&gt; | scrape_id &lt;dbl&gt; | last_scraped &lt;chr&gt; | source &lt;chr&gt; | name &lt;chr&gt; | neighborhood_overview &lt;chr&gt; | picture_url &lt;chr&gt; | host_id &lt;dbl&gt; | host_url &lt;chr&gt; | ⋯ ⋯ | review_rating &lt;fct&gt; | review_accuracy &lt;fct&gt; | review_cleanliness &lt;fct&gt; | review_checkin &lt;fct&gt; | review_communication &lt;fct&gt; | review_location &lt;fct&gt; | NumPrice &lt;dbl&gt; | baths &lt;dbl&gt; | guestsPerBath &lt;dbl&gt; | guestsPerBed &lt;dbl&gt; |\n|---|---|---|---|---|---|---|---|---|---|---|---|---|---|---|---|---|---|---|---|---|\n| 49201447 | https://www.airbnb.com/rooms/49201447 | 20230900000000 | 9/24/2023 | city scrape     | Loft in Zürich · ★5.0 · 1 bedroom · 1 bed · 1 bath            | The loft is next to the luxury shopping street Bahnhofstrasse, the lake and beaches, top restaurants and bars, few minutes walking distance to all central cultural sightseeings, the old city, churches, museums etc. The only place with no street or tram in front of the Appartment overlooking the river and a beautiful marina with access to sunbathing platform and swimming / pure vacation feeling! Summer and winter! Restaurant with bio and organic fresh juices and food, coffee place, as well as gym in main floor or the same building. | https://a0.muscache.com/pictures/miso/Hosting-49201447/original/e4e62822-c482-4e39-9e48-e081bd2bb35f.jpeg | 12630015 | https://www.airbnb.com/users/show/12630015 | ⋯ | Good Reviews | Good Reviews | Good Reviews | Good Reviews | Good Reviews | Good Reviews |  407 | 1 | 2 | 2 |\n| 50101353 | https://www.airbnb.com/rooms/50101353 | 20230900000000 | 9/24/2023 | previous scrape | Loft in Zürich · ★5.0 · 2 bedrooms · 2 beds · 2 baths         | Very central location, minutes from Bahnhofstrasse shopping areas, many bars and restaurants. A 5minute walk to the lake                                                                                                                                                                                                                                                                                                                                                                                                                                 | https://a0.muscache.com/pictures/5a6bfcae-c409-4c78-a8c2-be4c03b9fa05.jpg                                 | 13470694 | https://www.airbnb.com/users/show/13470694 | ⋯ | Good Reviews | Good Reviews | Good Reviews | Good Reviews | Good Reviews | Good Reviews |  480 | 2 | 2 | 2 |\n|  9785013 | https://www.airbnb.com/rooms/9785013  | 20230900000000 | 9/24/2023 | city scrape     | Rental unit in Zürich · ★4.57 · Studio · 2 beds · 1 bath      | NA                                                                                                                                                                                                                                                                                                                                                                                                                                                                                                                                                       | https://a0.muscache.com/pictures/0176518e-9e95-4f42-a5d8-93c572a4681e.jpg                                 | 13570663 | https://www.airbnb.com/users/show/13570663 | ⋯ | Good Reviews | Good Reviews | Good Reviews | Good Reviews | Good Reviews | Good Reviews |  117 | 1 | 2 | 1 |\n| 23324274 | https://www.airbnb.com/rooms/23324274 | 20230900000000 | 9/24/2023 | city scrape     | Rental unit in Zürich · ★5.0 · 1 bedroom · 2 beds · 1 bath    | NA                                                                                                                                                                                                                                                                                                                                                                                                                                                                                                                                                       | https://a0.muscache.com/pictures/ad93397d-2414-42ec-a223-f56579a982a4.jpg                                 |   475053 | https://www.airbnb.com/users/show/475053   | ⋯ | Good Reviews | Good Reviews | Good Reviews | Good Reviews | Good Reviews | Good Reviews |  802 | 1 | 4 | 2 |\n| 23325594 | https://www.airbnb.com/rooms/23325594 | 20230900000000 | 9/24/2023 | city scrape     | Rental unit in Zürich · ★4.95 · 1 bedroom · 2 beds · 1 bath   | NA                                                                                                                                                                                                                                                                                                                                                                                                                                                                                                                                                       | https://a0.muscache.com/pictures/ea9ff9d7-597a-44fe-ac8d-33a49f4255f8.jpg                                 |   475053 | https://www.airbnb.com/users/show/475053   | ⋯ | Good Reviews | Good Reviews | Good Reviews | Good Reviews | Good Reviews | Good Reviews |  802 | 1 | 4 | 2 |\n|  8370018 | https://www.airbnb.com/rooms/8370018  | 20230900000000 | 9/24/2023 | city scrape     | Rental unit in Zürich · ★4.81 · 2 bedrooms · 3 beds · 2 baths | NA                                                                                                                                                                                                                                                                                                                                                                                                                                                                                                                                                       | https://a0.muscache.com/pictures/miso/Hosting-8370018/original/1d4716de-e5c1-45b9-bbcd-436eed4aa250.jpeg  |   475053 | https://www.airbnb.com/users/show/475053   | ⋯ | Good Reviews | Good Reviews | Good Reviews | Good Reviews | Good Reviews | Good Reviews | 1325 | 2 | 3 | 2 |\n\n",
            "text/latex": "A grouped\\_df: 6 × 72\n\\begin{tabular}{lllllllllllllllllllll}\n id & listing\\_url & scrape\\_id & last\\_scraped & source & name & neighborhood\\_overview & picture\\_url & host\\_id & host\\_url & ⋯ & review\\_rating & review\\_accuracy & review\\_cleanliness & review\\_checkin & review\\_communication & review\\_location & NumPrice & baths & guestsPerBath & guestsPerBed\\\\\n <dbl> & <chr> & <dbl> & <chr> & <chr> & <chr> & <chr> & <chr> & <dbl> & <chr> & ⋯ & <fct> & <fct> & <fct> & <fct> & <fct> & <fct> & <dbl> & <dbl> & <dbl> & <dbl>\\\\\n\\hline\n\t 49201447 & https://www.airbnb.com/rooms/49201447 & 20230900000000 & 9/24/2023 & city scrape     & Loft in Zürich · ★5.0 · 1 bedroom · 1 bed · 1 bath            & The loft is next to the luxury shopping street Bahnhofstrasse, the lake and beaches, top restaurants and bars, few minutes walking distance to all central cultural sightseeings, the old city, churches, museums etc. The only place with no street or tram in front of the Appartment overlooking the river and a beautiful marina with access to sunbathing platform and swimming / pure vacation feeling! Summer and winter! Restaurant with bio and organic fresh juices and food, coffee place, as well as gym in main floor or the same building. & https://a0.muscache.com/pictures/miso/Hosting-49201447/original/e4e62822-c482-4e39-9e48-e081bd2bb35f.jpeg & 12630015 & https://www.airbnb.com/users/show/12630015 & ⋯ & Good Reviews & Good Reviews & Good Reviews & Good Reviews & Good Reviews & Good Reviews &  407 & 1 & 2 & 2\\\\\n\t 50101353 & https://www.airbnb.com/rooms/50101353 & 20230900000000 & 9/24/2023 & previous scrape & Loft in Zürich · ★5.0 · 2 bedrooms · 2 beds · 2 baths         & Very central location, minutes from Bahnhofstrasse shopping areas, many bars and restaurants. A 5minute walk to the lake                                                                                                                                                                                                                                                                                                                                                                                                                                 & https://a0.muscache.com/pictures/5a6bfcae-c409-4c78-a8c2-be4c03b9fa05.jpg                                 & 13470694 & https://www.airbnb.com/users/show/13470694 & ⋯ & Good Reviews & Good Reviews & Good Reviews & Good Reviews & Good Reviews & Good Reviews &  480 & 2 & 2 & 2\\\\\n\t  9785013 & https://www.airbnb.com/rooms/9785013  & 20230900000000 & 9/24/2023 & city scrape     & Rental unit in Zürich · ★4.57 · Studio · 2 beds · 1 bath      & NA                                                                                                                                                                                                                                                                                                                                                                                                                                                                                                                                                       & https://a0.muscache.com/pictures/0176518e-9e95-4f42-a5d8-93c572a4681e.jpg                                 & 13570663 & https://www.airbnb.com/users/show/13570663 & ⋯ & Good Reviews & Good Reviews & Good Reviews & Good Reviews & Good Reviews & Good Reviews &  117 & 1 & 2 & 1\\\\\n\t 23324274 & https://www.airbnb.com/rooms/23324274 & 20230900000000 & 9/24/2023 & city scrape     & Rental unit in Zürich · ★5.0 · 1 bedroom · 2 beds · 1 bath    & NA                                                                                                                                                                                                                                                                                                                                                                                                                                                                                                                                                       & https://a0.muscache.com/pictures/ad93397d-2414-42ec-a223-f56579a982a4.jpg                                 &   475053 & https://www.airbnb.com/users/show/475053   & ⋯ & Good Reviews & Good Reviews & Good Reviews & Good Reviews & Good Reviews & Good Reviews &  802 & 1 & 4 & 2\\\\\n\t 23325594 & https://www.airbnb.com/rooms/23325594 & 20230900000000 & 9/24/2023 & city scrape     & Rental unit in Zürich · ★4.95 · 1 bedroom · 2 beds · 1 bath   & NA                                                                                                                                                                                                                                                                                                                                                                                                                                                                                                                                                       & https://a0.muscache.com/pictures/ea9ff9d7-597a-44fe-ac8d-33a49f4255f8.jpg                                 &   475053 & https://www.airbnb.com/users/show/475053   & ⋯ & Good Reviews & Good Reviews & Good Reviews & Good Reviews & Good Reviews & Good Reviews &  802 & 1 & 4 & 2\\\\\n\t  8370018 & https://www.airbnb.com/rooms/8370018  & 20230900000000 & 9/24/2023 & city scrape     & Rental unit in Zürich · ★4.81 · 2 bedrooms · 3 beds · 2 baths & NA                                                                                                                                                                                                                                                                                                                                                                                                                                                                                                                                                       & https://a0.muscache.com/pictures/miso/Hosting-8370018/original/1d4716de-e5c1-45b9-bbcd-436eed4aa250.jpeg  &   475053 & https://www.airbnb.com/users/show/475053   & ⋯ & Good Reviews & Good Reviews & Good Reviews & Good Reviews & Good Reviews & Good Reviews & 1325 & 2 & 3 & 2\\\\\n\\end{tabular}\n",
            "text/plain": [
              "  id       listing_url                           scrape_id      last_scraped\n",
              "1 49201447 https://www.airbnb.com/rooms/49201447 20230900000000 9/24/2023   \n",
              "2 50101353 https://www.airbnb.com/rooms/50101353 20230900000000 9/24/2023   \n",
              "3  9785013 https://www.airbnb.com/rooms/9785013  20230900000000 9/24/2023   \n",
              "4 23324274 https://www.airbnb.com/rooms/23324274 20230900000000 9/24/2023   \n",
              "5 23325594 https://www.airbnb.com/rooms/23325594 20230900000000 9/24/2023   \n",
              "6  8370018 https://www.airbnb.com/rooms/8370018  20230900000000 9/24/2023   \n",
              "  source          name                                                         \n",
              "1 city scrape     Loft in Zürich · ★5.0 · 1 bedroom · 1 bed · 1 bath           \n",
              "2 previous scrape Loft in Zürich · ★5.0 · 2 bedrooms · 2 beds · 2 baths        \n",
              "3 city scrape     Rental unit in Zürich · ★4.57 · Studio · 2 beds · 1 bath     \n",
              "4 city scrape     Rental unit in Zürich · ★5.0 · 1 bedroom · 2 beds · 1 bath   \n",
              "5 city scrape     Rental unit in Zürich · ★4.95 · 1 bedroom · 2 beds · 1 bath  \n",
              "6 city scrape     Rental unit in Zürich · ★4.81 · 2 bedrooms · 3 beds · 2 baths\n",
              "  neighborhood_overview                                                                                                                                                                                                                                                                                                                                                                                                                                                                                                                                   \n",
              "1 The loft is next to the luxury shopping street Bahnhofstrasse, the lake and beaches, top restaurants and bars, few minutes walking distance to all central cultural sightseeings, the old city, churches, museums etc. The only place with no street or tram in front of the Appartment overlooking the river and a beautiful marina with access to sunbathing platform and swimming / pure vacation feeling! Summer and winter! Restaurant with bio and organic fresh juices and food, coffee place, as well as gym in main floor or the same building.\n",
              "2 Very central location, minutes from Bahnhofstrasse shopping areas, many bars and restaurants. A 5minute walk to the lake                                                                                                                                                                                                                                                                                                                                                                                                                                \n",
              "3 NA                                                                                                                                                                                                                                                                                                                                                                                                                                                                                                                                                      \n",
              "4 NA                                                                                                                                                                                                                                                                                                                                                                                                                                                                                                                                                      \n",
              "5 NA                                                                                                                                                                                                                                                                                                                                                                                                                                                                                                                                                      \n",
              "6 NA                                                                                                                                                                                                                                                                                                                                                                                                                                                                                                                                                      \n",
              "  picture_url                                                                                              \n",
              "1 https://a0.muscache.com/pictures/miso/Hosting-49201447/original/e4e62822-c482-4e39-9e48-e081bd2bb35f.jpeg\n",
              "2 https://a0.muscache.com/pictures/5a6bfcae-c409-4c78-a8c2-be4c03b9fa05.jpg                                \n",
              "3 https://a0.muscache.com/pictures/0176518e-9e95-4f42-a5d8-93c572a4681e.jpg                                \n",
              "4 https://a0.muscache.com/pictures/ad93397d-2414-42ec-a223-f56579a982a4.jpg                                \n",
              "5 https://a0.muscache.com/pictures/ea9ff9d7-597a-44fe-ac8d-33a49f4255f8.jpg                                \n",
              "6 https://a0.muscache.com/pictures/miso/Hosting-8370018/original/1d4716de-e5c1-45b9-bbcd-436eed4aa250.jpeg \n",
              "  host_id  host_url                                   ⋯ review_rating\n",
              "1 12630015 https://www.airbnb.com/users/show/12630015 ⋯ Good Reviews \n",
              "2 13470694 https://www.airbnb.com/users/show/13470694 ⋯ Good Reviews \n",
              "3 13570663 https://www.airbnb.com/users/show/13570663 ⋯ Good Reviews \n",
              "4   475053 https://www.airbnb.com/users/show/475053   ⋯ Good Reviews \n",
              "5   475053 https://www.airbnb.com/users/show/475053   ⋯ Good Reviews \n",
              "6   475053 https://www.airbnb.com/users/show/475053   ⋯ Good Reviews \n",
              "  review_accuracy review_cleanliness review_checkin review_communication\n",
              "1 Good Reviews    Good Reviews       Good Reviews   Good Reviews        \n",
              "2 Good Reviews    Good Reviews       Good Reviews   Good Reviews        \n",
              "3 Good Reviews    Good Reviews       Good Reviews   Good Reviews        \n",
              "4 Good Reviews    Good Reviews       Good Reviews   Good Reviews        \n",
              "5 Good Reviews    Good Reviews       Good Reviews   Good Reviews        \n",
              "6 Good Reviews    Good Reviews       Good Reviews   Good Reviews        \n",
              "  review_location NumPrice baths guestsPerBath guestsPerBed\n",
              "1 Good Reviews     407     1     2             2           \n",
              "2 Good Reviews     480     2     2             2           \n",
              "3 Good Reviews     117     1     2             1           \n",
              "4 Good Reviews     802     1     4             2           \n",
              "5 Good Reviews     802     1     4             2           \n",
              "6 Good Reviews    1325     2     3             2           "
            ]
          },
          "metadata": {}
        }
      ]
    },
    {
      "cell_type": "markdown",
      "source": [
        "# **Part I:  KNN**"
      ],
      "metadata": {
        "id": "eWnw3Umjztii"
      },
      "id": "eWnw3Umjztii"
    },
    {
      "cell_type": "markdown",
      "source": [
        "### Solution : A"
      ],
      "metadata": {
        "id": "qe7NO9qo30FW"
      },
      "id": "qe7NO9qo30FW"
    },
    {
      "cell_type": "markdown",
      "source": [
        "### Step - I: Dataset Handling"
      ],
      "metadata": {
        "id": "Y9xKvrs79RU7"
      },
      "id": "Y9xKvrs79RU7"
    },
    {
      "cell_type": "code",
      "source": [
        "install.packages(\"caret\")\n",
        "install.packages(\"class\")\n",
        "library(caret)\n",
        "library(class)\n",
        "library(dplyr)"
      ],
      "metadata": {
        "colab": {
          "base_uri": "https://localhost:8080/"
        },
        "id": "Cdz623aW82we",
        "outputId": "edb21a9c-2da4-49b7-e869-3dad81afffae"
      },
      "id": "Cdz623aW82we",
      "execution_count": 29,
      "outputs": [
        {
          "output_type": "stream",
          "name": "stderr",
          "text": [
            "Installing package into ‘/usr/local/lib/R/site-library’\n",
            "(as ‘lib’ is unspecified)\n",
            "\n",
            "also installing the dependencies ‘listenv’, ‘parallelly’, ‘future’, ‘globals’, ‘shape’, ‘future.apply’, ‘numDeriv’, ‘progressr’, ‘SQUAREM’, ‘diagram’, ‘lava’, ‘prodlim’, ‘proxy’, ‘iterators’, ‘clock’, ‘gower’, ‘hardhat’, ‘ipred’, ‘timeDate’, ‘e1071’, ‘foreach’, ‘ModelMetrics’, ‘pROC’, ‘recipes’, ‘reshape2’\n",
            "\n",
            "\n",
            "Installing package into ‘/usr/local/lib/R/site-library’\n",
            "(as ‘lib’ is unspecified)\n",
            "\n",
            "Loading required package: lattice\n",
            "\n",
            "\n",
            "Attaching package: ‘caret’\n",
            "\n",
            "\n",
            "The following object is masked from ‘package:purrr’:\n",
            "\n",
            "    lift\n",
            "\n",
            "\n"
          ]
        }
      ]
    },
    {
      "cell_type": "code",
      "source": [
        "# Looking at the data set\n",
        "head(zurich_imputed)"
      ],
      "metadata": {
        "colab": {
          "base_uri": "https://localhost:8080/",
          "height": 1000
        },
        "id": "rmMFAUdm49VT",
        "outputId": "9a05e367-8fe3-491c-fbd7-510ae34f08d7"
      },
      "id": "rmMFAUdm49VT",
      "execution_count": 136,
      "outputs": [
        {
          "output_type": "display_data",
          "data": {
            "text/html": [
              "<table class=\"dataframe\">\n",
              "<caption>A grouped_df: 6 × 74</caption>\n",
              "<thead>\n",
              "\t<tr><th scope=col>listing_url</th><th scope=col>scrape_id</th><th scope=col>last_scraped</th><th scope=col>source</th><th scope=col>name</th><th scope=col>neighborhood_overview</th><th scope=col>picture_url</th><th scope=col>host_id</th><th scope=col>host_url</th><th scope=col>host_name</th><th scope=col>⋯</th><th scope=col>review_checkin</th><th scope=col>review_communication</th><th scope=col>review_location</th><th scope=col>NumPrice</th><th scope=col>baths</th><th scope=col>guestsPerBath</th><th scope=col>guestsPerBed</th><th scope=col>Wifi</th><th scope=col>Wifi_Available</th><th scope=col>Wifi_numeric</th></tr>\n",
              "\t<tr><th scope=col>&lt;chr&gt;</th><th scope=col>&lt;dbl&gt;</th><th scope=col>&lt;chr&gt;</th><th scope=col>&lt;chr&gt;</th><th scope=col>&lt;chr&gt;</th><th scope=col>&lt;chr&gt;</th><th scope=col>&lt;chr&gt;</th><th scope=col>&lt;dbl&gt;</th><th scope=col>&lt;chr&gt;</th><th scope=col>&lt;chr&gt;</th><th scope=col>⋯</th><th scope=col>&lt;fct&gt;</th><th scope=col>&lt;fct&gt;</th><th scope=col>&lt;fct&gt;</th><th scope=col>&lt;dbl&gt;</th><th scope=col>&lt;dbl&gt;</th><th scope=col>&lt;dbl&gt;</th><th scope=col>&lt;dbl&gt;</th><th scope=col>&lt;dbl&gt;</th><th scope=col>&lt;chr&gt;</th><th scope=col>&lt;dbl&gt;</th></tr>\n",
              "</thead>\n",
              "<tbody>\n",
              "\t<tr><td>https://www.airbnb.com/rooms/49201447</td><td>20230900000000</td><td>9/24/2023</td><td>city scrape    </td><td>Loft in Zürich · ★5.0 · 1 bedroom · 1 bed · 1 bath           </td><td>The loft is next to the luxury shopping street Bahnhofstrasse, the lake and beaches, top restaurants and bars, few minutes walking distance to all central cultural sightseeings, the old city, churches, museums etc. The only place with no street or tram in front of the Appartment overlooking the river and a beautiful marina with access to sunbathing platform and swimming / pure vacation feeling! Summer and winter! Restaurant with bio and organic fresh juices and food, coffee place, as well as gym in main floor or the same building.</td><td>https://a0.muscache.com/pictures/miso/Hosting-49201447/original/e4e62822-c482-4e39-9e48-e081bd2bb35f.jpeg</td><td>12630015</td><td>https://www.airbnb.com/users/show/12630015</td><td>Konstantin      </td><td>⋯</td><td>Good Reviews</td><td>Good Reviews</td><td>Good Reviews</td><td> 0.8155309</td><td>-0.4036603</td><td>2</td><td>2</td><td>1</td><td>Yes</td><td>1</td></tr>\n",
              "\t<tr><td>https://www.airbnb.com/rooms/50101353</td><td>20230900000000</td><td>9/24/2023</td><td>previous scrape</td><td>Loft in Zürich · ★5.0 · 2 bedrooms · 2 beds · 2 baths        </td><td>Very central location, minutes from Bahnhofstrasse shopping areas, many bars and restaurants. A 5minute walk to the lake                                                                                                                                                                                                                                                                                                                                                                                                                                </td><td>https://a0.muscache.com/pictures/5a6bfcae-c409-4c78-a8c2-be4c03b9fa05.jpg                                </td><td>13470694</td><td>https://www.airbnb.com/users/show/13470694</td><td>Henry           </td><td>⋯</td><td>Good Reviews</td><td>Good Reviews</td><td>Good Reviews</td><td> 1.0863687</td><td> 2.0640722</td><td>2</td><td>2</td><td>1</td><td>Yes</td><td>1</td></tr>\n",
              "\t<tr><td>https://www.airbnb.com/rooms/9785013 </td><td>20230900000000</td><td>9/24/2023</td><td>city scrape    </td><td>Rental unit in Zürich · ★4.57 · Studio · 2 beds · 1 bath     </td><td>NA                                                                                                                                                                                                                                                                                                                                                                                                                                                                                                                                                      </td><td>https://a0.muscache.com/pictures/0176518e-9e95-4f42-a5d8-93c572a4681e.jpg                                </td><td>13570663</td><td>https://www.airbnb.com/users/show/13570663</td><td>Christian Robert</td><td>⋯</td><td>Good Reviews</td><td>Good Reviews</td><td>Good Reviews</td><td>-0.2604000</td><td>-0.4036603</td><td>2</td><td>1</td><td>1</td><td>Yes</td><td>1</td></tr>\n",
              "\t<tr><td>https://www.airbnb.com/rooms/23324274</td><td>20230900000000</td><td>9/24/2023</td><td>city scrape    </td><td>Rental unit in Zürich · ★5.0 · 1 bedroom · 2 beds · 1 bath   </td><td>NA                                                                                                                                                                                                                                                                                                                                                                                                                                                                                                                                                      </td><td>https://a0.muscache.com/pictures/ad93397d-2414-42ec-a223-f56579a982a4.jpg                                </td><td>  475053</td><td>https://www.airbnb.com/users/show/475053  </td><td>James           </td><td>⋯</td><td>Good Reviews</td><td>Good Reviews</td><td>Good Reviews</td><td> 2.2810230</td><td>-0.4036603</td><td>4</td><td>2</td><td>1</td><td>Yes</td><td>1</td></tr>\n",
              "\t<tr><td>https://www.airbnb.com/rooms/23325594</td><td>20230900000000</td><td>9/24/2023</td><td>city scrape    </td><td>Rental unit in Zürich · ★4.95 · 1 bedroom · 2 beds · 1 bath  </td><td>NA                                                                                                                                                                                                                                                                                                                                                                                                                                                                                                                                                      </td><td>https://a0.muscache.com/pictures/ea9ff9d7-597a-44fe-ac8d-33a49f4255f8.jpg                                </td><td>  475053</td><td>https://www.airbnb.com/users/show/475053  </td><td>James           </td><td>⋯</td><td>Good Reviews</td><td>Good Reviews</td><td>Good Reviews</td><td> 2.2810230</td><td>-0.4036603</td><td>4</td><td>2</td><td>1</td><td>Yes</td><td>1</td></tr>\n",
              "\t<tr><td>https://www.airbnb.com/rooms/8370018 </td><td>20230900000000</td><td>9/24/2023</td><td>city scrape    </td><td>Rental unit in Zürich · ★4.81 · 2 bedrooms · 3 beds · 2 baths</td><td>NA                                                                                                                                                                                                                                                                                                                                                                                                                                                                                                                                                      </td><td>https://a0.muscache.com/pictures/miso/Hosting-8370018/original/1d4716de-e5c1-45b9-bbcd-436eed4aa250.jpeg </td><td>  475053</td><td>https://www.airbnb.com/users/show/475053  </td><td>James           </td><td>⋯</td><td>Good Reviews</td><td>Good Reviews</td><td>Good Reviews</td><td> 4.2214088</td><td> 2.0640722</td><td>3</td><td>2</td><td>1</td><td>Yes</td><td>1</td></tr>\n",
              "</tbody>\n",
              "</table>\n"
            ],
            "text/markdown": "\nA grouped_df: 6 × 74\n\n| listing_url &lt;chr&gt; | scrape_id &lt;dbl&gt; | last_scraped &lt;chr&gt; | source &lt;chr&gt; | name &lt;chr&gt; | neighborhood_overview &lt;chr&gt; | picture_url &lt;chr&gt; | host_id &lt;dbl&gt; | host_url &lt;chr&gt; | host_name &lt;chr&gt; | ⋯ ⋯ | review_checkin &lt;fct&gt; | review_communication &lt;fct&gt; | review_location &lt;fct&gt; | NumPrice &lt;dbl&gt; | baths &lt;dbl&gt; | guestsPerBath &lt;dbl&gt; | guestsPerBed &lt;dbl&gt; | Wifi &lt;dbl&gt; | Wifi_Available &lt;chr&gt; | Wifi_numeric &lt;dbl&gt; |\n|---|---|---|---|---|---|---|---|---|---|---|---|---|---|---|---|---|---|---|---|---|\n| https://www.airbnb.com/rooms/49201447 | 20230900000000 | 9/24/2023 | city scrape     | Loft in Zürich · ★5.0 · 1 bedroom · 1 bed · 1 bath            | The loft is next to the luxury shopping street Bahnhofstrasse, the lake and beaches, top restaurants and bars, few minutes walking distance to all central cultural sightseeings, the old city, churches, museums etc. The only place with no street or tram in front of the Appartment overlooking the river and a beautiful marina with access to sunbathing platform and swimming / pure vacation feeling! Summer and winter! Restaurant with bio and organic fresh juices and food, coffee place, as well as gym in main floor or the same building. | https://a0.muscache.com/pictures/miso/Hosting-49201447/original/e4e62822-c482-4e39-9e48-e081bd2bb35f.jpeg | 12630015 | https://www.airbnb.com/users/show/12630015 | Konstantin       | ⋯ | Good Reviews | Good Reviews | Good Reviews |  0.8155309 | -0.4036603 | 2 | 2 | 1 | Yes | 1 |\n| https://www.airbnb.com/rooms/50101353 | 20230900000000 | 9/24/2023 | previous scrape | Loft in Zürich · ★5.0 · 2 bedrooms · 2 beds · 2 baths         | Very central location, minutes from Bahnhofstrasse shopping areas, many bars and restaurants. A 5minute walk to the lake                                                                                                                                                                                                                                                                                                                                                                                                                                 | https://a0.muscache.com/pictures/5a6bfcae-c409-4c78-a8c2-be4c03b9fa05.jpg                                 | 13470694 | https://www.airbnb.com/users/show/13470694 | Henry            | ⋯ | Good Reviews | Good Reviews | Good Reviews |  1.0863687 |  2.0640722 | 2 | 2 | 1 | Yes | 1 |\n| https://www.airbnb.com/rooms/9785013  | 20230900000000 | 9/24/2023 | city scrape     | Rental unit in Zürich · ★4.57 · Studio · 2 beds · 1 bath      | NA                                                                                                                                                                                                                                                                                                                                                                                                                                                                                                                                                       | https://a0.muscache.com/pictures/0176518e-9e95-4f42-a5d8-93c572a4681e.jpg                                 | 13570663 | https://www.airbnb.com/users/show/13570663 | Christian Robert | ⋯ | Good Reviews | Good Reviews | Good Reviews | -0.2604000 | -0.4036603 | 2 | 1 | 1 | Yes | 1 |\n| https://www.airbnb.com/rooms/23324274 | 20230900000000 | 9/24/2023 | city scrape     | Rental unit in Zürich · ★5.0 · 1 bedroom · 2 beds · 1 bath    | NA                                                                                                                                                                                                                                                                                                                                                                                                                                                                                                                                                       | https://a0.muscache.com/pictures/ad93397d-2414-42ec-a223-f56579a982a4.jpg                                 |   475053 | https://www.airbnb.com/users/show/475053   | James            | ⋯ | Good Reviews | Good Reviews | Good Reviews |  2.2810230 | -0.4036603 | 4 | 2 | 1 | Yes | 1 |\n| https://www.airbnb.com/rooms/23325594 | 20230900000000 | 9/24/2023 | city scrape     | Rental unit in Zürich · ★4.95 · 1 bedroom · 2 beds · 1 bath   | NA                                                                                                                                                                                                                                                                                                                                                                                                                                                                                                                                                       | https://a0.muscache.com/pictures/ea9ff9d7-597a-44fe-ac8d-33a49f4255f8.jpg                                 |   475053 | https://www.airbnb.com/users/show/475053   | James            | ⋯ | Good Reviews | Good Reviews | Good Reviews |  2.2810230 | -0.4036603 | 4 | 2 | 1 | Yes | 1 |\n| https://www.airbnb.com/rooms/8370018  | 20230900000000 | 9/24/2023 | city scrape     | Rental unit in Zürich · ★4.81 · 2 bedrooms · 3 beds · 2 baths | NA                                                                                                                                                                                                                                                                                                                                                                                                                                                                                                                                                       | https://a0.muscache.com/pictures/miso/Hosting-8370018/original/1d4716de-e5c1-45b9-bbcd-436eed4aa250.jpeg  |   475053 | https://www.airbnb.com/users/show/475053   | James            | ⋯ | Good Reviews | Good Reviews | Good Reviews |  4.2214088 |  2.0640722 | 3 | 2 | 1 | Yes | 1 |\n\n",
            "text/latex": "A grouped\\_df: 6 × 74\n\\begin{tabular}{lllllllllllllllllllll}\n listing\\_url & scrape\\_id & last\\_scraped & source & name & neighborhood\\_overview & picture\\_url & host\\_id & host\\_url & host\\_name & ⋯ & review\\_checkin & review\\_communication & review\\_location & NumPrice & baths & guestsPerBath & guestsPerBed & Wifi & Wifi\\_Available & Wifi\\_numeric\\\\\n <chr> & <dbl> & <chr> & <chr> & <chr> & <chr> & <chr> & <dbl> & <chr> & <chr> & ⋯ & <fct> & <fct> & <fct> & <dbl> & <dbl> & <dbl> & <dbl> & <dbl> & <chr> & <dbl>\\\\\n\\hline\n\t https://www.airbnb.com/rooms/49201447 & 20230900000000 & 9/24/2023 & city scrape     & Loft in Zürich · ★5.0 · 1 bedroom · 1 bed · 1 bath            & The loft is next to the luxury shopping street Bahnhofstrasse, the lake and beaches, top restaurants and bars, few minutes walking distance to all central cultural sightseeings, the old city, churches, museums etc. The only place with no street or tram in front of the Appartment overlooking the river and a beautiful marina with access to sunbathing platform and swimming / pure vacation feeling! Summer and winter! Restaurant with bio and organic fresh juices and food, coffee place, as well as gym in main floor or the same building. & https://a0.muscache.com/pictures/miso/Hosting-49201447/original/e4e62822-c482-4e39-9e48-e081bd2bb35f.jpeg & 12630015 & https://www.airbnb.com/users/show/12630015 & Konstantin       & ⋯ & Good Reviews & Good Reviews & Good Reviews &  0.8155309 & -0.4036603 & 2 & 2 & 1 & Yes & 1\\\\\n\t https://www.airbnb.com/rooms/50101353 & 20230900000000 & 9/24/2023 & previous scrape & Loft in Zürich · ★5.0 · 2 bedrooms · 2 beds · 2 baths         & Very central location, minutes from Bahnhofstrasse shopping areas, many bars and restaurants. A 5minute walk to the lake                                                                                                                                                                                                                                                                                                                                                                                                                                 & https://a0.muscache.com/pictures/5a6bfcae-c409-4c78-a8c2-be4c03b9fa05.jpg                                 & 13470694 & https://www.airbnb.com/users/show/13470694 & Henry            & ⋯ & Good Reviews & Good Reviews & Good Reviews &  1.0863687 &  2.0640722 & 2 & 2 & 1 & Yes & 1\\\\\n\t https://www.airbnb.com/rooms/9785013  & 20230900000000 & 9/24/2023 & city scrape     & Rental unit in Zürich · ★4.57 · Studio · 2 beds · 1 bath      & NA                                                                                                                                                                                                                                                                                                                                                                                                                                                                                                                                                       & https://a0.muscache.com/pictures/0176518e-9e95-4f42-a5d8-93c572a4681e.jpg                                 & 13570663 & https://www.airbnb.com/users/show/13570663 & Christian Robert & ⋯ & Good Reviews & Good Reviews & Good Reviews & -0.2604000 & -0.4036603 & 2 & 1 & 1 & Yes & 1\\\\\n\t https://www.airbnb.com/rooms/23324274 & 20230900000000 & 9/24/2023 & city scrape     & Rental unit in Zürich · ★5.0 · 1 bedroom · 2 beds · 1 bath    & NA                                                                                                                                                                                                                                                                                                                                                                                                                                                                                                                                                       & https://a0.muscache.com/pictures/ad93397d-2414-42ec-a223-f56579a982a4.jpg                                 &   475053 & https://www.airbnb.com/users/show/475053   & James            & ⋯ & Good Reviews & Good Reviews & Good Reviews &  2.2810230 & -0.4036603 & 4 & 2 & 1 & Yes & 1\\\\\n\t https://www.airbnb.com/rooms/23325594 & 20230900000000 & 9/24/2023 & city scrape     & Rental unit in Zürich · ★4.95 · 1 bedroom · 2 beds · 1 bath   & NA                                                                                                                                                                                                                                                                                                                                                                                                                                                                                                                                                       & https://a0.muscache.com/pictures/ea9ff9d7-597a-44fe-ac8d-33a49f4255f8.jpg                                 &   475053 & https://www.airbnb.com/users/show/475053   & James            & ⋯ & Good Reviews & Good Reviews & Good Reviews &  2.2810230 & -0.4036603 & 4 & 2 & 1 & Yes & 1\\\\\n\t https://www.airbnb.com/rooms/8370018  & 20230900000000 & 9/24/2023 & city scrape     & Rental unit in Zürich · ★4.81 · 2 bedrooms · 3 beds · 2 baths & NA                                                                                                                                                                                                                                                                                                                                                                                                                                                                                                                                                       & https://a0.muscache.com/pictures/miso/Hosting-8370018/original/1d4716de-e5c1-45b9-bbcd-436eed4aa250.jpeg  &   475053 & https://www.airbnb.com/users/show/475053   & James            & ⋯ & Good Reviews & Good Reviews & Good Reviews &  4.2214088 &  2.0640722 & 3 & 2 & 1 & Yes & 1\\\\\n\\end{tabular}\n",
            "text/plain": [
              "  listing_url                           scrape_id      last_scraped\n",
              "1 https://www.airbnb.com/rooms/49201447 20230900000000 9/24/2023   \n",
              "2 https://www.airbnb.com/rooms/50101353 20230900000000 9/24/2023   \n",
              "3 https://www.airbnb.com/rooms/9785013  20230900000000 9/24/2023   \n",
              "4 https://www.airbnb.com/rooms/23324274 20230900000000 9/24/2023   \n",
              "5 https://www.airbnb.com/rooms/23325594 20230900000000 9/24/2023   \n",
              "6 https://www.airbnb.com/rooms/8370018  20230900000000 9/24/2023   \n",
              "  source          name                                                         \n",
              "1 city scrape     Loft in Zürich · ★5.0 · 1 bedroom · 1 bed · 1 bath           \n",
              "2 previous scrape Loft in Zürich · ★5.0 · 2 bedrooms · 2 beds · 2 baths        \n",
              "3 city scrape     Rental unit in Zürich · ★4.57 · Studio · 2 beds · 1 bath     \n",
              "4 city scrape     Rental unit in Zürich · ★5.0 · 1 bedroom · 2 beds · 1 bath   \n",
              "5 city scrape     Rental unit in Zürich · ★4.95 · 1 bedroom · 2 beds · 1 bath  \n",
              "6 city scrape     Rental unit in Zürich · ★4.81 · 2 bedrooms · 3 beds · 2 baths\n",
              "  neighborhood_overview                                                                                                                                                                                                                                                                                                                                                                                                                                                                                                                                   \n",
              "1 The loft is next to the luxury shopping street Bahnhofstrasse, the lake and beaches, top restaurants and bars, few minutes walking distance to all central cultural sightseeings, the old city, churches, museums etc. The only place with no street or tram in front of the Appartment overlooking the river and a beautiful marina with access to sunbathing platform and swimming / pure vacation feeling! Summer and winter! Restaurant with bio and organic fresh juices and food, coffee place, as well as gym in main floor or the same building.\n",
              "2 Very central location, minutes from Bahnhofstrasse shopping areas, many bars and restaurants. A 5minute walk to the lake                                                                                                                                                                                                                                                                                                                                                                                                                                \n",
              "3 NA                                                                                                                                                                                                                                                                                                                                                                                                                                                                                                                                                      \n",
              "4 NA                                                                                                                                                                                                                                                                                                                                                                                                                                                                                                                                                      \n",
              "5 NA                                                                                                                                                                                                                                                                                                                                                                                                                                                                                                                                                      \n",
              "6 NA                                                                                                                                                                                                                                                                                                                                                                                                                                                                                                                                                      \n",
              "  picture_url                                                                                              \n",
              "1 https://a0.muscache.com/pictures/miso/Hosting-49201447/original/e4e62822-c482-4e39-9e48-e081bd2bb35f.jpeg\n",
              "2 https://a0.muscache.com/pictures/5a6bfcae-c409-4c78-a8c2-be4c03b9fa05.jpg                                \n",
              "3 https://a0.muscache.com/pictures/0176518e-9e95-4f42-a5d8-93c572a4681e.jpg                                \n",
              "4 https://a0.muscache.com/pictures/ad93397d-2414-42ec-a223-f56579a982a4.jpg                                \n",
              "5 https://a0.muscache.com/pictures/ea9ff9d7-597a-44fe-ac8d-33a49f4255f8.jpg                                \n",
              "6 https://a0.muscache.com/pictures/miso/Hosting-8370018/original/1d4716de-e5c1-45b9-bbcd-436eed4aa250.jpeg \n",
              "  host_id  host_url                                   host_name        ⋯\n",
              "1 12630015 https://www.airbnb.com/users/show/12630015 Konstantin       ⋯\n",
              "2 13470694 https://www.airbnb.com/users/show/13470694 Henry            ⋯\n",
              "3 13570663 https://www.airbnb.com/users/show/13570663 Christian Robert ⋯\n",
              "4   475053 https://www.airbnb.com/users/show/475053   James            ⋯\n",
              "5   475053 https://www.airbnb.com/users/show/475053   James            ⋯\n",
              "6   475053 https://www.airbnb.com/users/show/475053   James            ⋯\n",
              "  review_checkin review_communication review_location NumPrice   baths     \n",
              "1 Good Reviews   Good Reviews         Good Reviews     0.8155309 -0.4036603\n",
              "2 Good Reviews   Good Reviews         Good Reviews     1.0863687  2.0640722\n",
              "3 Good Reviews   Good Reviews         Good Reviews    -0.2604000 -0.4036603\n",
              "4 Good Reviews   Good Reviews         Good Reviews     2.2810230 -0.4036603\n",
              "5 Good Reviews   Good Reviews         Good Reviews     2.2810230 -0.4036603\n",
              "6 Good Reviews   Good Reviews         Good Reviews     4.2214088  2.0640722\n",
              "  guestsPerBath guestsPerBed Wifi Wifi_Available Wifi_numeric\n",
              "1 2             2            1    Yes            1           \n",
              "2 2             2            1    Yes            1           \n",
              "3 2             1            1    Yes            1           \n",
              "4 4             2            1    Yes            1           \n",
              "5 4             2            1    Yes            1           \n",
              "6 3             2            1    Yes            1           "
            ]
          },
          "metadata": {}
        }
      ]
    },
    {
      "cell_type": "code",
      "source": [
        "# Add a new column \"index\" with row numbers starting from 0\n",
        "zurich_imputed$index <- seq_len(nrow(zurich_imputed)) - 1\n",
        "# Reorder columns to make \"index\" the first column\n",
        "zurich_imputed <- zurich_imputed[, c(\"index\", setdiff(names(zurich_imputed), \"index\"))]\n"
      ],
      "metadata": {
        "id": "s9sxgIE8xGML"
      },
      "id": "s9sxgIE8xGML",
      "execution_count": 221,
      "outputs": []
    },
    {
      "cell_type": "code",
      "source": [
        "head(zurich_imputed)\n"
      ],
      "metadata": {
        "colab": {
          "base_uri": "https://localhost:8080/",
          "height": 1000
        },
        "id": "PSMPvDnZxMk5",
        "outputId": "cae9d11c-54f6-4d11-ec03-113fd6187b39"
      },
      "id": "PSMPvDnZxMk5",
      "execution_count": 223,
      "outputs": [
        {
          "output_type": "display_data",
          "data": {
            "text/html": [
              "<table class=\"dataframe\">\n",
              "<caption>A grouped_df: 6 × 75</caption>\n",
              "<thead>\n",
              "\t<tr><th scope=col>index</th><th scope=col>listing_url</th><th scope=col>scrape_id</th><th scope=col>last_scraped</th><th scope=col>source</th><th scope=col>name</th><th scope=col>neighborhood_overview</th><th scope=col>picture_url</th><th scope=col>host_id</th><th scope=col>host_url</th><th scope=col>⋯</th><th scope=col>review_checkin</th><th scope=col>review_communication</th><th scope=col>review_location</th><th scope=col>NumPrice</th><th scope=col>baths</th><th scope=col>guestsPerBath</th><th scope=col>guestsPerBed</th><th scope=col>Wifi</th><th scope=col>Wifi_Available</th><th scope=col>Wifi_numeric</th></tr>\n",
              "\t<tr><th scope=col>&lt;dbl&gt;</th><th scope=col>&lt;chr&gt;</th><th scope=col>&lt;dbl&gt;</th><th scope=col>&lt;chr&gt;</th><th scope=col>&lt;chr&gt;</th><th scope=col>&lt;chr&gt;</th><th scope=col>&lt;chr&gt;</th><th scope=col>&lt;chr&gt;</th><th scope=col>&lt;dbl&gt;</th><th scope=col>&lt;chr&gt;</th><th scope=col>⋯</th><th scope=col>&lt;fct&gt;</th><th scope=col>&lt;fct&gt;</th><th scope=col>&lt;fct&gt;</th><th scope=col>&lt;dbl&gt;</th><th scope=col>&lt;dbl&gt;</th><th scope=col>&lt;dbl&gt;</th><th scope=col>&lt;dbl&gt;</th><th scope=col>&lt;dbl&gt;</th><th scope=col>&lt;chr&gt;</th><th scope=col>&lt;dbl&gt;</th></tr>\n",
              "</thead>\n",
              "<tbody>\n",
              "\t<tr><td>0</td><td>https://www.airbnb.com/rooms/49201447</td><td>20230900000000</td><td>9/24/2023</td><td>city scrape    </td><td>Loft in Zürich · ★5.0 · 1 bedroom · 1 bed · 1 bath           </td><td>The loft is next to the luxury shopping street Bahnhofstrasse, the lake and beaches, top restaurants and bars, few minutes walking distance to all central cultural sightseeings, the old city, churches, museums etc. The only place with no street or tram in front of the Appartment overlooking the river and a beautiful marina with access to sunbathing platform and swimming / pure vacation feeling! Summer and winter! Restaurant with bio and organic fresh juices and food, coffee place, as well as gym in main floor or the same building.</td><td>https://a0.muscache.com/pictures/miso/Hosting-49201447/original/e4e62822-c482-4e39-9e48-e081bd2bb35f.jpeg</td><td>12630015</td><td>https://www.airbnb.com/users/show/12630015</td><td>⋯</td><td>Good Reviews</td><td>Good Reviews</td><td>Good Reviews</td><td> 0.8155309</td><td>-0.4036603</td><td>2</td><td>2</td><td>1</td><td>Yes</td><td>1</td></tr>\n",
              "\t<tr><td>1</td><td>https://www.airbnb.com/rooms/50101353</td><td>20230900000000</td><td>9/24/2023</td><td>previous scrape</td><td>Loft in Zürich · ★5.0 · 2 bedrooms · 2 beds · 2 baths        </td><td>Very central location, minutes from Bahnhofstrasse shopping areas, many bars and restaurants. A 5minute walk to the lake                                                                                                                                                                                                                                                                                                                                                                                                                                </td><td>https://a0.muscache.com/pictures/5a6bfcae-c409-4c78-a8c2-be4c03b9fa05.jpg                                </td><td>13470694</td><td>https://www.airbnb.com/users/show/13470694</td><td>⋯</td><td>Good Reviews</td><td>Good Reviews</td><td>Good Reviews</td><td> 1.0863687</td><td> 2.0640722</td><td>2</td><td>2</td><td>1</td><td>Yes</td><td>1</td></tr>\n",
              "\t<tr><td>2</td><td>https://www.airbnb.com/rooms/9785013 </td><td>20230900000000</td><td>9/24/2023</td><td>city scrape    </td><td>Rental unit in Zürich · ★4.57 · Studio · 2 beds · 1 bath     </td><td>NA                                                                                                                                                                                                                                                                                                                                                                                                                                                                                                                                                      </td><td>https://a0.muscache.com/pictures/0176518e-9e95-4f42-a5d8-93c572a4681e.jpg                                </td><td>13570663</td><td>https://www.airbnb.com/users/show/13570663</td><td>⋯</td><td>Good Reviews</td><td>Good Reviews</td><td>Good Reviews</td><td>-0.2604000</td><td>-0.4036603</td><td>2</td><td>1</td><td>1</td><td>Yes</td><td>1</td></tr>\n",
              "\t<tr><td>3</td><td>https://www.airbnb.com/rooms/23324274</td><td>20230900000000</td><td>9/24/2023</td><td>city scrape    </td><td>Rental unit in Zürich · ★5.0 · 1 bedroom · 2 beds · 1 bath   </td><td>NA                                                                                                                                                                                                                                                                                                                                                                                                                                                                                                                                                      </td><td>https://a0.muscache.com/pictures/ad93397d-2414-42ec-a223-f56579a982a4.jpg                                </td><td>  475053</td><td>https://www.airbnb.com/users/show/475053  </td><td>⋯</td><td>Good Reviews</td><td>Good Reviews</td><td>Good Reviews</td><td> 2.2810230</td><td>-0.4036603</td><td>4</td><td>2</td><td>1</td><td>Yes</td><td>1</td></tr>\n",
              "\t<tr><td>4</td><td>https://www.airbnb.com/rooms/23325594</td><td>20230900000000</td><td>9/24/2023</td><td>city scrape    </td><td>Rental unit in Zürich · ★4.95 · 1 bedroom · 2 beds · 1 bath  </td><td>NA                                                                                                                                                                                                                                                                                                                                                                                                                                                                                                                                                      </td><td>https://a0.muscache.com/pictures/ea9ff9d7-597a-44fe-ac8d-33a49f4255f8.jpg                                </td><td>  475053</td><td>https://www.airbnb.com/users/show/475053  </td><td>⋯</td><td>Good Reviews</td><td>Good Reviews</td><td>Good Reviews</td><td> 2.2810230</td><td>-0.4036603</td><td>4</td><td>2</td><td>1</td><td>Yes</td><td>1</td></tr>\n",
              "\t<tr><td>5</td><td>https://www.airbnb.com/rooms/8370018 </td><td>20230900000000</td><td>9/24/2023</td><td>city scrape    </td><td>Rental unit in Zürich · ★4.81 · 2 bedrooms · 3 beds · 2 baths</td><td>NA                                                                                                                                                                                                                                                                                                                                                                                                                                                                                                                                                      </td><td>https://a0.muscache.com/pictures/miso/Hosting-8370018/original/1d4716de-e5c1-45b9-bbcd-436eed4aa250.jpeg </td><td>  475053</td><td>https://www.airbnb.com/users/show/475053  </td><td>⋯</td><td>Good Reviews</td><td>Good Reviews</td><td>Good Reviews</td><td> 4.2214088</td><td> 2.0640722</td><td>3</td><td>2</td><td>1</td><td>Yes</td><td>1</td></tr>\n",
              "</tbody>\n",
              "</table>\n"
            ],
            "text/markdown": "\nA grouped_df: 6 × 75\n\n| index &lt;dbl&gt; | listing_url &lt;chr&gt; | scrape_id &lt;dbl&gt; | last_scraped &lt;chr&gt; | source &lt;chr&gt; | name &lt;chr&gt; | neighborhood_overview &lt;chr&gt; | picture_url &lt;chr&gt; | host_id &lt;dbl&gt; | host_url &lt;chr&gt; | ⋯ ⋯ | review_checkin &lt;fct&gt; | review_communication &lt;fct&gt; | review_location &lt;fct&gt; | NumPrice &lt;dbl&gt; | baths &lt;dbl&gt; | guestsPerBath &lt;dbl&gt; | guestsPerBed &lt;dbl&gt; | Wifi &lt;dbl&gt; | Wifi_Available &lt;chr&gt; | Wifi_numeric &lt;dbl&gt; |\n|---|---|---|---|---|---|---|---|---|---|---|---|---|---|---|---|---|---|---|---|---|\n| 0 | https://www.airbnb.com/rooms/49201447 | 20230900000000 | 9/24/2023 | city scrape     | Loft in Zürich · ★5.0 · 1 bedroom · 1 bed · 1 bath            | The loft is next to the luxury shopping street Bahnhofstrasse, the lake and beaches, top restaurants and bars, few minutes walking distance to all central cultural sightseeings, the old city, churches, museums etc. The only place with no street or tram in front of the Appartment overlooking the river and a beautiful marina with access to sunbathing platform and swimming / pure vacation feeling! Summer and winter! Restaurant with bio and organic fresh juices and food, coffee place, as well as gym in main floor or the same building. | https://a0.muscache.com/pictures/miso/Hosting-49201447/original/e4e62822-c482-4e39-9e48-e081bd2bb35f.jpeg | 12630015 | https://www.airbnb.com/users/show/12630015 | ⋯ | Good Reviews | Good Reviews | Good Reviews |  0.8155309 | -0.4036603 | 2 | 2 | 1 | Yes | 1 |\n| 1 | https://www.airbnb.com/rooms/50101353 | 20230900000000 | 9/24/2023 | previous scrape | Loft in Zürich · ★5.0 · 2 bedrooms · 2 beds · 2 baths         | Very central location, minutes from Bahnhofstrasse shopping areas, many bars and restaurants. A 5minute walk to the lake                                                                                                                                                                                                                                                                                                                                                                                                                                 | https://a0.muscache.com/pictures/5a6bfcae-c409-4c78-a8c2-be4c03b9fa05.jpg                                 | 13470694 | https://www.airbnb.com/users/show/13470694 | ⋯ | Good Reviews | Good Reviews | Good Reviews |  1.0863687 |  2.0640722 | 2 | 2 | 1 | Yes | 1 |\n| 2 | https://www.airbnb.com/rooms/9785013  | 20230900000000 | 9/24/2023 | city scrape     | Rental unit in Zürich · ★4.57 · Studio · 2 beds · 1 bath      | NA                                                                                                                                                                                                                                                                                                                                                                                                                                                                                                                                                       | https://a0.muscache.com/pictures/0176518e-9e95-4f42-a5d8-93c572a4681e.jpg                                 | 13570663 | https://www.airbnb.com/users/show/13570663 | ⋯ | Good Reviews | Good Reviews | Good Reviews | -0.2604000 | -0.4036603 | 2 | 1 | 1 | Yes | 1 |\n| 3 | https://www.airbnb.com/rooms/23324274 | 20230900000000 | 9/24/2023 | city scrape     | Rental unit in Zürich · ★5.0 · 1 bedroom · 2 beds · 1 bath    | NA                                                                                                                                                                                                                                                                                                                                                                                                                                                                                                                                                       | https://a0.muscache.com/pictures/ad93397d-2414-42ec-a223-f56579a982a4.jpg                                 |   475053 | https://www.airbnb.com/users/show/475053   | ⋯ | Good Reviews | Good Reviews | Good Reviews |  2.2810230 | -0.4036603 | 4 | 2 | 1 | Yes | 1 |\n| 4 | https://www.airbnb.com/rooms/23325594 | 20230900000000 | 9/24/2023 | city scrape     | Rental unit in Zürich · ★4.95 · 1 bedroom · 2 beds · 1 bath   | NA                                                                                                                                                                                                                                                                                                                                                                                                                                                                                                                                                       | https://a0.muscache.com/pictures/ea9ff9d7-597a-44fe-ac8d-33a49f4255f8.jpg                                 |   475053 | https://www.airbnb.com/users/show/475053   | ⋯ | Good Reviews | Good Reviews | Good Reviews |  2.2810230 | -0.4036603 | 4 | 2 | 1 | Yes | 1 |\n| 5 | https://www.airbnb.com/rooms/8370018  | 20230900000000 | 9/24/2023 | city scrape     | Rental unit in Zürich · ★4.81 · 2 bedrooms · 3 beds · 2 baths | NA                                                                                                                                                                                                                                                                                                                                                                                                                                                                                                                                                       | https://a0.muscache.com/pictures/miso/Hosting-8370018/original/1d4716de-e5c1-45b9-bbcd-436eed4aa250.jpeg  |   475053 | https://www.airbnb.com/users/show/475053   | ⋯ | Good Reviews | Good Reviews | Good Reviews |  4.2214088 |  2.0640722 | 3 | 2 | 1 | Yes | 1 |\n\n",
            "text/latex": "A grouped\\_df: 6 × 75\n\\begin{tabular}{lllllllllllllllllllll}\n index & listing\\_url & scrape\\_id & last\\_scraped & source & name & neighborhood\\_overview & picture\\_url & host\\_id & host\\_url & ⋯ & review\\_checkin & review\\_communication & review\\_location & NumPrice & baths & guestsPerBath & guestsPerBed & Wifi & Wifi\\_Available & Wifi\\_numeric\\\\\n <dbl> & <chr> & <dbl> & <chr> & <chr> & <chr> & <chr> & <chr> & <dbl> & <chr> & ⋯ & <fct> & <fct> & <fct> & <dbl> & <dbl> & <dbl> & <dbl> & <dbl> & <chr> & <dbl>\\\\\n\\hline\n\t 0 & https://www.airbnb.com/rooms/49201447 & 20230900000000 & 9/24/2023 & city scrape     & Loft in Zürich · ★5.0 · 1 bedroom · 1 bed · 1 bath            & The loft is next to the luxury shopping street Bahnhofstrasse, the lake and beaches, top restaurants and bars, few minutes walking distance to all central cultural sightseeings, the old city, churches, museums etc. The only place with no street or tram in front of the Appartment overlooking the river and a beautiful marina with access to sunbathing platform and swimming / pure vacation feeling! Summer and winter! Restaurant with bio and organic fresh juices and food, coffee place, as well as gym in main floor or the same building. & https://a0.muscache.com/pictures/miso/Hosting-49201447/original/e4e62822-c482-4e39-9e48-e081bd2bb35f.jpeg & 12630015 & https://www.airbnb.com/users/show/12630015 & ⋯ & Good Reviews & Good Reviews & Good Reviews &  0.8155309 & -0.4036603 & 2 & 2 & 1 & Yes & 1\\\\\n\t 1 & https://www.airbnb.com/rooms/50101353 & 20230900000000 & 9/24/2023 & previous scrape & Loft in Zürich · ★5.0 · 2 bedrooms · 2 beds · 2 baths         & Very central location, minutes from Bahnhofstrasse shopping areas, many bars and restaurants. A 5minute walk to the lake                                                                                                                                                                                                                                                                                                                                                                                                                                 & https://a0.muscache.com/pictures/5a6bfcae-c409-4c78-a8c2-be4c03b9fa05.jpg                                 & 13470694 & https://www.airbnb.com/users/show/13470694 & ⋯ & Good Reviews & Good Reviews & Good Reviews &  1.0863687 &  2.0640722 & 2 & 2 & 1 & Yes & 1\\\\\n\t 2 & https://www.airbnb.com/rooms/9785013  & 20230900000000 & 9/24/2023 & city scrape     & Rental unit in Zürich · ★4.57 · Studio · 2 beds · 1 bath      & NA                                                                                                                                                                                                                                                                                                                                                                                                                                                                                                                                                       & https://a0.muscache.com/pictures/0176518e-9e95-4f42-a5d8-93c572a4681e.jpg                                 & 13570663 & https://www.airbnb.com/users/show/13570663 & ⋯ & Good Reviews & Good Reviews & Good Reviews & -0.2604000 & -0.4036603 & 2 & 1 & 1 & Yes & 1\\\\\n\t 3 & https://www.airbnb.com/rooms/23324274 & 20230900000000 & 9/24/2023 & city scrape     & Rental unit in Zürich · ★5.0 · 1 bedroom · 2 beds · 1 bath    & NA                                                                                                                                                                                                                                                                                                                                                                                                                                                                                                                                                       & https://a0.muscache.com/pictures/ad93397d-2414-42ec-a223-f56579a982a4.jpg                                 &   475053 & https://www.airbnb.com/users/show/475053   & ⋯ & Good Reviews & Good Reviews & Good Reviews &  2.2810230 & -0.4036603 & 4 & 2 & 1 & Yes & 1\\\\\n\t 4 & https://www.airbnb.com/rooms/23325594 & 20230900000000 & 9/24/2023 & city scrape     & Rental unit in Zürich · ★4.95 · 1 bedroom · 2 beds · 1 bath   & NA                                                                                                                                                                                                                                                                                                                                                                                                                                                                                                                                                       & https://a0.muscache.com/pictures/ea9ff9d7-597a-44fe-ac8d-33a49f4255f8.jpg                                 &   475053 & https://www.airbnb.com/users/show/475053   & ⋯ & Good Reviews & Good Reviews & Good Reviews &  2.2810230 & -0.4036603 & 4 & 2 & 1 & Yes & 1\\\\\n\t 5 & https://www.airbnb.com/rooms/8370018  & 20230900000000 & 9/24/2023 & city scrape     & Rental unit in Zürich · ★4.81 · 2 bedrooms · 3 beds · 2 baths & NA                                                                                                                                                                                                                                                                                                                                                                                                                                                                                                                                                       & https://a0.muscache.com/pictures/miso/Hosting-8370018/original/1d4716de-e5c1-45b9-bbcd-436eed4aa250.jpeg  &   475053 & https://www.airbnb.com/users/show/475053   & ⋯ & Good Reviews & Good Reviews & Good Reviews &  4.2214088 &  2.0640722 & 3 & 2 & 1 & Yes & 1\\\\\n\\end{tabular}\n",
            "text/plain": [
              "  index listing_url                           scrape_id      last_scraped\n",
              "1 0     https://www.airbnb.com/rooms/49201447 20230900000000 9/24/2023   \n",
              "2 1     https://www.airbnb.com/rooms/50101353 20230900000000 9/24/2023   \n",
              "3 2     https://www.airbnb.com/rooms/9785013  20230900000000 9/24/2023   \n",
              "4 3     https://www.airbnb.com/rooms/23324274 20230900000000 9/24/2023   \n",
              "5 4     https://www.airbnb.com/rooms/23325594 20230900000000 9/24/2023   \n",
              "6 5     https://www.airbnb.com/rooms/8370018  20230900000000 9/24/2023   \n",
              "  source          name                                                         \n",
              "1 city scrape     Loft in Zürich · ★5.0 · 1 bedroom · 1 bed · 1 bath           \n",
              "2 previous scrape Loft in Zürich · ★5.0 · 2 bedrooms · 2 beds · 2 baths        \n",
              "3 city scrape     Rental unit in Zürich · ★4.57 · Studio · 2 beds · 1 bath     \n",
              "4 city scrape     Rental unit in Zürich · ★5.0 · 1 bedroom · 2 beds · 1 bath   \n",
              "5 city scrape     Rental unit in Zürich · ★4.95 · 1 bedroom · 2 beds · 1 bath  \n",
              "6 city scrape     Rental unit in Zürich · ★4.81 · 2 bedrooms · 3 beds · 2 baths\n",
              "  neighborhood_overview                                                                                                                                                                                                                                                                                                                                                                                                                                                                                                                                   \n",
              "1 The loft is next to the luxury shopping street Bahnhofstrasse, the lake and beaches, top restaurants and bars, few minutes walking distance to all central cultural sightseeings, the old city, churches, museums etc. The only place with no street or tram in front of the Appartment overlooking the river and a beautiful marina with access to sunbathing platform and swimming / pure vacation feeling! Summer and winter! Restaurant with bio and organic fresh juices and food, coffee place, as well as gym in main floor or the same building.\n",
              "2 Very central location, minutes from Bahnhofstrasse shopping areas, many bars and restaurants. A 5minute walk to the lake                                                                                                                                                                                                                                                                                                                                                                                                                                \n",
              "3 NA                                                                                                                                                                                                                                                                                                                                                                                                                                                                                                                                                      \n",
              "4 NA                                                                                                                                                                                                                                                                                                                                                                                                                                                                                                                                                      \n",
              "5 NA                                                                                                                                                                                                                                                                                                                                                                                                                                                                                                                                                      \n",
              "6 NA                                                                                                                                                                                                                                                                                                                                                                                                                                                                                                                                                      \n",
              "  picture_url                                                                                              \n",
              "1 https://a0.muscache.com/pictures/miso/Hosting-49201447/original/e4e62822-c482-4e39-9e48-e081bd2bb35f.jpeg\n",
              "2 https://a0.muscache.com/pictures/5a6bfcae-c409-4c78-a8c2-be4c03b9fa05.jpg                                \n",
              "3 https://a0.muscache.com/pictures/0176518e-9e95-4f42-a5d8-93c572a4681e.jpg                                \n",
              "4 https://a0.muscache.com/pictures/ad93397d-2414-42ec-a223-f56579a982a4.jpg                                \n",
              "5 https://a0.muscache.com/pictures/ea9ff9d7-597a-44fe-ac8d-33a49f4255f8.jpg                                \n",
              "6 https://a0.muscache.com/pictures/miso/Hosting-8370018/original/1d4716de-e5c1-45b9-bbcd-436eed4aa250.jpeg \n",
              "  host_id  host_url                                   ⋯ review_checkin\n",
              "1 12630015 https://www.airbnb.com/users/show/12630015 ⋯ Good Reviews  \n",
              "2 13470694 https://www.airbnb.com/users/show/13470694 ⋯ Good Reviews  \n",
              "3 13570663 https://www.airbnb.com/users/show/13570663 ⋯ Good Reviews  \n",
              "4   475053 https://www.airbnb.com/users/show/475053   ⋯ Good Reviews  \n",
              "5   475053 https://www.airbnb.com/users/show/475053   ⋯ Good Reviews  \n",
              "6   475053 https://www.airbnb.com/users/show/475053   ⋯ Good Reviews  \n",
              "  review_communication review_location NumPrice   baths      guestsPerBath\n",
              "1 Good Reviews         Good Reviews     0.8155309 -0.4036603 2            \n",
              "2 Good Reviews         Good Reviews     1.0863687  2.0640722 2            \n",
              "3 Good Reviews         Good Reviews    -0.2604000 -0.4036603 2            \n",
              "4 Good Reviews         Good Reviews     2.2810230 -0.4036603 4            \n",
              "5 Good Reviews         Good Reviews     2.2810230 -0.4036603 4            \n",
              "6 Good Reviews         Good Reviews     4.2214088  2.0640722 3            \n",
              "  guestsPerBed Wifi Wifi_Available Wifi_numeric\n",
              "1 2            1    Yes            1           \n",
              "2 2            1    Yes            1           \n",
              "3 1            1    Yes            1           \n",
              "4 2            1    Yes            1           \n",
              "5 2            1    Yes            1           \n",
              "6 2            1    Yes            1           "
            ]
          },
          "metadata": {}
        }
      ]
    },
    {
      "cell_type": "markdown",
      "source": [
        "### Step - II: T - Test"
      ],
      "metadata": {
        "id": "RU9Yc2vm9afg"
      },
      "id": "RU9Yc2vm9afg"
    },
    {
      "cell_type": "code",
      "source": [
        "# Adding Wifi coloumn to the dataset\n",
        "zurich_imputed <- zurich_imputed %>%\n",
        "  mutate(Wifi = ifelse(grepl(\"wifi\", tolower(amenities)), \"Yes\", \"No\"))\n",
        "zurich_imputed$Wifi <- as.numeric(zurich_imputed$Wifi == \"Yes\")"
      ],
      "metadata": {
        "id": "dTGkOy4Q_A4H"
      },
      "id": "dTGkOy4Q_A4H",
      "execution_count": 224,
      "outputs": []
    },
    {
      "cell_type": "markdown",
      "source": [
        "**💡Interpretation💡-**\n",
        "\n",
        "We focused on Wifi availability as a key amenity. Reliable internet access is no longer a luxury for travelers; it's a fundamental expectation. When choosing a hotel, guests prioritize properties that offer strong and consistent Wifi to stay connected, informed, and entertained throughout their stay."
      ],
      "metadata": {
        "id": "2ly5yDEMqWIg"
      },
      "id": "2ly5yDEMqWIg"
    },
    {
      "cell_type": "code",
      "source": [
        "#Data Partitioning\n",
        "set.seed(1131)\n",
        "index <- createDataPartition(zurich_imputed$Wifi,  p =0.6, list=FALSE)\n",
        "\n",
        "train <- zurich[index, ]\n",
        "valid <- zurich[-index, ]"
      ],
      "metadata": {
        "id": "Q7eKHf3S8MGW"
      },
      "id": "Q7eKHf3S8MGW",
      "execution_count": 225,
      "outputs": []
    },
    {
      "cell_type": "code",
      "source": [
        "#Looking at the dimentions of the data\n",
        "dim(train)\n",
        "dim(valid)"
      ],
      "metadata": {
        "colab": {
          "base_uri": "https://localhost:8080/",
          "height": 52
        },
        "id": "P8k9-_hK85f_",
        "outputId": "657fa121-474b-4dc2-cfc6-832a3601861d"
      },
      "id": "P8k9-_hK85f_",
      "execution_count": 120,
      "outputs": [
        {
          "output_type": "display_data",
          "data": {
            "text/html": [
              "<style>\n",
              ".list-inline {list-style: none; margin:0; padding: 0}\n",
              ".list-inline>li {display: inline-block}\n",
              ".list-inline>li:not(:last-child)::after {content: \"\\00b7\"; padding: 0 .5ex}\n",
              "</style>\n",
              "<ol class=list-inline><li>1521</li><li>75</li></ol>\n"
            ],
            "text/markdown": "1. 1521\n2. 75\n\n\n",
            "text/latex": "\\begin{enumerate*}\n\\item 1521\n\\item 75\n\\end{enumerate*}\n",
            "text/plain": [
              "[1] 1521   75"
            ]
          },
          "metadata": {}
        },
        {
          "output_type": "display_data",
          "data": {
            "text/html": [
              "<style>\n",
              ".list-inline {list-style: none; margin:0; padding: 0}\n",
              ".list-inline>li {display: inline-block}\n",
              ".list-inline>li:not(:last-child)::after {content: \"\\00b7\"; padding: 0 .5ex}\n",
              "</style>\n",
              "<ol class=list-inline><li>1013</li><li>75</li></ol>\n"
            ],
            "text/markdown": "1. 1013\n2. 75\n\n\n",
            "text/latex": "\\begin{enumerate*}\n\\item 1013\n\\item 75\n\\end{enumerate*}\n",
            "text/plain": [
              "[1] 1013   75"
            ]
          },
          "metadata": {}
        }
      ]
    },
    {
      "cell_type": "code",
      "source": [
        "# Use preProcess() from the caret package to normalize NumPrice, baths, and beds\n",
        "# Use preProcess() from the caret package to normalize NumPrice, baths, and beds\n",
        "norm_values <- preProcess(zurich_imputed [, c(\"baths\", \"beds\", \"NumPrice\")], method = c(\"center\", \"scale\"))\n",
        "zurich_imputed[, c(\"baths\", \"beds\", \"NumPrice\")] <- predict(norm_values, zurich_imputed[, c(\"baths\", \"beds\", \"NumPrice\")])\n"
      ],
      "metadata": {
        "id": "m3yeUD9i8qQj"
      },
      "id": "m3yeUD9i8qQj",
      "execution_count": 226,
      "outputs": []
    },
    {
      "cell_type": "code",
      "source": [
        "# Filter data for listings with \"Wifi\"\n",
        "with_Wifi <- zurich_imputed %>%\n",
        "  filter(grepl(\"Wifi\", amenities)) %>%\n",
        "  select(NumPrice, beds, baths) %>%\n",
        "  na.omit()\n"
      ],
      "metadata": {
        "colab": {
          "base_uri": "https://localhost:8080/"
        },
        "id": "u7kFHY83iK3R",
        "outputId": "651e106d-1b5a-4383-f5d1-95755db0e15d"
      },
      "id": "u7kFHY83iK3R",
      "execution_count": 211,
      "outputs": [
        {
          "output_type": "stream",
          "name": "stderr",
          "text": [
            "\u001b[1m\u001b[22mAdding missing grouping variables: `neighbourhood_group_cleansed`,\n",
            "`neighbourhood_cleansed`, `property_type`, `room_type`\n"
          ]
        }
      ]
    },
    {
      "cell_type": "code",
      "source": [
        "# Filter data for listings without \"Wifi\"\n",
        "without_Wifi <- zurich_imputed %>%\n",
        "  filter(!grepl(\"Wifi\", amenities)) %>%\n",
        "  select(NumPrice, beds, baths) %>%\n",
        "  na.omit()\n"
      ],
      "metadata": {
        "colab": {
          "base_uri": "https://localhost:8080/"
        },
        "id": "cuz4Me-hgI5-",
        "outputId": "0c2f514a-7f72-46b2-dce7-e5242282e254"
      },
      "id": "cuz4Me-hgI5-",
      "execution_count": 212,
      "outputs": [
        {
          "output_type": "stream",
          "name": "stderr",
          "text": [
            "\u001b[1m\u001b[22mAdding missing grouping variables: `neighbourhood_group_cleansed`,\n",
            "`neighbourhood_cleansed`, `property_type`, `room_type`\n"
          ]
        }
      ]
    },
    {
      "cell_type": "code",
      "source": [
        "# Perform t- tests for NumPrice, beds & baths\n",
        "t_test_Price <- t.test(with_Wifi$NumPrice, without_Wifi$NumPrice)\n",
        "t_test_beds <- t.test(with_Wifi$beds, without_Wifi$beds)\n",
        "t_test_baths <- t.test(with_Wifi$baths, without_Wifi$baths)"
      ],
      "metadata": {
        "id": "naihpIgDEtnI"
      },
      "id": "naihpIgDEtnI",
      "execution_count": 213,
      "outputs": []
    },
    {
      "cell_type": "code",
      "source": [
        "t_test_Price"
      ],
      "metadata": {
        "colab": {
          "base_uri": "https://localhost:8080/",
          "height": 208
        },
        "id": "cj1wOhuEjsMR",
        "outputId": "6c37711a-0491-4264-fb3b-b87ad53825b7"
      },
      "id": "cj1wOhuEjsMR",
      "execution_count": 214,
      "outputs": [
        {
          "output_type": "display_data",
          "data": {
            "text/plain": [
              "\n",
              "\tWelch Two Sample t-test\n",
              "\n",
              "data:  with_Wifi$NumPrice and without_Wifi$NumPrice\n",
              "t = 6.2774, df = 1070.9, p-value = 0.0000000004994\n",
              "alternative hypothesis: true difference in means is not equal to 0\n",
              "95 percent confidence interval:\n",
              " 0.1397249 0.2667954\n",
              "sample estimates:\n",
              "  mean of x   mean of y \n",
              " 0.02606928 -0.17719087 \n"
            ]
          },
          "metadata": {}
        }
      ]
    },
    {
      "cell_type": "markdown",
      "source": [
        "**💡Interpretation💡-**\n",
        "\n",
        "Price (NumPrice):\n",
        "\n",
        "There is a statistically significant difference (p-value = 0.0000000004994) in the average price between listings with and without Wifi at the 95% confidence level.\n",
        "The confidence interval (0.1397 to 0.2668) indicates that listings with Wifi are likely `$0.14` to `$0.27` more expensive on average compared to listings without Wifi."
      ],
      "metadata": {
        "id": "JK7U3VGRtFr8"
      },
      "id": "JK7U3VGRtFr8"
    },
    {
      "cell_type": "code",
      "source": [
        "t_test_baths"
      ],
      "metadata": {
        "colab": {
          "base_uri": "https://localhost:8080/",
          "height": 208
        },
        "id": "jQWtefpSj35x",
        "outputId": "a4a90c8a-82a6-43be-e047-f78cd4b5aa36"
      },
      "id": "jQWtefpSj35x",
      "execution_count": 215,
      "outputs": [
        {
          "output_type": "display_data",
          "data": {
            "text/plain": [
              "\n",
              "\tWelch Two Sample t-test\n",
              "\n",
              "data:  with_Wifi$baths and without_Wifi$baths\n",
              "t = 4.0564, df = 544.75, p-value = 0.00005713\n",
              "alternative hypothesis: true difference in means is not equal to 0\n",
              "95 percent confidence interval:\n",
              " 0.09506352 0.27358479\n",
              "sample estimates:\n",
              "  mean of x   mean of y \n",
              " 0.02364063 -0.16068353 \n"
            ]
          },
          "metadata": {}
        }
      ]
    },
    {
      "cell_type": "markdown",
      "source": [
        "**💡Interpretation💡-**\n",
        "\n",
        "Bathrooms (baths):\n",
        "\n",
        "There is a statistically significant difference (p-value = 0.00005713) in the average number of bathrooms between listings with and without Wifi at the 95% confidence level.\n",
        "The confidence interval (0.0951 to 0.2736) suggests listings with Wifi tend to have 0.10 to 0.27 more bathrooms on average than listings without Wifi."
      ],
      "metadata": {
        "id": "gyKSuxmZtWE_"
      },
      "id": "gyKSuxmZtWE_"
    },
    {
      "cell_type": "code",
      "source": [
        "t_test_beds"
      ],
      "metadata": {
        "colab": {
          "base_uri": "https://localhost:8080/",
          "height": 208
        },
        "id": "HfAkP8aDj5Sj",
        "outputId": "4ecaa36d-8a20-4f4d-96cc-b7d6c133759f"
      },
      "id": "HfAkP8aDj5Sj",
      "execution_count": 216,
      "outputs": [
        {
          "output_type": "display_data",
          "data": {
            "text/plain": [
              "\n",
              "\tWelch Two Sample t-test\n",
              "\n",
              "data:  with_Wifi$beds and without_Wifi$beds\n",
              "t = 2.488, df = 523.71, p-value = 0.01316\n",
              "alternative hypothesis: true difference in means is not equal to 0\n",
              "95 percent confidence interval:\n",
              " 0.02460134 0.20925056\n",
              "sample estimates:\n",
              "  mean of x   mean of y \n",
              " 0.01499642 -0.10192953 \n"
            ]
          },
          "metadata": {}
        }
      ]
    },
    {
      "cell_type": "markdown",
      "source": [
        "**💡Interpretation💡-**\n",
        "\n",
        "Bedrooms (beds):\n",
        "\n",
        "There is a statistically significant difference (p-value = 0.01316) in the average number of bedrooms between listings with and without Wifi at the 95% confidence level.\n",
        "The confidence interval (0.0246 to 0.2093) indicates listings with Wifi might have 0.02 to 0.21 more bedrooms on average compared to listings without Wifi.\n"
      ],
      "metadata": {
        "id": "-guGIDs3kN4n"
      },
      "id": "-guGIDs3kN4n"
    },
    {
      "cell_type": "markdown",
      "source": [
        "**💡Interpretation💡-**\n",
        "\n",
        "Overall, these results suggest that listings with Wifi tend to be more expensive, have more bathrooms, and have slightly more bedrooms on average compared to listings without Wifi.\n",
        "\n",
        "All of the three t-test indicate statistically significant differences between listings with and without the **Wifi** amenity in terms of NUmPrice, no. of beds and no. of baths. Therefore, none of these variables should be dropped, as they all seem to have some level of influence on the presence of **Wifi** amenity.\n"
      ],
      "metadata": {
        "id": "_uwez7PItjns"
      },
      "id": "_uwez7PItjns"
    },
    {
      "cell_type": "markdown",
      "source": [
        "### Step - III: KNN"
      ],
      "metadata": {
        "id": "ZV_12UaV9o6K"
      },
      "id": "ZV_12UaV9o6K"
    },
    {
      "cell_type": "code",
      "source": [
        "# Filter the data for the selected neighborhood\n",
        "neighborhood <- \"Hottingen\"\n",
        "\n",
        "data_test <- zurich_imputed %>%\n",
        "  filter(neighbourhood_cleansed == \"Hottingen\") %>%\n",
        "  select(baths, beds, NumPrice, amenities,Wifi) %>% # Select relevant numerical predictors and the outcome variable\n",
        "  na.omit()  # Remove rows with missing values\n"
      ],
      "metadata": {
        "colab": {
          "base_uri": "https://localhost:8080/"
        },
        "id": "LCdKLVFfkSzm",
        "outputId": "b395c432-f57b-4089-a421-0cbe4943cebe"
      },
      "id": "LCdKLVFfkSzm",
      "execution_count": 227,
      "outputs": [
        {
          "output_type": "stream",
          "name": "stderr",
          "text": [
            "\u001b[1m\u001b[22mAdding missing grouping variables: `neighbourhood_group_cleansed`,\n",
            "`neighbourhood_cleansed`, `property_type`, `room_type`\n"
          ]
        }
      ]
    },
    {
      "cell_type": "code",
      "source": [
        "head(data_test)"
      ],
      "metadata": {
        "colab": {
          "base_uri": "https://localhost:8080/",
          "height": 1000
        },
        "id": "ZrWtV2twJMwH",
        "outputId": "c1af1e31-b5fc-43f8-da64-971a35555f1e"
      },
      "id": "ZrWtV2twJMwH",
      "execution_count": 228,
      "outputs": [
        {
          "output_type": "display_data",
          "data": {
            "text/html": [
              "<table class=\"dataframe\">\n",
              "<caption>A grouped_df: 6 × 9</caption>\n",
              "<thead>\n",
              "\t<tr><th scope=col>neighbourhood_group_cleansed</th><th scope=col>neighbourhood_cleansed</th><th scope=col>property_type</th><th scope=col>room_type</th><th scope=col>baths</th><th scope=col>beds</th><th scope=col>NumPrice</th><th scope=col>amenities</th><th scope=col>Wifi</th></tr>\n",
              "\t<tr><th scope=col>&lt;chr&gt;</th><th scope=col>&lt;chr&gt;</th><th scope=col>&lt;chr&gt;</th><th scope=col>&lt;chr&gt;</th><th scope=col>&lt;dbl&gt;</th><th scope=col>&lt;dbl&gt;</th><th scope=col>&lt;dbl&gt;</th><th scope=col>&lt;chr&gt;</th><th scope=col>&lt;dbl&gt;</th></tr>\n",
              "</thead>\n",
              "<tbody>\n",
              "\t<tr><td>Kreis 7</td><td>Hottingen</td><td>Entire condo      </td><td>Entire home/apt</td><td>-0.4036603</td><td>-0.4869756</td><td>-0.40138404</td><td>[]                                                                                                                                                                                                                                                                                                                                                                                                                                                                                                                                                                                                                                                                                                                                                                                                                                                                                                                                                                                                                                                                                                                                                                                                                                                                                                  </td><td>0</td></tr>\n",
              "\t<tr><td>Kreis 7</td><td>Hottingen</td><td>Entire condo      </td><td>Entire home/apt</td><td> 2.0640722</td><td> 0.3417660</td><td>-0.30863138</td><td>[\"Crib\", \"Books and reading material\", \"Conditioner\", \"Private backyard \\u2013 Fully fenced\", \"Bed linens\", \"Dining table\", \"Hot water\", \"Babysitter recommendations\", \"Private outdoor kitchen\", \"Paid parking off premises\", \"Garden view\", \"First aid kit\", \"Kitchen\", \"Dishes and silverware\", \"Elevator\", \"Indoor fireplace: wood-burning\", \"Baby safety gates\", \"City skyline view\", \"Hangers\", \"Single level home\", \"Cleaning products\", \"Coffee maker\", \"BBQ grill\", \"Dishwasher\", \"Hair dryer\", \"Rice maker\", \"Essentials\", \"Body soap\", \"Heating\", \"Outdoor dining area\", \"Lockbox\", \"High chair\", \"Electric stove\", \"Free washer \\u2013 In unit\", \"Wifi\", \"Free dryer \\u2013 In unit\", \"Fire extinguisher\", \"Bluetooth sound system\", \"Baking sheet\", \"Cooking basics\", \"Dedicated workspace\", \"Changing table - always at the listing\", \"Baby bath - always at the listing\", \"Pack \\u2019n play/Travel crib\", \"Blender\", \"Bidet\", \"HDTV with standard cable\", \"Refrigerator\", \"Hot water kettle\", \"Drying rack for clothing\", \"Freezer\", \"Outdoor furniture\", \"Shampoo\", \"Lake view\", \"Self check-in\", \"Table corner guards\", \"Toaster\", \"Room-darkening shades\", \"Children\\u2019s dinnerware\", \"Children\\u2019s books and toys\", \"Microwave\", \"Private patio or balcony\", \"Iron\"]</td><td>1</td></tr>\n",
              "\t<tr><td>Kreis 7</td><td>Hottingen</td><td>Entire condo      </td><td>Entire home/apt</td><td>-0.4036603</td><td> 0.3417660</td><td> 0.27385535</td><td>[\"Books and reading material\", \"Fireplace guards\", \"Barbecue utensils\", \"Bed linens\", \"Dining table\", \"Hot water\", \"Fast wifi \\u2013 430 Mbps\", \"Dishes and silverware\", \"First aid kit\", \"Kitchen\", \"Long term stays allowed\", \"Paid washer \\u2013 In building\", \"Wine glasses\", \"Indoor fireplace: wood-burning\", \"Elevator\", \"Cleaning products\", \"BBQ grill\", \"Dishwasher\", \"Hair dryer\", \"Essentials\", \"Portable fans\", \"Body soap\", \"Heating\", \"Coffee maker: Nespresso\", \"Lockbox\", \"Oven\", \"Electric stove\", \"Baking sheet\", \"Cooking basics\", \"Coffee\", \"Dedicated workspace\", \"Blender\", \"Paid street parking off premises\", \"Refrigerator\", \"Hot water kettle\", \"Freezer\", \"Lake view\", \"Self check-in\", \"UE Boom Bluetooth sound system\", \"Toaster\", \"Room-darkening shades\", \"Microwave\", \"Paid dryer \\u2013 In building\", \"Private patio or balcony\"]                                                                                                                                                                                                                                                                                                                                                                                                                              </td><td>1</td></tr>\n",
              "\t<tr><td>Kreis 7</td><td>Hottingen</td><td>Entire condo      </td><td>Entire home/apt</td><td>-0.4036603</td><td> 0.3417660</td><td>-0.07860477</td><td>[\"TV\", \"Wifi\", \"Kitchen\", \"Dedicated workspace\", \"Central heating\", \"Washer\"]                                                                                                                                                                                                                                                                                                                                                                                                                                                                                                                                                                                                                                                                                                                                                                                                                                                                                                                                                                                                                                                                                                                                                                                                                       </td><td>1</td></tr>\n",
              "\t<tr><td>Kreis 7</td><td>Hottingen</td><td>Entire rental unit</td><td>Entire home/apt</td><td>-0.4036603</td><td>-0.4869756</td><td> 0.01414789</td><td>[\"Refrigerator\", \"Lockbox\", \"Heating\", \"Wifi\", \"Dryer\", \"Self check-in\", \"Hot water\", \"TV with standard cable\", \"Hair dryer\", \"Cooking basics\", \"Kitchen\", \"Dedicated workspace\", \"Washer\", \"Iron\"]                                                                                                                                                                                                                                                                                                                                                                                                                                                                                                                                                                                                                                                                                                                                                                                                                                                                                                                                                                                                                                                                                                 </td><td>1</td></tr>\n",
              "\t<tr><td>Kreis 7</td><td>Hottingen</td><td>Entire rental unit</td><td>Entire home/apt</td><td>-0.4036603</td><td>-0.4869756</td><td>-0.38283351</td><td>[\"Bed linens\", \"Luggage dropoff allowed\", \"Hot water\", \"Paid parking off premises\", \"Dishes and silverware\", \"First aid kit\", \"Kitchen\", \"Long term stays allowed\", \"Elevator\", \"Hangers\", \"Stove\", \"Single level home\", \"Smoke alarm\", \"Coffee maker\", \"Dishwasher\", \"Hair dryer\", \"Carbon monoxide alarm\", \"Essentials\", \"Heating\", \"Lockbox\", \"Oven\", \"Shower gel\", \"Wifi\", \"Fire extinguisher\", \"Baking sheet\", \"Cooking basics\", \"Patio or balcony\", \"Washer\", \"Bathtub\", \"Refrigerator\", \"Shampoo\", \"Self check-in\", \"Dryer\", \"Room-darkening shades\", \"Extra pillows and blankets\", \"Iron\"]                                                                                                                                                                                                                                                                                                                                                                                                                                                                                                                                                                                                                                                                                                  </td><td>1</td></tr>\n",
              "</tbody>\n",
              "</table>\n"
            ],
            "text/markdown": "\nA grouped_df: 6 × 9\n\n| neighbourhood_group_cleansed &lt;chr&gt; | neighbourhood_cleansed &lt;chr&gt; | property_type &lt;chr&gt; | room_type &lt;chr&gt; | baths &lt;dbl&gt; | beds &lt;dbl&gt; | NumPrice &lt;dbl&gt; | amenities &lt;chr&gt; | Wifi &lt;dbl&gt; |\n|---|---|---|---|---|---|---|---|---|\n| Kreis 7 | Hottingen | Entire condo       | Entire home/apt | -0.4036603 | -0.4869756 | -0.40138404 | []                                                                                                                                                                                                                                                                                                                                                                                                                                                                                                                                                                                                                                                                                                                                                                                                                                                                                                                                                                                                                                                                                                                                                                                                                                                                                                   | 0 |\n| Kreis 7 | Hottingen | Entire condo       | Entire home/apt |  2.0640722 |  0.3417660 | -0.30863138 | [\"Crib\", \"Books and reading material\", \"Conditioner\", \"Private backyard \\u2013 Fully fenced\", \"Bed linens\", \"Dining table\", \"Hot water\", \"Babysitter recommendations\", \"Private outdoor kitchen\", \"Paid parking off premises\", \"Garden view\", \"First aid kit\", \"Kitchen\", \"Dishes and silverware\", \"Elevator\", \"Indoor fireplace: wood-burning\", \"Baby safety gates\", \"City skyline view\", \"Hangers\", \"Single level home\", \"Cleaning products\", \"Coffee maker\", \"BBQ grill\", \"Dishwasher\", \"Hair dryer\", \"Rice maker\", \"Essentials\", \"Body soap\", \"Heating\", \"Outdoor dining area\", \"Lockbox\", \"High chair\", \"Electric stove\", \"Free washer \\u2013 In unit\", \"Wifi\", \"Free dryer \\u2013 In unit\", \"Fire extinguisher\", \"Bluetooth sound system\", \"Baking sheet\", \"Cooking basics\", \"Dedicated workspace\", \"Changing table - always at the listing\", \"Baby bath - always at the listing\", \"Pack \\u2019n play/Travel crib\", \"Blender\", \"Bidet\", \"HDTV with standard cable\", \"Refrigerator\", \"Hot water kettle\", \"Drying rack for clothing\", \"Freezer\", \"Outdoor furniture\", \"Shampoo\", \"Lake view\", \"Self check-in\", \"Table corner guards\", \"Toaster\", \"Room-darkening shades\", \"Children\\u2019s dinnerware\", \"Children\\u2019s books and toys\", \"Microwave\", \"Private patio or balcony\", \"Iron\"] | 1 |\n| Kreis 7 | Hottingen | Entire condo       | Entire home/apt | -0.4036603 |  0.3417660 |  0.27385535 | [\"Books and reading material\", \"Fireplace guards\", \"Barbecue utensils\", \"Bed linens\", \"Dining table\", \"Hot water\", \"Fast wifi \\u2013 430 Mbps\", \"Dishes and silverware\", \"First aid kit\", \"Kitchen\", \"Long term stays allowed\", \"Paid washer \\u2013 In building\", \"Wine glasses\", \"Indoor fireplace: wood-burning\", \"Elevator\", \"Cleaning products\", \"BBQ grill\", \"Dishwasher\", \"Hair dryer\", \"Essentials\", \"Portable fans\", \"Body soap\", \"Heating\", \"Coffee maker: Nespresso\", \"Lockbox\", \"Oven\", \"Electric stove\", \"Baking sheet\", \"Cooking basics\", \"Coffee\", \"Dedicated workspace\", \"Blender\", \"Paid street parking off premises\", \"Refrigerator\", \"Hot water kettle\", \"Freezer\", \"Lake view\", \"Self check-in\", \"UE Boom Bluetooth sound system\", \"Toaster\", \"Room-darkening shades\", \"Microwave\", \"Paid dryer \\u2013 In building\", \"Private patio or balcony\"]                                                                                                                                                                                                                                                                                                                                                                                                                               | 1 |\n| Kreis 7 | Hottingen | Entire condo       | Entire home/apt | -0.4036603 |  0.3417660 | -0.07860477 | [\"TV\", \"Wifi\", \"Kitchen\", \"Dedicated workspace\", \"Central heating\", \"Washer\"]                                                                                                                                                                                                                                                                                                                                                                                                                                                                                                                                                                                                                                                                                                                                                                                                                                                                                                                                                                                                                                                                                                                                                                                                                        | 1 |\n| Kreis 7 | Hottingen | Entire rental unit | Entire home/apt | -0.4036603 | -0.4869756 |  0.01414789 | [\"Refrigerator\", \"Lockbox\", \"Heating\", \"Wifi\", \"Dryer\", \"Self check-in\", \"Hot water\", \"TV with standard cable\", \"Hair dryer\", \"Cooking basics\", \"Kitchen\", \"Dedicated workspace\", \"Washer\", \"Iron\"]                                                                                                                                                                                                                                                                                                                                                                                                                                                                                                                                                                                                                                                                                                                                                                                                                                                                                                                                                                                                                                                                                                  | 1 |\n| Kreis 7 | Hottingen | Entire rental unit | Entire home/apt | -0.4036603 | -0.4869756 | -0.38283351 | [\"Bed linens\", \"Luggage dropoff allowed\", \"Hot water\", \"Paid parking off premises\", \"Dishes and silverware\", \"First aid kit\", \"Kitchen\", \"Long term stays allowed\", \"Elevator\", \"Hangers\", \"Stove\", \"Single level home\", \"Smoke alarm\", \"Coffee maker\", \"Dishwasher\", \"Hair dryer\", \"Carbon monoxide alarm\", \"Essentials\", \"Heating\", \"Lockbox\", \"Oven\", \"Shower gel\", \"Wifi\", \"Fire extinguisher\", \"Baking sheet\", \"Cooking basics\", \"Patio or balcony\", \"Washer\", \"Bathtub\", \"Refrigerator\", \"Shampoo\", \"Self check-in\", \"Dryer\", \"Room-darkening shades\", \"Extra pillows and blankets\", \"Iron\"]                                                                                                                                                                                                                                                                                                                                                                                                                                                                                                                                                                                                                                                                                                   | 1 |\n\n",
            "text/latex": "A grouped\\_df: 6 × 9\n\\begin{tabular}{lllllllll}\n neighbourhood\\_group\\_cleansed & neighbourhood\\_cleansed & property\\_type & room\\_type & baths & beds & NumPrice & amenities & Wifi\\\\\n <chr> & <chr> & <chr> & <chr> & <dbl> & <dbl> & <dbl> & <chr> & <dbl>\\\\\n\\hline\n\t Kreis 7 & Hottingen & Entire condo       & Entire home/apt & -0.4036603 & -0.4869756 & -0.40138404 & {[}{]}                                                                                                                                                                                                                                                                                                                                                                                                                                                                                                                                                                                                                                                                                                                                                                                                                                                                                                                                                                                                                                                                                                                                                                                                                                                                                                   & 0\\\\\n\t Kreis 7 & Hottingen & Entire condo       & Entire home/apt &  2.0640722 &  0.3417660 & -0.30863138 & {[}\"Crib\", \"Books and reading material\", \"Conditioner\", \"Private backyard \\textbackslash{}u2013 Fully fenced\", \"Bed linens\", \"Dining table\", \"Hot water\", \"Babysitter recommendations\", \"Private outdoor kitchen\", \"Paid parking off premises\", \"Garden view\", \"First aid kit\", \"Kitchen\", \"Dishes and silverware\", \"Elevator\", \"Indoor fireplace: wood-burning\", \"Baby safety gates\", \"City skyline view\", \"Hangers\", \"Single level home\", \"Cleaning products\", \"Coffee maker\", \"BBQ grill\", \"Dishwasher\", \"Hair dryer\", \"Rice maker\", \"Essentials\", \"Body soap\", \"Heating\", \"Outdoor dining area\", \"Lockbox\", \"High chair\", \"Electric stove\", \"Free washer \\textbackslash{}u2013 In unit\", \"Wifi\", \"Free dryer \\textbackslash{}u2013 In unit\", \"Fire extinguisher\", \"Bluetooth sound system\", \"Baking sheet\", \"Cooking basics\", \"Dedicated workspace\", \"Changing table - always at the listing\", \"Baby bath - always at the listing\", \"Pack \\textbackslash{}u2019n play/Travel crib\", \"Blender\", \"Bidet\", \"HDTV with standard cable\", \"Refrigerator\", \"Hot water kettle\", \"Drying rack for clothing\", \"Freezer\", \"Outdoor furniture\", \"Shampoo\", \"Lake view\", \"Self check-in\", \"Table corner guards\", \"Toaster\", \"Room-darkening shades\", \"Children\\textbackslash{}u2019s dinnerware\", \"Children\\textbackslash{}u2019s books and toys\", \"Microwave\", \"Private patio or balcony\", \"Iron\"{]} & 1\\\\\n\t Kreis 7 & Hottingen & Entire condo       & Entire home/apt & -0.4036603 &  0.3417660 &  0.27385535 & {[}\"Books and reading material\", \"Fireplace guards\", \"Barbecue utensils\", \"Bed linens\", \"Dining table\", \"Hot water\", \"Fast wifi \\textbackslash{}u2013 430 Mbps\", \"Dishes and silverware\", \"First aid kit\", \"Kitchen\", \"Long term stays allowed\", \"Paid washer \\textbackslash{}u2013 In building\", \"Wine glasses\", \"Indoor fireplace: wood-burning\", \"Elevator\", \"Cleaning products\", \"BBQ grill\", \"Dishwasher\", \"Hair dryer\", \"Essentials\", \"Portable fans\", \"Body soap\", \"Heating\", \"Coffee maker: Nespresso\", \"Lockbox\", \"Oven\", \"Electric stove\", \"Baking sheet\", \"Cooking basics\", \"Coffee\", \"Dedicated workspace\", \"Blender\", \"Paid street parking off premises\", \"Refrigerator\", \"Hot water kettle\", \"Freezer\", \"Lake view\", \"Self check-in\", \"UE Boom Bluetooth sound system\", \"Toaster\", \"Room-darkening shades\", \"Microwave\", \"Paid dryer \\textbackslash{}u2013 In building\", \"Private patio or balcony\"{]}                                                                                                                                                                                                                                                                                                                                                                                                                               & 1\\\\\n\t Kreis 7 & Hottingen & Entire condo       & Entire home/apt & -0.4036603 &  0.3417660 & -0.07860477 & {[}\"TV\", \"Wifi\", \"Kitchen\", \"Dedicated workspace\", \"Central heating\", \"Washer\"{]}                                                                                                                                                                                                                                                                                                                                                                                                                                                                                                                                                                                                                                                                                                                                                                                                                                                                                                                                                                                                                                                                                                                                                                                                                        & 1\\\\\n\t Kreis 7 & Hottingen & Entire rental unit & Entire home/apt & -0.4036603 & -0.4869756 &  0.01414789 & {[}\"Refrigerator\", \"Lockbox\", \"Heating\", \"Wifi\", \"Dryer\", \"Self check-in\", \"Hot water\", \"TV with standard cable\", \"Hair dryer\", \"Cooking basics\", \"Kitchen\", \"Dedicated workspace\", \"Washer\", \"Iron\"{]}                                                                                                                                                                                                                                                                                                                                                                                                                                                                                                                                                                                                                                                                                                                                                                                                                                                                                                                                                                                                                                                                                                  & 1\\\\\n\t Kreis 7 & Hottingen & Entire rental unit & Entire home/apt & -0.4036603 & -0.4869756 & -0.38283351 & {[}\"Bed linens\", \"Luggage dropoff allowed\", \"Hot water\", \"Paid parking off premises\", \"Dishes and silverware\", \"First aid kit\", \"Kitchen\", \"Long term stays allowed\", \"Elevator\", \"Hangers\", \"Stove\", \"Single level home\", \"Smoke alarm\", \"Coffee maker\", \"Dishwasher\", \"Hair dryer\", \"Carbon monoxide alarm\", \"Essentials\", \"Heating\", \"Lockbox\", \"Oven\", \"Shower gel\", \"Wifi\", \"Fire extinguisher\", \"Baking sheet\", \"Cooking basics\", \"Patio or balcony\", \"Washer\", \"Bathtub\", \"Refrigerator\", \"Shampoo\", \"Self check-in\", \"Dryer\", \"Room-darkening shades\", \"Extra pillows and blankets\", \"Iron\"{]}                                                                                                                                                                                                                                                                                                                                                                                                                                                                                                                                                                                                                                                                                                   & 1\\\\\n\\end{tabular}\n",
            "text/plain": [
              "  neighbourhood_group_cleansed neighbourhood_cleansed property_type     \n",
              "1 Kreis 7                      Hottingen              Entire condo      \n",
              "2 Kreis 7                      Hottingen              Entire condo      \n",
              "3 Kreis 7                      Hottingen              Entire condo      \n",
              "4 Kreis 7                      Hottingen              Entire condo      \n",
              "5 Kreis 7                      Hottingen              Entire rental unit\n",
              "6 Kreis 7                      Hottingen              Entire rental unit\n",
              "  room_type       baths      beds       NumPrice   \n",
              "1 Entire home/apt -0.4036603 -0.4869756 -0.40138404\n",
              "2 Entire home/apt  2.0640722  0.3417660 -0.30863138\n",
              "3 Entire home/apt -0.4036603  0.3417660  0.27385535\n",
              "4 Entire home/apt -0.4036603  0.3417660 -0.07860477\n",
              "5 Entire home/apt -0.4036603 -0.4869756  0.01414789\n",
              "6 Entire home/apt -0.4036603 -0.4869756 -0.38283351\n",
              "  amenities                                                                                                                                                                                                                                                                                                                                                                                                                                                                                                                                                                                                                                                                                                                                                                                                                                                                                                                                                                                                                                                                                                                                                                                                                                                                                           \n",
              "1 []                                                                                                                                                                                                                                                                                                                                                                                                                                                                                                                                                                                                                                                                                                                                                                                                                                                                                                                                                                                                                                                                                                                                                                                                                                                                                                  \n",
              "2 [\"Crib\", \"Books and reading material\", \"Conditioner\", \"Private backyard \\\\u2013 Fully fenced\", \"Bed linens\", \"Dining table\", \"Hot water\", \"Babysitter recommendations\", \"Private outdoor kitchen\", \"Paid parking off premises\", \"Garden view\", \"First aid kit\", \"Kitchen\", \"Dishes and silverware\", \"Elevator\", \"Indoor fireplace: wood-burning\", \"Baby safety gates\", \"City skyline view\", \"Hangers\", \"Single level home\", \"Cleaning products\", \"Coffee maker\", \"BBQ grill\", \"Dishwasher\", \"Hair dryer\", \"Rice maker\", \"Essentials\", \"Body soap\", \"Heating\", \"Outdoor dining area\", \"Lockbox\", \"High chair\", \"Electric stove\", \"Free washer \\\\u2013 In unit\", \"Wifi\", \"Free dryer \\\\u2013 In unit\", \"Fire extinguisher\", \"Bluetooth sound system\", \"Baking sheet\", \"Cooking basics\", \"Dedicated workspace\", \"Changing table - always at the listing\", \"Baby bath - always at the listing\", \"Pack \\\\u2019n play/Travel crib\", \"Blender\", \"Bidet\", \"HDTV with standard cable\", \"Refrigerator\", \"Hot water kettle\", \"Drying rack for clothing\", \"Freezer\", \"Outdoor furniture\", \"Shampoo\", \"Lake view\", \"Self check-in\", \"Table corner guards\", \"Toaster\", \"Room-darkening shades\", \"Children\\\\u2019s dinnerware\", \"Children\\\\u2019s books and toys\", \"Microwave\", \"Private patio or balcony\", \"Iron\"]\n",
              "3 [\"Books and reading material\", \"Fireplace guards\", \"Barbecue utensils\", \"Bed linens\", \"Dining table\", \"Hot water\", \"Fast wifi \\\\u2013 430 Mbps\", \"Dishes and silverware\", \"First aid kit\", \"Kitchen\", \"Long term stays allowed\", \"Paid washer \\\\u2013 In building\", \"Wine glasses\", \"Indoor fireplace: wood-burning\", \"Elevator\", \"Cleaning products\", \"BBQ grill\", \"Dishwasher\", \"Hair dryer\", \"Essentials\", \"Portable fans\", \"Body soap\", \"Heating\", \"Coffee maker: Nespresso\", \"Lockbox\", \"Oven\", \"Electric stove\", \"Baking sheet\", \"Cooking basics\", \"Coffee\", \"Dedicated workspace\", \"Blender\", \"Paid street parking off premises\", \"Refrigerator\", \"Hot water kettle\", \"Freezer\", \"Lake view\", \"Self check-in\", \"UE Boom Bluetooth sound system\", \"Toaster\", \"Room-darkening shades\", \"Microwave\", \"Paid dryer \\\\u2013 In building\", \"Private patio or balcony\"]                                                                                                                                                                                                                                                                                                                                                                                                                              \n",
              "4 [\"TV\", \"Wifi\", \"Kitchen\", \"Dedicated workspace\", \"Central heating\", \"Washer\"]                                                                                                                                                                                                                                                                                                                                                                                                                                                                                                                                                                                                                                                                                                                                                                                                                                                                                                                                                                                                                                                                                                                                                                                                                       \n",
              "5 [\"Refrigerator\", \"Lockbox\", \"Heating\", \"Wifi\", \"Dryer\", \"Self check-in\", \"Hot water\", \"TV with standard cable\", \"Hair dryer\", \"Cooking basics\", \"Kitchen\", \"Dedicated workspace\", \"Washer\", \"Iron\"]                                                                                                                                                                                                                                                                                                                                                                                                                                                                                                                                                                                                                                                                                                                                                                                                                                                                                                                                                                                                                                                                                                 \n",
              "6 [\"Bed linens\", \"Luggage dropoff allowed\", \"Hot water\", \"Paid parking off premises\", \"Dishes and silverware\", \"First aid kit\", \"Kitchen\", \"Long term stays allowed\", \"Elevator\", \"Hangers\", \"Stove\", \"Single level home\", \"Smoke alarm\", \"Coffee maker\", \"Dishwasher\", \"Hair dryer\", \"Carbon monoxide alarm\", \"Essentials\", \"Heating\", \"Lockbox\", \"Oven\", \"Shower gel\", \"Wifi\", \"Fire extinguisher\", \"Baking sheet\", \"Cooking basics\", \"Patio or balcony\", \"Washer\", \"Bathtub\", \"Refrigerator\", \"Shampoo\", \"Self check-in\", \"Dryer\", \"Room-darkening shades\", \"Extra pillows and blankets\", \"Iron\"]                                                                                                                                                                                                                                                                                                                                                                                                                                                                                                                                                                                                                                                                                                  \n",
              "  Wifi\n",
              "1 0   \n",
              "2 1   \n",
              "3 1   \n",
              "4 1   \n",
              "5 1   \n",
              "6 1   "
            ]
          },
          "metadata": {}
        }
      ]
    },
    {
      "cell_type": "code",
      "source": [
        "# Split the data into training and testing sets\n",
        "set.seed(1131)\n",
        "train.rows<-sample(rownames(data_test),dim(data_test)[1]*0.6)\n",
        "train.data<-data_test[train.rows,]\n",
        "valid.rows<-setdiff(rownames(data_test),train.rows)\n",
        "valid.data<-data_test[valid.rows,]\n"
      ],
      "metadata": {
        "id": "HCpxdCYApmYY"
      },
      "id": "HCpxdCYApmYY",
      "execution_count": 175,
      "outputs": []
    },
    {
      "cell_type": "code",
      "source": [
        "library(class)\n",
        "\n",
        "# Use the selected value of k to make predictions on the testing set\n",
        "knnFit <- knn(train = train.data[, c(\"baths\", \"beds\", \"NumPrice\")],\n",
        "              test = valid.data[, c(\"baths\", \"beds\", \"NumPrice\")],\n",
        "              cl = train.data$Wifi,  # Use Wifi from train.data for class labels\n",
        "              k = 3)\n"
      ],
      "metadata": {
        "id": "C6JdXwr42Vjh"
      },
      "id": "C6JdXwr42Vjh",
      "execution_count": 229,
      "outputs": []
    },
    {
      "cell_type": "code",
      "source": [
        "# Print the predicted amenities\n",
        "print(knnFit)"
      ],
      "metadata": {
        "colab": {
          "base_uri": "https://localhost:8080/"
        },
        "id": "1R-E0Uuf2YYt",
        "outputId": "c94be9d8-923a-488f-94f6-45bfee591992"
      },
      "id": "1R-E0Uuf2YYt",
      "execution_count": 230,
      "outputs": [
        {
          "output_type": "stream",
          "name": "stdout",
          "text": [
            " [1] 0 1 1 1 1 1 1 1 1 1 1 1 1 1 1 1 1 1 1 1 1 1 1 1 1 1 1 1 1 0 1 1 1 1 1\n",
            "Levels: 0 1\n"
          ]
        }
      ]
    },
    {
      "cell_type": "code",
      "source": [
        "# Convert 'near' matrix into a simple vector\n",
        "near_vector <- as.vector(attr(knnFit, \"nn.index\"))\n",
        "\n",
        "\n",
        "# Subset rows using the simple vector\n",
        "near_1 <- train.data[near_vector, c(\"baths\", \"beds\", \"NumPrice\")]\n",
        "\n",
        "# Print the subsetted data\n",
        "print(near_1)\n"
      ],
      "metadata": {
        "colab": {
          "base_uri": "https://localhost:8080/"
        },
        "id": "lc2K_vdHyJ-q",
        "outputId": "fba308dc-5ce9-4fe9-e435-bdb04be202c8"
      },
      "id": "lc2K_vdHyJ-q",
      "execution_count": 231,
      "outputs": [
        {
          "output_type": "stream",
          "name": "stdout",
          "text": [
            "\u001b[90m# A tibble: 0 × 3\u001b[39m\n",
            "\u001b[90m# Groups:   beds [0]\u001b[39m\n",
            "\u001b[90m# ℹ 3 variables: baths <dbl>, beds <dbl>, NumPrice <dbl>\u001b[39m\n"
          ]
        }
      ]
    },
    {
      "cell_type": "code",
      "source": [
        "# Load the necessary packages\n",
        "install.packages(\"caret\")\n",
        "library(caret)"
      ],
      "metadata": {
        "id": "zFC4E7vzqPzL"
      },
      "id": "zFC4E7vzqPzL",
      "execution_count": null,
      "outputs": []
    },
    {
      "cell_type": "markdown",
      "source": [
        "### Step - IV: Accuracy Test"
      ],
      "metadata": {
        "id": "UcZqArCD9z31"
      },
      "id": "UcZqArCD9z31"
    },
    {
      "cell_type": "code",
      "source": [
        "# Initialize a data frame to store accuracy for different k values\n",
        "accuracy.df <- data.frame(k = seq(1, 35, 1), accuracy = rep(0, 35))\n",
        "\n",
        "# Compute kNN for different k values on the validation set\n",
        "for (i in 1:35) {\n",
        "  knn.pred <- knn(train.data[, c(\"baths\", \"beds\", \"NumPrice\")],\n",
        "                  valid.data[, c(\"baths\", \"beds\", \"NumPrice\")],\n",
        "                  cl = as.factor(train.data$Wifi), k = i)  # Convert class labels to factor\n",
        "  accuracy.df[i, 2] <- confusionMatrix(knn.pred, as.factor(valid.data$Wifi))$overall[\"Accuracy\"]\n",
        "}\n",
        "\n",
        "# Print accuracy dataframe\n",
        "print(accuracy.df)\n"
      ],
      "metadata": {
        "colab": {
          "base_uri": "https://localhost:8080/"
        },
        "id": "6l0KBreg7WPy",
        "outputId": "2877f7e0-b4b8-437e-8f93-f3289abf3d51"
      },
      "id": "6l0KBreg7WPy",
      "execution_count": 263,
      "outputs": [
        {
          "output_type": "stream",
          "name": "stdout",
          "text": [
            "    k  accuracy\n",
            "1   1 0.8857143\n",
            "2   2 0.9142857\n",
            "3   3 0.9428571\n",
            "4   4 0.9714286\n",
            "5   5 0.9428571\n",
            "6   6 0.9428571\n",
            "7   7 0.9428571\n",
            "8   8 0.9428571\n",
            "9   9 0.9428571\n",
            "10 10 0.9428571\n",
            "11 11 0.9428571\n",
            "12 12 0.9428571\n",
            "13 13 0.9428571\n",
            "14 14 0.9428571\n",
            "15 15 0.9428571\n",
            "16 16 0.9428571\n",
            "17 17 0.9428571\n",
            "18 18 0.9428571\n",
            "19 19 0.9428571\n",
            "20 20 0.9428571\n",
            "21 21 0.9428571\n",
            "22 22 0.9428571\n",
            "23 23 0.9428571\n",
            "24 24 0.9428571\n",
            "25 25 0.9428571\n",
            "26 26 0.9428571\n",
            "27 27 0.9428571\n",
            "28 28 0.9428571\n",
            "29 29 0.9428571\n",
            "30 30 0.9428571\n",
            "31 31 0.9428571\n",
            "32 32 0.9428571\n",
            "33 33 0.9428571\n",
            "34 34 0.9428571\n",
            "35 35 0.9428571\n"
          ]
        }
      ]
    },
    {
      "cell_type": "code",
      "source": [
        "# Load the ggplot2 library\n",
        "install.packages(\"ggplot2\")\n",
        "library(ggplot2)"
      ],
      "metadata": {
        "id": "uiDIAHTQqP4y",
        "colab": {
          "base_uri": "https://localhost:8080/"
        },
        "outputId": "34ca3d0c-9780-4947-eddc-f9c3b1d763c1"
      },
      "id": "uiDIAHTQqP4y",
      "execution_count": 204,
      "outputs": [
        {
          "output_type": "stream",
          "name": "stderr",
          "text": [
            "Installing package into ‘/usr/local/lib/R/site-library’\n",
            "(as ‘lib’ is unspecified)\n",
            "\n"
          ]
        }
      ]
    },
    {
      "cell_type": "code",
      "source": [
        "# Plot accuracy vs. k values\n",
        "ggplot(data = accuracy.df, aes(x = k, y = accuracy)) +\n",
        "  geom_point() +\n",
        "  geom_line() +\n",
        "  labs(x = \"k values\", y = \"Accuracy\") +\n",
        "  ggtitle(\"Accuracy vs k values\")"
      ],
      "metadata": {
        "id": "yESvQl-jqP7e",
        "colab": {
          "base_uri": "https://localhost:8080/",
          "height": 437
        },
        "outputId": "86d405fd-c536-4771-f9bd-d4908779a445"
      },
      "id": "yESvQl-jqP7e",
      "execution_count": 264,
      "outputs": [
        {
          "output_type": "display_data",
          "data": {
            "text/plain": [
              "plot without title"
            ],
            "image/png": "[encoded data removed]"
          },
          "metadata": {
            "image/png": {
              "width": 420,
              "height": 420
            }
          }
        }
      ]
    },
    {
      "cell_type": "markdown",
      "source": [
        "### Step - V: Optimal K Value"
      ],
      "metadata": {
        "id": "WhE6lwFb99tu"
      },
      "id": "WhE6lwFb99tu"
    },
    {
      "cell_type": "code",
      "source": [
        "# Find the optimal k value\n",
        "optimal_k <- accuracy.df$k[which.max(accuracy.df$accuracy)]\n",
        "optimal_accuracy <- max(accuracy.df$accuracy)\n",
        "\n",
        "# Print optimal k value and accuracy\n",
        "cat(\"Optimal k value:\", optimal_k, \"\\n\")\n",
        "cat(\"Optimal accuracy:\", optimal_accuracy, \"\\n\")\n"
      ],
      "metadata": {
        "colab": {
          "base_uri": "https://localhost:8080/"
        },
        "id": "ZZnMOPf_72rS",
        "outputId": "21cb5592-c2bf-4639-8fcd-1f00bd10f864"
      },
      "id": "ZZnMOPf_72rS",
      "execution_count": 265,
      "outputs": [
        {
          "output_type": "stream",
          "name": "stdout",
          "text": [
            "Optimal k value: 4 \n",
            "Optimal accuracy: 0.9714286 \n"
          ]
        }
      ]
    },
    {
      "cell_type": "markdown",
      "source": [
        "### Step - VI: Confusion Matrix"
      ],
      "metadata": {
        "id": "eL5DhtoC-IT-"
      },
      "id": "eL5DhtoC-IT-"
    },
    {
      "cell_type": "code",
      "source": [
        "# Build confusion matrix\n",
        "confusionMatrix(table(predicted = knnFit, actual = valid.data$Wifi))\n"
      ],
      "metadata": {
        "colab": {
          "base_uri": "https://localhost:8080/",
          "height": 485
        },
        "id": "rnrSGqpZimKs",
        "outputId": "8316db08-e820-4271-c0ef-26f7eea76a6c"
      },
      "id": "rnrSGqpZimKs",
      "execution_count": 233,
      "outputs": [
        {
          "output_type": "display_data",
          "data": {
            "text/plain": [
              "Confusion Matrix and Statistics\n",
              "\n",
              "         actual\n",
              "predicted  0  1\n",
              "        0  1  1\n",
              "        1  1 32\n",
              "                                         \n",
              "               Accuracy : 0.9429         \n",
              "                 95% CI : (0.8084, 0.993)\n",
              "    No Information Rate : 0.9429         \n",
              "    P-Value [Acc > NIR] : 0.6768         \n",
              "                                         \n",
              "                  Kappa : 0.4697         \n",
              "                                         \n",
              " Mcnemar's Test P-Value : 1.0000         \n",
              "                                         \n",
              "            Sensitivity : 0.50000        \n",
              "            Specificity : 0.96970        \n",
              "         Pos Pred Value : 0.50000        \n",
              "         Neg Pred Value : 0.96970        \n",
              "             Prevalence : 0.05714        \n",
              "         Detection Rate : 0.02857        \n",
              "   Detection Prevalence : 0.05714        \n",
              "      Balanced Accuracy : 0.73485        \n",
              "                                         \n",
              "       'Positive' Class : 0              \n",
              "                                         "
            ]
          },
          "metadata": {}
        }
      ]
    },
    {
      "cell_type": "markdown",
      "source": [
        "**💡Interpretation💡-**\n",
        "\n",
        "- **Accuracy**: The overall accuracy of the model is 94.29%, indicating that it correctly predicted 94.29% of the instances in the validation set.\n",
        "- **Sensitivity (True Positive Rate)**: The sensitivity, also known as the true positive rate, is 50%. This metric represents the proportion of actual positives (class 0, indicating presence of Wifi) that were correctly identified by the model.\n",
        "- **Specificity (True Negative Rate)**: The specificity, or true negative rate, is 96.97%. This measures the proportion of actual negatives (class 1, indicating absence of Wifi) that were correctly identified by the model.\n",
        "- **Positive Predictive Value (Precision)**: The positive predictive value, or precision, is 50%. This indicates the probability that instances predicted as having Wifi (class 0) actually have it.\n",
        "- **Negative Predictive Value**: The negative predictive value is 96.97%, representing the probability that instances predicted as not having Wifi (class 1) actually don't have it.\n",
        "- **Prevalence**: The prevalence of Wifi in the dataset is 5.71%, indicating the proportion of instances with Wifi.\n",
        "- **Balanced Accuracy**: The balanced accuracy is 73.49%, calculated as the average of sensitivity and specificity. It provides a balanced assessment of the model's performance across both classes.\n",
        "\n",
        "In summary, the model shows reasonably high accuracy and specificity but relatively low sensitivity, suggesting that it performs better at correctly identifying instances without Wifi than those with Wifi. This imbalance in performance could be due to the class distribution in the dataset or the model's inherent bias. Further tuning or exploration may be needed to improve sensitivity without compromising specificity."
      ],
      "metadata": {
        "id": "6EI5Ust_Jq2j"
      },
      "id": "6EI5Ust_Jq2j"
    },
    {
      "cell_type": "markdown",
      "source": [
        "### Solution : B"
      ],
      "metadata": {
        "id": "kKCMAw2W3N3i"
      },
      "id": "kKCMAw2W3N3i"
    },
    {
      "cell_type": "markdown",
      "source": [
        "**💡Final Narative💡-**\n",
        "\n",
        "In this analysis, the focus was on predicting the availability of Wifi as an amenity in rental listings in Zurich. The dataset contained information on various predictors such as the number of bathrooms, bedrooms, and the price of the listings. To prepare the data, I first created a binary variable for Wifi availability based on whether the term \"wifi\" was present in the amenities list. Then, I split the data into training and validation sets and normalized the numerical predictors. The kNN algorithm was chosen for its simplicity and effectiveness in handling classification tasks. To determine the optimal k-value, I utilized a loop to iterate through different values of k and evaluated the model's accuracy on the validation set for each k. The k-value that yielded the highest accuracy was selected as the optimal choice.\n",
        "\n",
        "Upon evaluating the kNN model with the optimal k-value, it achieved an accuracy of 94.29% on the validation set, which suggests a good overall performance. However, a deeper analysis revealed that the model's sensitivity was relatively low at 50%, indicating a challenge in correctly identifying instances with Wifi. This imbalance in sensitivity and specificity might suggest potential areas for improvement in the model, such as exploring different feature selections or algorithmic approaches. Furthermore, comparing the model's performance against a naive Bayes algorithm, with the purpose of predicting the way consumers feel about the value that they recieve from the booking will help provide additional insights"
      ],
      "metadata": {
        "id": "3BGmDgVu2jy5"
      },
      "id": "3BGmDgVu2jy5"
    },
    {
      "cell_type": "code",
      "source": [],
      "metadata": {
        "id": "CJ5w4YWKqQI4"
      },
      "id": "CJ5w4YWKqQI4",
      "execution_count": null,
      "outputs": []
    },
    {
      "cell_type": "code",
      "source": [],
      "metadata": {
        "id": "2N5t-hQsqQLQ"
      },
      "id": "2N5t-hQsqQLQ",
      "execution_count": null,
      "outputs": []
    },
    {
      "cell_type": "code",
      "source": [],
      "metadata": {
        "id": "w0kOgxuNqQOU"
      },
      "id": "w0kOgxuNqQOU",
      "execution_count": null,
      "outputs": []
    },
    {
      "cell_type": "code",
      "source": [],
      "metadata": {
        "id": "B__ZGj0mqQRW"
      },
      "id": "B__ZGj0mqQRW",
      "execution_count": null,
      "outputs": []
    },
    {
      "cell_type": "code",
      "source": [],
      "metadata": {
        "id": "FK_7dHx_d1KE"
      },
      "id": "FK_7dHx_d1KE",
      "execution_count": null,
      "outputs": []
    },
    {
      "cell_type": "code",
      "source": [],
      "metadata": {
        "id": "rsvKWIcBd1Qf"
      },
      "id": "rsvKWIcBd1Qf",
      "execution_count": null,
      "outputs": []
    },
    {
      "cell_type": "code",
      "source": [],
      "metadata": {
        "id": "yjn1xn5xd1Wv"
      },
      "id": "yjn1xn5xd1Wv",
      "execution_count": null,
      "outputs": []
    },
    {
      "cell_type": "code",
      "source": [],
      "metadata": {
        "id": "Lv7WzZ6Qd1c-"
      },
      "id": "Lv7WzZ6Qd1c-",
      "execution_count": null,
      "outputs": []
    },
    {
      "cell_type": "code",
      "source": [],
      "metadata": {
        "id": "3VjPE9SKd1ih"
      },
      "id": "3VjPE9SKd1ih",
      "execution_count": null,
      "outputs": []
    },
    {
      "cell_type": "code",
      "source": [],
      "metadata": {
        "id": "s-RlA4Otd1oL"
      },
      "id": "s-RlA4Otd1oL",
      "execution_count": null,
      "outputs": []
    },
    {
      "cell_type": "code",
      "source": [],
      "metadata": {
        "id": "Gjyh2uSId1t5"
      },
      "id": "Gjyh2uSId1t5",
      "execution_count": null,
      "outputs": []
    },
    {
      "cell_type": "code",
      "source": [],
      "metadata": {
        "id": "RrgwVRyrd1zI"
      },
      "id": "RrgwVRyrd1zI",
      "execution_count": null,
      "outputs": []
    },
    {
      "cell_type": "code",
      "source": [],
      "metadata": {
        "id": "UXoJJYhJd6AS"
      },
      "id": "UXoJJYhJd6AS",
      "execution_count": null,
      "outputs": []
    },
    {
      "cell_type": "code",
      "source": [],
      "metadata": {
        "id": "DQyiuv26d6Fc"
      },
      "id": "DQyiuv26d6Fc",
      "execution_count": null,
      "outputs": []
    },
    {
      "cell_type": "code",
      "source": [],
      "metadata": {
        "id": "-f0OALxQd6Kj"
      },
      "id": "-f0OALxQd6Kj",
      "execution_count": null,
      "outputs": []
    },
    {
      "cell_type": "code",
      "source": [],
      "metadata": {
        "id": "5pRT8pAld6Py"
      },
      "id": "5pRT8pAld6Py",
      "execution_count": null,
      "outputs": []
    },
    {
      "cell_type": "code",
      "source": [],
      "metadata": {
        "id": "Ei7qvgNFd6Ux"
      },
      "id": "Ei7qvgNFd6Ux",
      "execution_count": null,
      "outputs": []
    },
    {
      "cell_type": "code",
      "source": [],
      "metadata": {
        "id": "wdxo_RLBd6Zu"
      },
      "id": "wdxo_RLBd6Zu",
      "execution_count": null,
      "outputs": []
    },
    {
      "cell_type": "code",
      "source": [],
      "metadata": {
        "id": "GDJLi5htd6eq"
      },
      "id": "GDJLi5htd6eq",
      "execution_count": null,
      "outputs": []
    },
    {
      "cell_type": "code",
      "source": [],
      "metadata": {
        "id": "hxaovEqgd6jg"
      },
      "id": "hxaovEqgd6jg",
      "execution_count": null,
      "outputs": []
    },
    {
      "cell_type": "code",
      "source": [],
      "metadata": {
        "id": "toEDozBWd6oU"
      },
      "id": "toEDozBWd6oU",
      "execution_count": null,
      "outputs": []
    },
    {
      "cell_type": "code",
      "source": [],
      "metadata": {
        "id": "l2AMSwQTd6tB"
      },
      "id": "l2AMSwQTd6tB",
      "execution_count": null,
      "outputs": []
    },
    {
      "cell_type": "code",
      "source": [],
      "metadata": {
        "id": "x-0k-zXld6xI"
      },
      "id": "x-0k-zXld6xI",
      "execution_count": null,
      "outputs": []
    },
    {
      "cell_type": "code",
      "source": [],
      "metadata": {
        "id": "9WC7ds-ed62a"
      },
      "id": "9WC7ds-ed62a",
      "execution_count": null,
      "outputs": []
    },
    {
      "cell_type": "code",
      "source": [],
      "metadata": {
        "id": "BVf8FbPqd66t"
      },
      "id": "BVf8FbPqd66t",
      "execution_count": null,
      "outputs": []
    },
    {
      "cell_type": "code",
      "source": [],
      "metadata": {
        "id": "yHp-A7XWd6_x"
      },
      "id": "yHp-A7XWd6_x",
      "execution_count": null,
      "outputs": []
    },
    {
      "cell_type": "code",
      "source": [],
      "metadata": {
        "id": "F00jaKB1d7EW"
      },
      "id": "F00jaKB1d7EW",
      "execution_count": null,
      "outputs": []
    },
    {
      "cell_type": "code",
      "source": [],
      "metadata": {
        "id": "Pn31oFD-d7I2"
      },
      "id": "Pn31oFD-d7I2",
      "execution_count": null,
      "outputs": []
    },
    {
      "cell_type": "code",
      "source": [],
      "metadata": {
        "id": "AWoRADKVd7Ny"
      },
      "id": "AWoRADKVd7Ny",
      "execution_count": null,
      "outputs": []
    },
    {
      "cell_type": "code",
      "source": [],
      "metadata": {
        "id": "LMLW1s2ad7Sd"
      },
      "id": "LMLW1s2ad7Sd",
      "execution_count": null,
      "outputs": []
    },
    {
      "cell_type": "code",
      "source": [],
      "metadata": {
        "id": "OlQlpjord7XZ"
      },
      "id": "OlQlpjord7XZ",
      "execution_count": null,
      "outputs": []
    },
    {
      "cell_type": "code",
      "source": [],
      "metadata": {
        "id": "-7wtP-rBd7cF"
      },
      "id": "-7wtP-rBd7cF",
      "execution_count": null,
      "outputs": []
    },
    {
      "cell_type": "code",
      "source": [],
      "metadata": {
        "id": "OEY_sAfnd7ge"
      },
      "id": "OEY_sAfnd7ge",
      "execution_count": null,
      "outputs": []
    },
    {
      "cell_type": "code",
      "source": [],
      "metadata": {
        "id": "I6CNYnkMd_vV"
      },
      "id": "I6CNYnkMd_vV",
      "execution_count": null,
      "outputs": []
    },
    {
      "cell_type": "code",
      "source": [],
      "metadata": {
        "id": "lt_zq3psd_z2"
      },
      "id": "lt_zq3psd_z2",
      "execution_count": null,
      "outputs": []
    },
    {
      "cell_type": "code",
      "source": [],
      "metadata": {
        "id": "Q_34SRz_d_4w"
      },
      "id": "Q_34SRz_d_4w",
      "execution_count": null,
      "outputs": []
    },
    {
      "cell_type": "code",
      "source": [],
      "metadata": {
        "id": "IN2QUhHtd_9r"
      },
      "id": "IN2QUhHtd_9r",
      "execution_count": null,
      "outputs": []
    },
    {
      "cell_type": "code",
      "source": [],
      "metadata": {
        "id": "S_glzpK6eAC-"
      },
      "id": "S_glzpK6eAC-",
      "execution_count": null,
      "outputs": []
    },
    {
      "cell_type": "code",
      "source": [],
      "metadata": {
        "id": "wr5bebYgeAH9"
      },
      "id": "wr5bebYgeAH9",
      "execution_count": null,
      "outputs": []
    },
    {
      "cell_type": "code",
      "source": [],
      "metadata": {
        "id": "BgR_Wv4EefuO"
      },
      "id": "BgR_Wv4EefuO",
      "execution_count": null,
      "outputs": []
    },
    {
      "cell_type": "code",
      "source": [],
      "metadata": {
        "id": "Wgm94Bj8efy4"
      },
      "id": "Wgm94Bj8efy4",
      "execution_count": null,
      "outputs": []
    },
    {
      "cell_type": "code",
      "source": [],
      "metadata": {
        "id": "my3EwQp6ef3i"
      },
      "id": "my3EwQp6ef3i",
      "execution_count": null,
      "outputs": []
    },
    {
      "cell_type": "code",
      "source": [],
      "metadata": {
        "id": "HD_DxrSnef8N"
      },
      "id": "HD_DxrSnef8N",
      "execution_count": null,
      "outputs": []
    },
    {
      "cell_type": "code",
      "source": [],
      "metadata": {
        "id": "dfYcY6XqegBN"
      },
      "id": "dfYcY6XqegBN",
      "execution_count": null,
      "outputs": []
    },
    {
      "cell_type": "code",
      "source": [],
      "metadata": {
        "id": "044u6xwDegFr"
      },
      "id": "044u6xwDegFr",
      "execution_count": null,
      "outputs": []
    },
    {
      "cell_type": "code",
      "source": [],
      "metadata": {
        "id": "MuLHUCMkegKb"
      },
      "id": "MuLHUCMkegKb",
      "execution_count": null,
      "outputs": []
    },
    {
      "cell_type": "code",
      "source": [],
      "metadata": {
        "id": "YKbYNZ3megPY"
      },
      "id": "YKbYNZ3megPY",
      "execution_count": null,
      "outputs": []
    },
    {
      "cell_type": "code",
      "source": [],
      "metadata": {
        "id": "kJ6H4wFPegUZ"
      },
      "id": "kJ6H4wFPegUZ",
      "execution_count": null,
      "outputs": []
    },
    {
      "cell_type": "code",
      "source": [],
      "metadata": {
        "id": "UaKDcMp2egYp"
      },
      "id": "UaKDcMp2egYp",
      "execution_count": null,
      "outputs": []
    },
    {
      "cell_type": "code",
      "source": [],
      "metadata": {
        "id": "YtfQBj3oegdU"
      },
      "id": "YtfQBj3oegdU",
      "execution_count": null,
      "outputs": []
    },
    {
      "cell_type": "code",
      "source": [],
      "metadata": {
        "id": "SIMMTRnIegiF"
      },
      "id": "SIMMTRnIegiF",
      "execution_count": null,
      "outputs": []
    },
    {
      "cell_type": "code",
      "source": [],
      "metadata": {
        "id": "N7kQ4HK7ejqL"
      },
      "id": "N7kQ4HK7ejqL",
      "execution_count": null,
      "outputs": []
    },
    {
      "cell_type": "code",
      "source": [],
      "metadata": {
        "id": "ZTu6v09keju0"
      },
      "id": "ZTu6v09keju0",
      "execution_count": null,
      "outputs": []
    },
    {
      "cell_type": "code",
      "source": [],
      "metadata": {
        "id": "1F48fy0Aejza"
      },
      "id": "1F48fy0Aejza",
      "execution_count": null,
      "outputs": []
    },
    {
      "cell_type": "code",
      "source": [],
      "metadata": {
        "id": "QdUEf-d3ej4G"
      },
      "id": "QdUEf-d3ej4G",
      "execution_count": null,
      "outputs": []
    },
    {
      "cell_type": "code",
      "source": [],
      "metadata": {
        "id": "QxxF0cl_ej8-"
      },
      "id": "QxxF0cl_ej8-",
      "execution_count": null,
      "outputs": []
    },
    {
      "cell_type": "code",
      "source": [],
      "metadata": {
        "id": "Jlw8Vf9wekBk"
      },
      "id": "Jlw8Vf9wekBk",
      "execution_count": null,
      "outputs": []
    },
    {
      "cell_type": "code",
      "source": [],
      "metadata": {
        "id": "z4a7QrorekGS"
      },
      "id": "z4a7QrorekGS",
      "execution_count": null,
      "outputs": []
    },
    {
      "cell_type": "code",
      "source": [],
      "metadata": {
        "id": "m5aXWq13ekKy"
      },
      "id": "m5aXWq13ekKy",
      "execution_count": null,
      "outputs": []
    },
    {
      "cell_type": "code",
      "source": [],
      "metadata": {
        "id": "LxdFF_sMekPl"
      },
      "id": "LxdFF_sMekPl",
      "execution_count": null,
      "outputs": []
    },
    {
      "cell_type": "code",
      "source": [],
      "metadata": {
        "id": "1DJygHfYekUg"
      },
      "id": "1DJygHfYekUg",
      "execution_count": null,
      "outputs": []
    }
  ],
  "metadata": {
    "kernelspec": {
      "display_name": "R",
      "language": "R",
      "name": "ir"
    },
    "language_info": {
      "codemirror_mode": "r",
      "file_extension": ".r",
      "mimetype": "text/x-r-source",
      "name": "R",
      "pygments_lexer": "r",
      "version": "3.6.1"
    },
    "colab": {
      "provenance": []
    }
  },
  "nbformat": 4,
  "nbformat_minor": 5
}